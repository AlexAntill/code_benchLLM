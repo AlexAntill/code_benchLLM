{
 "cells": [
  {
   "cell_type": "markdown",
   "id": "c10ef9b7-2644-4e9e-b606-951a46c30741",
   "metadata": {},
   "source": [
    "# Background Information\n",
    "\n",
    "In this notebook I will set up a basic flow for uploading and dowloading files. Formating datasets and ultimately running cytetype."
   ]
  },
  {
   "cell_type": "code",
   "execution_count": 41,
   "id": "d60fdade-301f-4be5-aede-eb66b7ed7e41",
   "metadata": {},
   "outputs": [
    {
     "data": {
      "text/plain": [
       "True"
      ]
     },
     "execution_count": 41,
     "metadata": {},
     "output_type": "execute_result"
    }
   ],
   "source": [
    "# Importing Require Libraries\n",
    "import cytetype\n",
    "import scanpy as sc\n",
    "import session_info\n",
    "import pandas as pd\n",
    "import os\n",
    "import numpy as np\n",
    "from dotenv import load_dotenv\n",
    "\n",
    "load_dotenv()"
   ]
  },
  {
   "cell_type": "code",
   "execution_count": 27,
   "id": "9c67fbd3-b6f9-4ee9-8dcf-588479c9c267",
   "metadata": {},
   "outputs": [
    {
     "name": "stderr",
     "output_type": "stream",
     "text": [
      "/Users/alexantill/Göran_Karlsson_Lab/code_benchLLM/.venv/lib/python3.12/site-packages/session_info/main.py:213: UserWarning: The '__version__' attribute is deprecated and will be removed in MarkupSafe 3.1. Use feature detection, or `importlib.metadata.version(\"markupsafe\")`, instead.\n",
      "  mod_version = _find_version(mod.__version__)\n"
     ]
    },
    {
     "data": {
      "text/html": [
       "<details>\n",
       "<summary>Click to view session information</summary>\n",
       "<pre>\n",
       "-----\n",
       "anndata             0.11.4\n",
       "cytetype            0.2.1\n",
       "numpy               2.2.6\n",
       "pandas              2.2.3\n",
       "scanpy              1.11.1\n",
       "session_info        v1.0.1\n",
       "-----\n",
       "</pre>\n",
       "<details>\n",
       "<summary>Click to view modules imported as dependencies</summary>\n",
       "<pre>\n",
       "PIL                         11.2.1\n",
       "annotated_types             0.7.0\n",
       "anyio                       NA\n",
       "appnope                     0.1.4\n",
       "arrow                       1.3.0\n",
       "asttokens                   NA\n",
       "attr                        25.3.0\n",
       "attrs                       25.3.0\n",
       "babel                       2.17.0\n",
       "certifi                     2025.04.26\n",
       "cffi                        1.17.1\n",
       "charset_normalizer          3.4.2\n",
       "comm                        0.2.2\n",
       "cycler                      0.12.1\n",
       "cython_runtime              NA\n",
       "dateutil                    2.9.0.post0\n",
       "debugpy                     1.8.14\n",
       "decorator                   5.2.1\n",
       "defusedxml                  0.7.1\n",
       "executing                   2.2.0\n",
       "fastjsonschema              NA\n",
       "fqdn                        NA\n",
       "h5py                        3.13.0\n",
       "idna                        3.10\n",
       "ipykernel                   6.29.5\n",
       "isoduration                 NA\n",
       "jedi                        0.19.2\n",
       "jinja2                      3.1.6\n",
       "joblib                      1.5.1\n",
       "json5                       0.12.0\n",
       "jsonpointer                 3.0.0\n",
       "jsonschema                  4.23.0\n",
       "jsonschema_specifications   NA\n",
       "jupyter_events              0.12.0\n",
       "jupyter_server              2.16.0\n",
       "jupyterlab_server           2.27.3\n",
       "kiwisolver                  1.4.8\n",
       "legacy_api_wrap             NA\n",
       "llvmlite                    0.44.0\n",
       "loguru                      0.7.3\n",
       "markupsafe                  3.0.2\n",
       "matplotlib                  3.10.3\n",
       "mpl_toolkits                NA\n",
       "natsort                     8.4.0\n",
       "nbformat                    5.10.4\n",
       "numba                       0.61.2\n",
       "overrides                   NA\n",
       "packaging                   25.0\n",
       "parso                       0.8.4\n",
       "patsy                       1.0.1\n",
       "platformdirs                4.3.8\n",
       "prometheus_client           NA\n",
       "prompt_toolkit              3.0.51\n",
       "psutil                      7.0.0\n",
       "pure_eval                   0.2.3\n",
       "pycparser                   2.22\n",
       "pydantic                    2.11.5\n",
       "pydantic_core               2.33.2\n",
       "pydev_ipython               NA\n",
       "pydevconsole                NA\n",
       "pydevd                      3.2.3\n",
       "pydevd_file_utils           NA\n",
       "pydevd_plugins              NA\n",
       "pydevd_tracing              NA\n",
       "pygments                    2.19.1\n",
       "pyparsing                   3.2.3\n",
       "pythonjsonlogger            NA\n",
       "pytz                        2025.2\n",
       "referencing                 NA\n",
       "requests                    2.32.3\n",
       "rfc3339_validator           0.1.4\n",
       "rfc3986_validator           0.1.1\n",
       "rpds                        NA\n",
       "scipy                       1.15.3\n",
       "send2trash                  NA\n",
       "six                         1.17.0\n",
       "sklearn                     1.5.2\n",
       "sniffio                     1.3.1\n",
       "stack_data                  0.6.3\n",
       "statsmodels                 0.14.4\n",
       "threadpoolctl               3.6.0\n",
       "tornado                     6.5.1\n",
       "traitlets                   5.14.3\n",
       "typing_extensions           NA\n",
       "typing_inspection           NA\n",
       "uri_template                NA\n",
       "urllib3                     2.4.0\n",
       "wcwidth                     0.2.13\n",
       "webcolors                   NA\n",
       "websocket                   1.8.0\n",
       "yaml                        6.0.2\n",
       "zmq                         26.4.0\n",
       "zoneinfo                    NA\n",
       "</pre>\n",
       "</details> <!-- seems like this ends pre, so might as well be explicit -->\n",
       "<pre>\n",
       "-----\n",
       "IPython             9.2.0\n",
       "jupyter_client      8.6.3\n",
       "jupyter_core        5.7.2\n",
       "jupyterlab          4.4.2\n",
       "-----\n",
       "Python 3.12.10 | packaged by conda-forge | (main, Apr 10 2025, 22:19:24) [Clang 18.1.8 ]\n",
       "macOS-15.3.2-arm64-arm-64bit\n",
       "-----\n",
       "Session information updated at 2025-05-26 14:25\n",
       "</pre>\n",
       "</details>"
      ],
      "text/plain": [
       "<IPython.core.display.HTML object>"
      ]
     },
     "execution_count": 27,
     "metadata": {},
     "output_type": "execute_result"
    }
   ],
   "source": [
    "# Session Info\n",
    "session_info.show()"
   ]
  },
  {
   "cell_type": "code",
   "execution_count": 3,
   "id": "4d19311e-9227-4f7c-81fd-1dfbc85fd9b6",
   "metadata": {},
   "outputs": [],
   "source": [
    "# Importing AnnData file\n",
    "# File Path\n",
    "file_path_Simone = os.path.expanduser(\"~/Göran_Karlsson_Lab/benchLLM/Simone_et_al/7d821d98-5b42-4480-8173-641c1b37b237.h5ad\")\n",
    "# AnnData Read In\n",
    "adata = sc.read_h5ad(file_path_Simone)"
   ]
  },
  {
   "cell_type": "code",
   "execution_count": 4,
   "id": "fe284f8c-39a5-498a-a7db-706129a62824",
   "metadata": {},
   "outputs": [
    {
     "name": "stderr",
     "output_type": "stream",
     "text": [
      "/Users/alexantill/Göran_Karlsson_Lab/code_benchLLM/.venv/lib/python3.12/site-packages/scanpy/preprocessing/_normalization.py:243: UserWarning: Some cells have zero counts\n",
      "  warn(UserWarning(\"Some cells have zero counts\"))\n",
      "/Users/alexantill/Göran_Karlsson_Lab/code_benchLLM/.venv/lib/python3.12/site-packages/scanpy/preprocessing/_simple.py:387: RuntimeWarning: invalid value encountered in log1p\n",
      "  np.log1p(X, out=X)\n"
     ]
    }
   ],
   "source": [
    "# Normalize (10,000 Counts per Cell)\n",
    "sc.pp.normalize_total(adata, target_sum=1e4)\n",
    "\n",
    "# Log1p transform\n",
    "sc.pp.log1p(adata)"
   ]
  },
  {
   "cell_type": "code",
   "execution_count": 26,
   "id": "568c4832-f22b-4d98-bdcf-634e3bc62d53",
   "metadata": {},
   "outputs": [
    {
     "name": "stdout",
     "output_type": "stream",
     "text": [
      "Min: nan\n",
      "Any NaNs in sparse data? True\n",
      "Any Infs in sparse data? False\n"
     ]
    }
   ],
   "source": [
    "# Explore log1p Error (It is due to NaNs)\n",
    "print(\"Min:\", np.min(adata.X))\n",
    "print(\"Any NaNs in sparse data?\", np.isnan(adata.X.data).any())\n",
    "print(\"Any Infs in sparse data?\", np.isinf(adata.X.data).any())"
   ]
  },
  {
   "cell_type": "code",
   "execution_count": 9,
   "id": "55d052cb-b53a-4d33-82f0-329f3c000c9a",
   "metadata": {},
   "outputs": [
    {
     "name": "stdout",
     "output_type": "stream",
     "text": [
      "WARNING: It seems you use rank_genes_groups on the raw count data. Please logarithmize your data before calling rank_genes_groups.\n"
     ]
    }
   ],
   "source": [
    "# Find Most Up/Down Regulated Genes \n",
    "sc.tl.rank_genes_groups(adata, groupby='cell_type', method='t-test', key_added = 'Rank_Genes_cell_type')  # try 'wilcoxon' if accurate\n"
   ]
  },
  {
   "cell_type": "code",
   "execution_count": 10,
   "id": "b963f7b3-dc9b-4ad8-ac1a-475fdd2a82a5",
   "metadata": {},
   "outputs": [
    {
     "name": "stdout",
     "output_type": "stream",
     "text": [
      "{'B cell': array(['ENSG00000105369', 'ENSG00000153064', 'ENSG00000156738',\n",
      "       'ENSG00000196092', 'ENSG00000007312', 'ENSG00000116191',\n",
      "       'ENSG00000161405', 'ENSG00000023445', 'ENSG00000163534',\n",
      "       'ENSG00000042980'], dtype=object), 'CD4-positive, alpha-beta T cell': array(['ENSG00000167286', 'ENSG00000127152', 'ENSG00000198851',\n",
      "       'ENSG00000182866', 'ENSG00000111716', 'ENSG00000160654',\n",
      "       'ENSG00000152495', 'ENSG00000168685', 'ENSG00000168421',\n",
      "       'ENSG00000134954'], dtype=object), 'CD14-positive monocyte': array(['ENSG00000038427', 'ENSG00000163563', 'ENSG00000119535',\n",
      "       'ENSG00000143546', 'ENSG00000135218', 'ENSG00000106780',\n",
      "       'ENSG00000084234', 'ENSG00000090382', 'ENSG00000163220',\n",
      "       'ENSG00000169403'], dtype=object), 'CD14-low, CD16-positive monocyte': array(['ENSG00000129757', 'ENSG00000148737', 'ENSG00000170873',\n",
      "       'ENSG00000204482', 'ENSG00000203747', 'ENSG00000254087',\n",
      "       'ENSG00000103187', 'ENSG00000104763', 'ENSG00000185201',\n",
      "       'ENSG00000028277'], dtype=object), 'cytotoxic T cell': array(['ENSG00000271503', 'ENSG00000077984', 'ENSG00000145649',\n",
      "       'ENSG00000167286', 'ENSG00000113088', 'ENSG00000198851',\n",
      "       'ENSG00000182866', 'ENSG00000160654', 'ENSG00000008517',\n",
      "       'ENSG00000105374'], dtype=object), 'dendritic cell': array(['ENSG00000243678', 'ENSG00000114942', 'ENSG00000196262',\n",
      "       'ENSG00000204628', 'ENSG00000169567', 'ENSG00000169100',\n",
      "       'ENSG00000184009', 'ENSG00000057608', 'ENSG00000205581',\n",
      "       'ENSG00000113648'], dtype=object), 'megakaryocyte': array(['ENSG00000127920', 'ENSG00000271503', 'ENSG00000161911',\n",
      "       'ENSG00000168497', 'ENSG00000158710', 'ENSG00000169704',\n",
      "       'ENSG00000127824', 'ENSG00000166681', 'ENSG00000148908',\n",
      "       'ENSG00000163736'], dtype=object), 'natural killer cell': array(['ENSG00000115523', 'ENSG00000105374', 'ENSG00000145649',\n",
      "       'ENSG00000077984', 'ENSG00000150045', 'ENSG00000198821',\n",
      "       'ENSG00000137441', 'ENSG00000134539', 'ENSG00000172543',\n",
      "       'ENSG00000111796'], dtype=object), 'plasmacytoid dendritic cell': array(['ENSG00000196628', 'ENSG00000152492', 'ENSG00000095585',\n",
      "       'ENSG00000142192', 'ENSG00000119866', 'ENSG00000198286',\n",
      "       'ENSG00000198087', 'ENSG00000167483', 'ENSG00000148154',\n",
      "       'ENSG00000235162'], dtype=object), 'unknown': array(['ENSG00000198382', 'ENSG00000135905', 'ENSG00000139970',\n",
      "       'ENSG00000115232', 'ENSG00000150867', 'ENSG00000042980',\n",
      "       'ENSG00000048740', 'ENSG00000107263', 'ENSG00000127946',\n",
      "       'ENSG00000183049'], dtype=object)}\n"
     ]
    }
   ],
   "source": [
    "\n",
    "result = adata.uns['Rank_Genes_cell_type']\n",
    "groups = result['names'].dtype.names\n",
    "\n",
    "top_genes_per_cluster = {group: result['names'][group][:10] for group in groups}\n",
    "print(top_genes_per_cluster)"
   ]
  },
  {
   "cell_type": "code",
   "execution_count": 11,
   "id": "b835c9a9-75f2-4cb5-b424-928c0311f47d",
   "metadata": {},
   "outputs": [
    {
     "data": {
      "text/html": [
       "<div>\n",
       "<style scoped>\n",
       "    .dataframe tbody tr th:only-of-type {\n",
       "        vertical-align: middle;\n",
       "    }\n",
       "\n",
       "    .dataframe tbody tr th {\n",
       "        vertical-align: top;\n",
       "    }\n",
       "\n",
       "    .dataframe thead th {\n",
       "        text-align: right;\n",
       "    }\n",
       "</style>\n",
       "<table border=\"1\" class=\"dataframe\">\n",
       "  <thead>\n",
       "    <tr style=\"text-align: right;\">\n",
       "      <th></th>\n",
       "      <th>gene_name</th>\n",
       "      <th>highly_deviant</th>\n",
       "      <th>feature_is_filtered</th>\n",
       "      <th>feature_name</th>\n",
       "      <th>feature_reference</th>\n",
       "      <th>feature_biotype</th>\n",
       "      <th>feature_length</th>\n",
       "      <th>feature_type</th>\n",
       "    </tr>\n",
       "    <tr>\n",
       "      <th>Ensemble_ID</th>\n",
       "      <th></th>\n",
       "      <th></th>\n",
       "      <th></th>\n",
       "      <th></th>\n",
       "      <th></th>\n",
       "      <th></th>\n",
       "      <th></th>\n",
       "      <th></th>\n",
       "    </tr>\n",
       "  </thead>\n",
       "  <tbody>\n",
       "    <tr>\n",
       "      <th>ENSG00000188976</th>\n",
       "      <td>NOC2L</td>\n",
       "      <td>False</td>\n",
       "      <td>False</td>\n",
       "      <td>NOC2L_ENSG00000188976</td>\n",
       "      <td>NCBITaxon:9606</td>\n",
       "      <td>gene</td>\n",
       "      <td>1244</td>\n",
       "      <td>protein_coding</td>\n",
       "    </tr>\n",
       "    <tr>\n",
       "      <th>ENSG00000187961</th>\n",
       "      <td>KLHL17</td>\n",
       "      <td>False</td>\n",
       "      <td>False</td>\n",
       "      <td>KLHL17_ENSG00000187961</td>\n",
       "      <td>NCBITaxon:9606</td>\n",
       "      <td>gene</td>\n",
       "      <td>934</td>\n",
       "      <td>protein_coding</td>\n",
       "    </tr>\n",
       "    <tr>\n",
       "      <th>ENSG00000187583</th>\n",
       "      <td>PLEKHN1</td>\n",
       "      <td>False</td>\n",
       "      <td>False</td>\n",
       "      <td>PLEKHN1_ENSG00000187583</td>\n",
       "      <td>NCBITaxon:9606</td>\n",
       "      <td>gene</td>\n",
       "      <td>2194</td>\n",
       "      <td>protein_coding</td>\n",
       "    </tr>\n",
       "    <tr>\n",
       "      <th>ENSG00000188290</th>\n",
       "      <td>HES4</td>\n",
       "      <td>False</td>\n",
       "      <td>False</td>\n",
       "      <td>HES4_ENSG00000188290</td>\n",
       "      <td>NCBITaxon:9606</td>\n",
       "      <td>gene</td>\n",
       "      <td>961</td>\n",
       "      <td>protein_coding</td>\n",
       "    </tr>\n",
       "    <tr>\n",
       "      <th>ENSG00000187608</th>\n",
       "      <td>ISG15</td>\n",
       "      <td>True</td>\n",
       "      <td>False</td>\n",
       "      <td>ISG15_ENSG00000187608</td>\n",
       "      <td>NCBITaxon:9606</td>\n",
       "      <td>gene</td>\n",
       "      <td>657</td>\n",
       "      <td>protein_coding</td>\n",
       "    </tr>\n",
       "    <tr>\n",
       "      <th>...</th>\n",
       "      <td>...</td>\n",
       "      <td>...</td>\n",
       "      <td>...</td>\n",
       "      <td>...</td>\n",
       "      <td>...</td>\n",
       "      <td>...</td>\n",
       "      <td>...</td>\n",
       "      <td>...</td>\n",
       "    </tr>\n",
       "    <tr>\n",
       "      <th>ENSG00000212907</th>\n",
       "      <td>MT-ND4L</td>\n",
       "      <td>True</td>\n",
       "      <td>False</td>\n",
       "      <td>MT-ND4L_ENSG00000212907</td>\n",
       "      <td>NCBITaxon:9606</td>\n",
       "      <td>gene</td>\n",
       "      <td>297</td>\n",
       "      <td>protein_coding</td>\n",
       "    </tr>\n",
       "    <tr>\n",
       "      <th>ENSG00000198886</th>\n",
       "      <td>MT-ND4</td>\n",
       "      <td>True</td>\n",
       "      <td>False</td>\n",
       "      <td>MT-ND4_ENSG00000198886</td>\n",
       "      <td>NCBITaxon:9606</td>\n",
       "      <td>gene</td>\n",
       "      <td>1378</td>\n",
       "      <td>protein_coding</td>\n",
       "    </tr>\n",
       "    <tr>\n",
       "      <th>ENSG00000198786</th>\n",
       "      <td>MT-ND5</td>\n",
       "      <td>True</td>\n",
       "      <td>False</td>\n",
       "      <td>MT-ND5_ENSG00000198786</td>\n",
       "      <td>NCBITaxon:9606</td>\n",
       "      <td>gene</td>\n",
       "      <td>1812</td>\n",
       "      <td>protein_coding</td>\n",
       "    </tr>\n",
       "    <tr>\n",
       "      <th>ENSG00000198695</th>\n",
       "      <td>MT-ND6</td>\n",
       "      <td>False</td>\n",
       "      <td>False</td>\n",
       "      <td>MT-ND6_ENSG00000198695</td>\n",
       "      <td>NCBITaxon:9606</td>\n",
       "      <td>gene</td>\n",
       "      <td>525</td>\n",
       "      <td>protein_coding</td>\n",
       "    </tr>\n",
       "    <tr>\n",
       "      <th>ENSG00000198727</th>\n",
       "      <td>MT-CYB</td>\n",
       "      <td>True</td>\n",
       "      <td>False</td>\n",
       "      <td>MT-CYB_ENSG00000198727</td>\n",
       "      <td>NCBITaxon:9606</td>\n",
       "      <td>gene</td>\n",
       "      <td>1141</td>\n",
       "      <td>protein_coding</td>\n",
       "    </tr>\n",
       "  </tbody>\n",
       "</table>\n",
       "<p>11182 rows × 8 columns</p>\n",
       "</div>"
      ],
      "text/plain": [
       "                gene_name  highly_deviant  feature_is_filtered  \\\n",
       "Ensemble_ID                                                      \n",
       "ENSG00000188976     NOC2L           False                False   \n",
       "ENSG00000187961    KLHL17           False                False   \n",
       "ENSG00000187583   PLEKHN1           False                False   \n",
       "ENSG00000188290      HES4           False                False   \n",
       "ENSG00000187608     ISG15            True                False   \n",
       "...                   ...             ...                  ...   \n",
       "ENSG00000212907   MT-ND4L            True                False   \n",
       "ENSG00000198886    MT-ND4            True                False   \n",
       "ENSG00000198786    MT-ND5            True                False   \n",
       "ENSG00000198695    MT-ND6           False                False   \n",
       "ENSG00000198727    MT-CYB            True                False   \n",
       "\n",
       "                            feature_name feature_reference feature_biotype  \\\n",
       "Ensemble_ID                                                                  \n",
       "ENSG00000188976    NOC2L_ENSG00000188976    NCBITaxon:9606            gene   \n",
       "ENSG00000187961   KLHL17_ENSG00000187961    NCBITaxon:9606            gene   \n",
       "ENSG00000187583  PLEKHN1_ENSG00000187583    NCBITaxon:9606            gene   \n",
       "ENSG00000188290     HES4_ENSG00000188290    NCBITaxon:9606            gene   \n",
       "ENSG00000187608    ISG15_ENSG00000187608    NCBITaxon:9606            gene   \n",
       "...                                  ...               ...             ...   \n",
       "ENSG00000212907  MT-ND4L_ENSG00000212907    NCBITaxon:9606            gene   \n",
       "ENSG00000198886   MT-ND4_ENSG00000198886    NCBITaxon:9606            gene   \n",
       "ENSG00000198786   MT-ND5_ENSG00000198786    NCBITaxon:9606            gene   \n",
       "ENSG00000198695   MT-ND6_ENSG00000198695    NCBITaxon:9606            gene   \n",
       "ENSG00000198727   MT-CYB_ENSG00000198727    NCBITaxon:9606            gene   \n",
       "\n",
       "                feature_length    feature_type  \n",
       "Ensemble_ID                                     \n",
       "ENSG00000188976           1244  protein_coding  \n",
       "ENSG00000187961            934  protein_coding  \n",
       "ENSG00000187583           2194  protein_coding  \n",
       "ENSG00000188290            961  protein_coding  \n",
       "ENSG00000187608            657  protein_coding  \n",
       "...                        ...             ...  \n",
       "ENSG00000212907            297  protein_coding  \n",
       "ENSG00000198886           1378  protein_coding  \n",
       "ENSG00000198786           1812  protein_coding  \n",
       "ENSG00000198695            525  protein_coding  \n",
       "ENSG00000198727           1141  protein_coding  \n",
       "\n",
       "[11182 rows x 8 columns]"
      ]
     },
     "execution_count": 11,
     "metadata": {},
     "output_type": "execute_result"
    }
   ],
   "source": [
    "adata.var"
   ]
  },
  {
   "cell_type": "code",
   "execution_count": 12,
   "id": "0308d7e3-5041-4940-9070-5ed5085937f4",
   "metadata": {},
   "outputs": [
    {
     "name": "stdout",
     "output_type": "stream",
     "text": [
      "Calculating expression percentages.\n",
      "Extracting marker genes.\n",
      "Data preparation completed. Ready for annotation.\n"
     ]
    }
   ],
   "source": [
    "annotator = cytetype.CyteType(adata, cell_group_key = 'cell_type', rank_genes_key = 'Rank_Genes_cell_type', gene_symbols_column_name = 'gene_name')"
   ]
  },
  {
   "cell_type": "code",
   "execution_count": null,
   "id": "2d1a5f7e-b80b-45b9-b9cf-2496d9845d07",
   "metadata": {},
   "outputs": [],
   "source": []
  },
  {
   "cell_type": "code",
   "execution_count": 43,
   "id": "c651ffee-c15a-4989-8cc5-1b9ad41e76f3",
   "metadata": {},
   "outputs": [
    {
     "name": "stdout",
     "output_type": "stream",
     "text": [
      "Waiting for results for job ID: a51a21ac-8847-4013-b656-cf434b53a289\n",
      "View the automatically updating visualization report at: https://nygen-labs-prod--cell-annotation-agent-fastapi-app.modal.run/report/a51a21ac-8847-4013-b656-cf434b53a289\n",
      "250526:1450:12 |INFO| [STARTING WORKFLOWS]: Job ID: a51a21ac-8847-4013-b656-cf434b53a289\n",
      "250526:1450:12 |INFO| [WORKFLOW STEP 1/3]: Generating context summary\n",
      "250526:1450:20 |INFO| [WORKFLOW STEP 2/3]: Running annotation, review, and ontology assignment\n",
      "250526:1450:21 |INFO| [Cluster: 1] Annotating cluster...\n",
      "250526:1450:22 |INFO| [Cluster: 10] Annotating cluster...\n",
      "250526:1450:23 |INFO| [Cluster: 2] Annotating cluster...\n",
      "250526:1450:23 |INFO| [Cluster: 3] Annotating cluster...\n",
      "250526:1450:24 |INFO| [Cluster: 4] Annotating cluster...\n",
      "250526:1450:28 |INFO| [Cluster: 1] Reviewing cluster annotation...\n",
      "250526:1450:28 |INFO| [Cluster: 4] Reviewing cluster annotation...\n",
      "250526:1450:30 |INFO| [Cluster: 1] Finding ontology term for annotation...\n",
      "250526:1450:30 |INFO| [Cluster: 4] Finding ontology term for annotation...\n",
      "250526:1450:30 |INFO| [Cluster: 10] Reviewing cluster annotation...\n",
      "250526:1450:31 |SUCCESS| [Cluster: 4] Annotation (meta-llama/llama-4-maverick) completed in 6.97s\n",
      "250526:1450:31 |INFO| [Cluster: 4] Saving partial result (1/10)\n",
      "250526:1450:33 |INFO| [Cluster: 5] Annotating cluster...\n",
      "250526:1450:33 |INFO| [Cluster: 3] Reviewing cluster annotation...\n",
      "250526:1450:33 |INFO| [Cluster: 2] Reviewing cluster annotation...\n",
      "250526:1450:33 |INFO| [Cluster: 10] Finding ontology term for annotation...\n",
      "250526:1450:33 |SUCCESS| [Cluster: 1] Annotation (meta-llama/llama-4-maverick) completed in 12.54s\n",
      "250526:1450:33 |INFO| [Cluster: 1] Saving partial result (2/10)\n",
      "250526:1450:35 |INFO| [Cluster: 6] Annotating cluster...\n",
      "250526:1450:35 |INFO| [Cluster: 2] Finding ontology term for annotation...\n",
      "250526:1450:37 |SUCCESS| [Cluster: 10] Annotation (meta-llama/llama-4-maverick) completed in 14.98s\n",
      "250526:1450:37 |INFO| [Cluster: 10] Saving partial result (3/10)\n",
      "250526:1450:39 |INFO| [Cluster: 7] Annotating cluster...\n",
      "250526:1450:39 |SUCCESS| [Cluster: 2] Annotation (meta-llama/llama-4-maverick) completed in 16.74s\n",
      "250526:1450:39 |INFO| [Cluster: 2] Saving partial result (4/10)\n",
      "250526:1450:41 |INFO| [Cluster: 8] Annotating cluster...\n",
      "250526:1450:43 |INFO| [Cluster: 6] Reviewing cluster annotation...\n",
      "250526:1450:44 |INFO| [Cluster: 5] Reviewing cluster annotation...\n",
      "250526:1450:45 |INFO| [Cluster: 6] Finding ontology term for annotation...\n",
      "250526:1450:46 |INFO| [Cluster: 5] Finding ontology term for annotation...\n",
      "250526:1450:46 |INFO| [Cluster: 8] Reviewing cluster annotation...\n",
      "250526:1450:47 |SUCCESS| [Cluster: 6] Annotation (meta-llama/llama-4-maverick) completed in 11.34s\n",
      "250526:1450:47 |INFO| [Cluster: 6] Saving partial result (5/10)\n",
      "250526:1450:49 |INFO| [Cluster: 9] Annotating cluster...\n",
      "250526:1450:49 |INFO| [Cluster: 8] Finding ontology term for annotation...\n",
      "250526:1450:49 |INFO| [Cluster: 7] Reviewing cluster annotation...\n",
      "250526:1450:50 |SUCCESS| [Cluster: 5] Annotation (meta-llama/llama-4-maverick) completed in 16.87s\n",
      "250526:1450:50 |INFO| [Cluster: 5] Saving partial result (6/10)\n",
      "250526:1450:51 |SUCCESS| [Cluster: 8] Annotation (meta-llama/llama-4-maverick) completed in 9.73s\n",
      "250526:1450:51 |INFO| [Cluster: 8] Saving partial result (7/10)\n",
      "250526:1450:51 |INFO| [Cluster: 7] Finding ontology term for annotation...\n",
      "250526:1450:53 |SUCCESS| [Cluster: 7] Annotation (meta-llama/llama-4-maverick) completed in 13.78s\n",
      "250526:1450:53 |INFO| [Cluster: 7] Saving partial result (8/10)\n",
      "250526:1450:57 |INFO| [Cluster: 9] Reviewing cluster annotation...\n",
      "250526:1450:58 |INFO| [Cluster: 9] Finding ontology term for annotation...\n",
      "250526:1451:00 |SUCCESS| [Cluster: 9] Annotation (meta-llama/llama-4-maverick) completed in 11.24s\n",
      "250526:1451:00 |INFO| [Cluster: 9] Saving partial result (9/10)\n",
      "250526:1451:01 |INFO| [Cluster: 3] Finding ontology term for annotation...\n",
      "250526:1451:02 |SUCCESS| [Cluster: 3] Annotation (meta-llama/llama-4-maverick) completed in 38.46s\n",
      "250526:1451:02 |INFO| [Cluster: 3] Saving partial result (10/10)\n",
      "250526:1451:03 |INFO| [WORKFLOW STEP 3/3]: Generating summary\n",
      "Annotation job a51a21ac-8847-4013-b656-cf434b53a289 completed successfully.\n",
      "Annotations successfully added to `adata.obs['CyteType_cell_type']` and `adata.uns['CyteType_results']`.\n"
     ]
    }
   ],
   "source": [
    "# Run annotation with custom model\n",
    "adata = annotator.run(\n",
    "    bio_context={\n",
    "        'organisms': ['Homo sapiens'],\n",
    "        'tissues': ['Bone Marrow']\n",
    "    },\n",
    "    model_config=[{\n",
    "        'provider': 'openai',\n",
    "        'name': 'meta-llama/llama-4-maverick',\n",
    "        'apiKey': os.environ.get('OPENROUTER_API_KEY'),\n",
    "        'baseUrl': \"https://openrouter.ai/api/v1\",\n",
    "    }] \n",
    ")"
   ]
  },
  {
   "cell_type": "code",
   "execution_count": null,
   "id": "71d13d8d-4aa5-4766-bc0a-9426562d735e",
   "metadata": {},
   "outputs": [],
   "source": []
  },
  {
   "cell_type": "code",
   "execution_count": null,
   "id": "d7e389b8-4213-4380-bb50-87c329e4a35c",
   "metadata": {},
   "outputs": [],
   "source": []
  },
  {
   "cell_type": "code",
   "execution_count": 14,
   "id": "0b70f9f5-0361-42b8-9869-77218f767eec",
   "metadata": {},
   "outputs": [
    {
     "data": {
      "text/plain": [
       "GATCACACACGGGTAA-1_10X_3-rep1     CD4-positive, alpha-beta T cell\n",
       "GTGTGGCTCTATTGTC-1_10X_3-rep1              CD14-positive monocyte\n",
       "CTCGAGGGTTCGGTTA-1_10X_3-rep1                       megakaryocyte\n",
       "TCTACATGTGTCCGGT-1_10X_3-rep1              CD14-positive monocyte\n",
       "GGTGAAGTCGTTCCTG-1_10X_3-rep1                 natural killer cell\n",
       "                                               ...               \n",
       "TTTTGCAAATTT_Scipio-rep2                   CD14-positive monocyte\n",
       "TTTTGGCCGACG_Scipio-rep2         CD14-low, CD16-positive monocyte\n",
       "TTTTGGCGGCCC_Scipio-rep2          CD4-positive, alpha-beta T cell\n",
       "TTTTGTAACTCA_Scipio-rep2                      natural killer cell\n",
       "TTTTTTTTTTTT_Scipio-rep2                   CD14-positive monocyte\n",
       "Name: cell_type, Length: 124132, dtype: category\n",
       "Categories (10, object): ['B cell', 'CD4-positive, alpha-beta T cell', 'CD14-positive monocyte', 'CD14-low, CD16-positive monocyte', ..., 'megakaryocyte', 'natural killer cell', 'plasmacytoid dendritic cell', 'unknown']"
      ]
     },
     "execution_count": 14,
     "metadata": {},
     "output_type": "execute_result"
    }
   ],
   "source": [
    "adata.obs.cell_type"
   ]
  },
  {
   "cell_type": "code",
   "execution_count": 32,
   "id": "da99936c-1d7d-4286-a311-c19b97f1560f",
   "metadata": {},
   "outputs": [
    {
     "data": {
      "text/plain": [
       "GATCACACACGGGTAA-1_10X_3-rep1                 T cell\n",
       "GTGTGGCTCTATTGTC-1_10X_3-rep1               Monocyte\n",
       "CTCGAGGGTTCGGTTA-1_10X_3-rep1               Platelet\n",
       "TCTACATGTGTCCGGT-1_10X_3-rep1               Monocyte\n",
       "GGTGAAGTCGTTCCTG-1_10X_3-rep1    Natural killer cell\n",
       "                                        ...         \n",
       "TTTTGCAAATTT_Scipio-rep2                    Monocyte\n",
       "TTTTGGCCGACG_Scipio-rep2                    Monocyte\n",
       "TTTTGGCGGCCC_Scipio-rep2                      T cell\n",
       "TTTTGTAACTCA_Scipio-rep2         Natural killer cell\n",
       "TTTTTTTTTTTT_Scipio-rep2                    Monocyte\n",
       "Name: CyteType_cell_type, Length: 124132, dtype: category\n",
       "Categories (8, object): ['Cytotoxic T cell', 'Dendritic cell', 'Monocyte', 'Naive B cell', 'Natural killer cell', 'Plasmacytoid dendritic cell', 'Platelet', 'T cell']"
      ]
     },
     "execution_count": 32,
     "metadata": {},
     "output_type": "execute_result"
    }
   ],
   "source": [
    "adata.obs['CyteType_cell_type']"
   ]
  },
  {
   "cell_type": "code",
   "execution_count": 44,
   "id": "753d016b-8448-4503-af4b-3869c3d41dba",
   "metadata": {},
   "outputs": [],
   "source": [
    "Author_vs_Llama4Mav = pd.crosstab(adata.obs.cell_type, adata.obs.CyteType_cell_type).T.idxmax()"
   ]
  },
  {
   "cell_type": "code",
   "execution_count": 39,
   "id": "b2395dbd-d361-454e-a1b6-50f45ea48323",
   "metadata": {},
   "outputs": [
    {
     "data": {
      "text/plain": [
       "{'B cell': '1',\n",
       " 'CD14-low, CD16-positive monocyte': '2',\n",
       " 'CD14-positive monocyte': '3',\n",
       " 'CD4-positive, alpha-beta T cell': '4',\n",
       " 'cytotoxic T cell': '5',\n",
       " 'dendritic cell': '6',\n",
       " 'megakaryocyte': '7',\n",
       " 'natural killer cell': '8',\n",
       " 'plasmacytoid dendritic cell': '9',\n",
       " 'unknown': '10'}"
      ]
     },
     "execution_count": 39,
     "metadata": {},
     "output_type": "execute_result"
    }
   ],
   "source": [
    "annotator.cluster_map"
   ]
  },
  {
   "cell_type": "code",
   "execution_count": 48,
   "id": "ca8a7579-bc35-4b3d-8359-8f68d191d011",
   "metadata": {},
   "outputs": [],
   "source": [
    "Author_vs_Llama4Mav.reset_index().to_csv(\"/Users/alexantill/Göran_Karlsson_Lab/benchLLM/Simone_et_al/author_vs_Llama4.csv\", index=False)"
   ]
  },
  {
   "cell_type": "code",
   "execution_count": 46,
   "id": "3a58c1bf-1a31-4e19-a791-9038ec623d21",
   "metadata": {},
   "outputs": [
    {
     "data": {
      "text/plain": [
       "cell_type\n",
       "B cell                                           B cell\n",
       "CD4-positive, alpha-beta T cell                  T cell\n",
       "CD14-positive monocyte                         Monocyte\n",
       "CD14-low, CD16-positive monocyte               Monocyte\n",
       "cytotoxic T cell                                 T cell\n",
       "dendritic cell                                 Monocyte\n",
       "megakaryocyte                             Megakaryocyte\n",
       "natural killer cell                 Natural Killer Cell\n",
       "plasmacytoid dendritic cell                      B cell\n",
       "unknown                                          B cell\n",
       "dtype: category\n",
       "Categories (5, object): ['B cell', 'Megakaryocyte', 'Monocyte', 'Natural Killer Cell', 'T cell']"
      ]
     },
     "execution_count": 46,
     "metadata": {},
     "output_type": "execute_result"
    }
   ],
   "source": [
    "Author_vs_Llama4Mav"
   ]
  }
 ],
 "metadata": {
  "kernelspec": {
   "display_name": "Python 3 (ipykernel)",
   "language": "python",
   "name": "python3"
  },
  "language_info": {
   "codemirror_mode": {
    "name": "ipython",
    "version": 3
   },
   "file_extension": ".py",
   "mimetype": "text/x-python",
   "name": "python",
   "nbconvert_exporter": "python",
   "pygments_lexer": "ipython3",
   "version": "3.12.10"
  }
 },
 "nbformat": 4,
 "nbformat_minor": 5
}
