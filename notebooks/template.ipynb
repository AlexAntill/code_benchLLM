{
 "cells": [
  {
   "cell_type": "markdown",
   "id": "c10ef9b7-2644-4e9e-b606-951a46c30741",
   "metadata": {},
   "source": [
    "# Background Information\n",
    "\n",
    "In this notebook I will set up a basic flow for uploading and dowloading files. Formating datasets and ultimately running cytetype."
   ]
  },
  {
   "cell_type": "code",
   "execution_count": 1,
   "id": "d60fdade-301f-4be5-aede-eb66b7ed7e41",
   "metadata": {},
   "outputs": [
    {
     "data": {
      "text/plain": [
       "True"
      ]
     },
     "execution_count": 1,
     "metadata": {},
     "output_type": "execute_result"
    }
   ],
   "source": [
    "# Importing Require Libraries\n",
    "import cytetype\n",
    "import scanpy as sc\n",
    "import session_info\n",
    "import pandas as pd\n",
    "import os\n",
    "import numpy as np\n",
    "from dotenv import load_dotenv\n",
    "\n",
    "load_dotenv()"
   ]
  },
  {
   "cell_type": "code",
   "execution_count": 3,
   "id": "9c67fbd3-b6f9-4ee9-8dcf-588479c9c267",
   "metadata": {},
   "outputs": [
    {
     "name": "stderr",
     "output_type": "stream",
     "text": [
      "/Users/alexantill/miniconda3/envs/benchLLM/lib/python3.12/site-packages/session_info/main.py:213: UserWarning: The '__version__' attribute is deprecated and will be removed in MarkupSafe 3.1. Use feature detection, or `importlib.metadata.version(\"markupsafe\")`, instead.\n",
      "  mod_version = _find_version(mod.__version__)\n"
     ]
    },
    {
     "data": {
      "text/html": [
       "<details>\n",
       "<summary>Click to view session information</summary>\n",
       "<pre>\n",
       "-----\n",
       "cytetype            0.3.4\n",
       "dotenv              NA\n",
       "numpy               2.2.6\n",
       "pandas              2.2.3\n",
       "scanpy              1.11.2\n",
       "session_info        v1.0.1\n",
       "-----\n",
       "</pre>\n",
       "<details>\n",
       "<summary>Click to view modules imported as dependencies</summary>\n",
       "<pre>\n",
       "PIL                         11.2.1\n",
       "anndata                     0.11.4\n",
       "annotated_types             0.7.0\n",
       "anyio                       NA\n",
       "appnope                     0.1.4\n",
       "arrow                       1.3.0\n",
       "asttokens                   NA\n",
       "attr                        25.3.0\n",
       "attrs                       25.3.0\n",
       "babel                       2.17.0\n",
       "certifi                     2025.04.26\n",
       "charset_normalizer          3.4.2\n",
       "comm                        0.2.2\n",
       "cycler                      0.12.1\n",
       "cython_runtime              NA\n",
       "dateutil                    2.9.0.post0\n",
       "debugpy                     1.8.14\n",
       "decorator                   5.2.1\n",
       "defusedxml                  0.7.1\n",
       "executing                   2.2.0\n",
       "fastjsonschema              NA\n",
       "fqdn                        NA\n",
       "h5py                        3.13.0\n",
       "idna                        3.10\n",
       "ipykernel                   6.29.5\n",
       "isoduration                 NA\n",
       "jedi                        0.19.2\n",
       "jinja2                      3.1.6\n",
       "joblib                      1.5.1\n",
       "json5                       0.12.0\n",
       "jsonpointer                 3.0.0\n",
       "jsonschema                  4.23.0\n",
       "jsonschema_specifications   NA\n",
       "jupyter_events              0.12.0\n",
       "jupyter_server              2.16.0\n",
       "jupyterlab_server           2.27.3\n",
       "kiwisolver                  1.4.8\n",
       "legacy_api_wrap             NA\n",
       "llvmlite                    0.44.0\n",
       "loguru                      0.7.3\n",
       "markupsafe                  3.0.2\n",
       "matplotlib                  3.10.3\n",
       "mpl_toolkits                NA\n",
       "natsort                     8.4.0\n",
       "nbformat                    5.10.4\n",
       "numba                       0.61.2\n",
       "overrides                   NA\n",
       "packaging                   25.0\n",
       "parso                       0.8.4\n",
       "platformdirs                4.3.8\n",
       "prometheus_client           NA\n",
       "prompt_toolkit              3.0.51\n",
       "psutil                      7.0.0\n",
       "pure_eval                   0.2.3\n",
       "pydantic                    2.11.5\n",
       "pydantic_core               2.33.2\n",
       "pydev_ipython               NA\n",
       "pydevconsole                NA\n",
       "pydevd                      3.2.3\n",
       "pydevd_file_utils           NA\n",
       "pydevd_plugins              NA\n",
       "pydevd_tracing              NA\n",
       "pygments                    2.19.1\n",
       "pyparsing                   3.2.3\n",
       "pythonjsonlogger            NA\n",
       "pytz                        2025.2\n",
       "referencing                 NA\n",
       "requests                    2.32.3\n",
       "rfc3339_validator           0.1.4\n",
       "rfc3986_validator           0.1.1\n",
       "rpds                        NA\n",
       "scipy                       1.15.3\n",
       "send2trash                  NA\n",
       "six                         1.17.0\n",
       "sklearn                     1.6.1\n",
       "sniffio                     1.3.1\n",
       "stack_data                  0.6.3\n",
       "threadpoolctl               3.6.0\n",
       "tornado                     6.5.1\n",
       "traitlets                   5.14.3\n",
       "typing_extensions           NA\n",
       "typing_inspection           NA\n",
       "uri_template                NA\n",
       "urllib3                     2.4.0\n",
       "wcwidth                     0.2.13\n",
       "webcolors                   NA\n",
       "websocket                   1.8.0\n",
       "yaml                        6.0.2\n",
       "zmq                         26.4.0\n",
       "zoneinfo                    NA\n",
       "</pre>\n",
       "</details> <!-- seems like this ends pre, so might as well be explicit -->\n",
       "<pre>\n",
       "-----\n",
       "IPython             9.2.0\n",
       "jupyter_client      8.6.3\n",
       "jupyter_core        5.7.2\n",
       "jupyterlab          4.4.2\n",
       "-----\n",
       "Python 3.12.10 | packaged by conda-forge | (main, Apr 10 2025, 22:19:24) [Clang 18.1.8 ]\n",
       "macOS-15.3.2-arm64-arm-64bit\n",
       "-----\n",
       "Session information updated at 2025-06-02 12:56\n",
       "</pre>\n",
       "</details>"
      ],
      "text/plain": [
       "<IPython.core.display.HTML object>"
      ]
     },
     "execution_count": 3,
     "metadata": {},
     "output_type": "execute_result"
    }
   ],
   "source": [
    "# Session Info\n",
    "session_info.show()"
   ]
  },
  {
   "cell_type": "code",
   "execution_count": 4,
   "id": "4d19311e-9227-4f7c-81fd-1dfbc85fd9b6",
   "metadata": {},
   "outputs": [],
   "source": [
    "# Importing AnnData file\n",
    "# File Path\n",
    "#file_path_Simone = os.path.expanduser(\"~/Göran_Karlsson_Lab/benchLLM/Simone_et_al/7d821d98-5b42-4480-8173-641c1b37b237.h5ad\")\n",
    "file_path_Granja = os.path.expanduser(\"~/Göran_Karlsson_Lab/benchLLM/Granja_et_al/scRNA-Hematopoiesis-Granja-2019.h5ad\")\n",
    "#file_path_Jardine = os.path.expanduser(\"~/Göran_Karlsson_Lab/benchLLM/Jardine_et_al/fig1b_fbm_scaled_gex_updated_dr_20210104.h5ad\")\n",
    "\n",
    "# AnnData Read In\n",
    "#adata = sc.read_h5ad(file_path_Simone)\n",
    "adata = sc.read_h5ad(file_path_Granja)"
   ]
  },
  {
   "cell_type": "code",
   "execution_count": 5,
   "id": "fe284f8c-39a5-498a-a7db-706129a62824",
   "metadata": {},
   "outputs": [],
   "source": [
    "# Normalize (10,000 Counts per Cell)\n",
    "sc.pp.normalize_total(adata, target_sum=1e4)\n",
    "\n",
    "# Log1p transform\n",
    "sc.pp.log1p(adata)"
   ]
  },
  {
   "cell_type": "code",
   "execution_count": 26,
   "id": "568c4832-f22b-4d98-bdcf-634e3bc62d53",
   "metadata": {},
   "outputs": [
    {
     "name": "stdout",
     "output_type": "stream",
     "text": [
      "Min: nan\n",
      "Any NaNs in sparse data? True\n",
      "Any Infs in sparse data? False\n"
     ]
    }
   ],
   "source": [
    "# Explore log1p Error (It is due to NaNs)\n",
    "print(\"Min:\", np.min(adata.X))\n",
    "print(\"Any NaNs in sparse data?\", np.isnan(adata.X.data).any())\n",
    "print(\"Any Infs in sparse data?\", np.isinf(adata.X.data).any())"
   ]
  },
  {
   "cell_type": "code",
   "execution_count": 5,
   "id": "55d052cb-b53a-4d33-82f0-329f3c000c9a",
   "metadata": {},
   "outputs": [
    {
     "name": "stdout",
     "output_type": "stream",
     "text": [
      "WARNING: It seems you use rank_genes_groups on the raw count data. Please logarithmize your data before calling rank_genes_groups.\n"
     ]
    }
   ],
   "source": [
    "# Find Most Up/Down Regulated Genes \n",
    "sc.tl.rank_genes_groups(adata, groupby='cell_type', method='t-test', key_added = 'Rank_Genes_cell_type')  # try 'wilcoxon' if accurate"
   ]
  },
  {
   "cell_type": "code",
   "execution_count": 6,
   "id": "36a90343-9052-453a-9584-1889f048e19d",
   "metadata": {
    "scrolled": true
   },
   "outputs": [
    {
     "name": "stderr",
     "output_type": "stream",
     "text": [
      "/Users/alexantill/miniconda3/envs/benchLLM/lib/python3.12/site-packages/scanpy/tools/_rank_genes_groups.py:456: PerformanceWarning: DataFrame is highly fragmented.  This is usually the result of calling `frame.insert` many times, which has poor performance.  Consider joining all columns at once using pd.concat(axis=1) instead. To get a de-fragmented frame, use `newframe = frame.copy()`\n",
      "  self.stats[group_name, \"names\"] = self.var_names[global_indices]\n",
      "/Users/alexantill/miniconda3/envs/benchLLM/lib/python3.12/site-packages/scanpy/tools/_rank_genes_groups.py:458: PerformanceWarning: DataFrame is highly fragmented.  This is usually the result of calling `frame.insert` many times, which has poor performance.  Consider joining all columns at once using pd.concat(axis=1) instead. To get a de-fragmented frame, use `newframe = frame.copy()`\n",
      "  self.stats[group_name, \"scores\"] = scores[global_indices]\n",
      "/Users/alexantill/miniconda3/envs/benchLLM/lib/python3.12/site-packages/scanpy/tools/_rank_genes_groups.py:461: PerformanceWarning: DataFrame is highly fragmented.  This is usually the result of calling `frame.insert` many times, which has poor performance.  Consider joining all columns at once using pd.concat(axis=1) instead. To get a de-fragmented frame, use `newframe = frame.copy()`\n",
      "  self.stats[group_name, \"pvals\"] = pvals[global_indices]\n",
      "/Users/alexantill/miniconda3/envs/benchLLM/lib/python3.12/site-packages/scanpy/tools/_rank_genes_groups.py:471: PerformanceWarning: DataFrame is highly fragmented.  This is usually the result of calling `frame.insert` many times, which has poor performance.  Consider joining all columns at once using pd.concat(axis=1) instead. To get a de-fragmented frame, use `newframe = frame.copy()`\n",
      "  self.stats[group_name, \"pvals_adj\"] = pvals_adj[global_indices]\n",
      "/Users/alexantill/miniconda3/envs/benchLLM/lib/python3.12/site-packages/scanpy/tools/_rank_genes_groups.py:482: PerformanceWarning: DataFrame is highly fragmented.  This is usually the result of calling `frame.insert` many times, which has poor performance.  Consider joining all columns at once using pd.concat(axis=1) instead. To get a de-fragmented frame, use `newframe = frame.copy()`\n",
      "  self.stats[group_name, \"logfoldchanges\"] = np.log2(\n",
      "/Users/alexantill/miniconda3/envs/benchLLM/lib/python3.12/site-packages/scanpy/tools/_rank_genes_groups.py:456: PerformanceWarning: DataFrame is highly fragmented.  This is usually the result of calling `frame.insert` many times, which has poor performance.  Consider joining all columns at once using pd.concat(axis=1) instead. To get a de-fragmented frame, use `newframe = frame.copy()`\n",
      "  self.stats[group_name, \"names\"] = self.var_names[global_indices]\n",
      "/Users/alexantill/miniconda3/envs/benchLLM/lib/python3.12/site-packages/scanpy/tools/_rank_genes_groups.py:458: PerformanceWarning: DataFrame is highly fragmented.  This is usually the result of calling `frame.insert` many times, which has poor performance.  Consider joining all columns at once using pd.concat(axis=1) instead. To get a de-fragmented frame, use `newframe = frame.copy()`\n",
      "  self.stats[group_name, \"scores\"] = scores[global_indices]\n",
      "/Users/alexantill/miniconda3/envs/benchLLM/lib/python3.12/site-packages/scanpy/tools/_rank_genes_groups.py:461: PerformanceWarning: DataFrame is highly fragmented.  This is usually the result of calling `frame.insert` many times, which has poor performance.  Consider joining all columns at once using pd.concat(axis=1) instead. To get a de-fragmented frame, use `newframe = frame.copy()`\n",
      "  self.stats[group_name, \"pvals\"] = pvals[global_indices]\n",
      "/Users/alexantill/miniconda3/envs/benchLLM/lib/python3.12/site-packages/scanpy/tools/_rank_genes_groups.py:471: PerformanceWarning: DataFrame is highly fragmented.  This is usually the result of calling `frame.insert` many times, which has poor performance.  Consider joining all columns at once using pd.concat(axis=1) instead. To get a de-fragmented frame, use `newframe = frame.copy()`\n",
      "  self.stats[group_name, \"pvals_adj\"] = pvals_adj[global_indices]\n",
      "/Users/alexantill/miniconda3/envs/benchLLM/lib/python3.12/site-packages/scanpy/tools/_rank_genes_groups.py:482: PerformanceWarning: DataFrame is highly fragmented.  This is usually the result of calling `frame.insert` many times, which has poor performance.  Consider joining all columns at once using pd.concat(axis=1) instead. To get a de-fragmented frame, use `newframe = frame.copy()`\n",
      "  self.stats[group_name, \"logfoldchanges\"] = np.log2(\n",
      "/Users/alexantill/miniconda3/envs/benchLLM/lib/python3.12/site-packages/scanpy/tools/_rank_genes_groups.py:456: PerformanceWarning: DataFrame is highly fragmented.  This is usually the result of calling `frame.insert` many times, which has poor performance.  Consider joining all columns at once using pd.concat(axis=1) instead. To get a de-fragmented frame, use `newframe = frame.copy()`\n",
      "  self.stats[group_name, \"names\"] = self.var_names[global_indices]\n",
      "/Users/alexantill/miniconda3/envs/benchLLM/lib/python3.12/site-packages/scanpy/tools/_rank_genes_groups.py:458: PerformanceWarning: DataFrame is highly fragmented.  This is usually the result of calling `frame.insert` many times, which has poor performance.  Consider joining all columns at once using pd.concat(axis=1) instead. To get a de-fragmented frame, use `newframe = frame.copy()`\n",
      "  self.stats[group_name, \"scores\"] = scores[global_indices]\n",
      "/Users/alexantill/miniconda3/envs/benchLLM/lib/python3.12/site-packages/scanpy/tools/_rank_genes_groups.py:461: PerformanceWarning: DataFrame is highly fragmented.  This is usually the result of calling `frame.insert` many times, which has poor performance.  Consider joining all columns at once using pd.concat(axis=1) instead. To get a de-fragmented frame, use `newframe = frame.copy()`\n",
      "  self.stats[group_name, \"pvals\"] = pvals[global_indices]\n",
      "/Users/alexantill/miniconda3/envs/benchLLM/lib/python3.12/site-packages/scanpy/tools/_rank_genes_groups.py:471: PerformanceWarning: DataFrame is highly fragmented.  This is usually the result of calling `frame.insert` many times, which has poor performance.  Consider joining all columns at once using pd.concat(axis=1) instead. To get a de-fragmented frame, use `newframe = frame.copy()`\n",
      "  self.stats[group_name, \"pvals_adj\"] = pvals_adj[global_indices]\n",
      "/Users/alexantill/miniconda3/envs/benchLLM/lib/python3.12/site-packages/scanpy/tools/_rank_genes_groups.py:482: PerformanceWarning: DataFrame is highly fragmented.  This is usually the result of calling `frame.insert` many times, which has poor performance.  Consider joining all columns at once using pd.concat(axis=1) instead. To get a de-fragmented frame, use `newframe = frame.copy()`\n",
      "  self.stats[group_name, \"logfoldchanges\"] = np.log2(\n",
      "/Users/alexantill/miniconda3/envs/benchLLM/lib/python3.12/site-packages/scanpy/tools/_rank_genes_groups.py:456: PerformanceWarning: DataFrame is highly fragmented.  This is usually the result of calling `frame.insert` many times, which has poor performance.  Consider joining all columns at once using pd.concat(axis=1) instead. To get a de-fragmented frame, use `newframe = frame.copy()`\n",
      "  self.stats[group_name, \"names\"] = self.var_names[global_indices]\n",
      "/Users/alexantill/miniconda3/envs/benchLLM/lib/python3.12/site-packages/scanpy/tools/_rank_genes_groups.py:458: PerformanceWarning: DataFrame is highly fragmented.  This is usually the result of calling `frame.insert` many times, which has poor performance.  Consider joining all columns at once using pd.concat(axis=1) instead. To get a de-fragmented frame, use `newframe = frame.copy()`\n",
      "  self.stats[group_name, \"scores\"] = scores[global_indices]\n",
      "/Users/alexantill/miniconda3/envs/benchLLM/lib/python3.12/site-packages/scanpy/tools/_rank_genes_groups.py:461: PerformanceWarning: DataFrame is highly fragmented.  This is usually the result of calling `frame.insert` many times, which has poor performance.  Consider joining all columns at once using pd.concat(axis=1) instead. To get a de-fragmented frame, use `newframe = frame.copy()`\n",
      "  self.stats[group_name, \"pvals\"] = pvals[global_indices]\n",
      "/Users/alexantill/miniconda3/envs/benchLLM/lib/python3.12/site-packages/scanpy/tools/_rank_genes_groups.py:471: PerformanceWarning: DataFrame is highly fragmented.  This is usually the result of calling `frame.insert` many times, which has poor performance.  Consider joining all columns at once using pd.concat(axis=1) instead. To get a de-fragmented frame, use `newframe = frame.copy()`\n",
      "  self.stats[group_name, \"pvals_adj\"] = pvals_adj[global_indices]\n",
      "/Users/alexantill/miniconda3/envs/benchLLM/lib/python3.12/site-packages/scanpy/tools/_rank_genes_groups.py:482: PerformanceWarning: DataFrame is highly fragmented.  This is usually the result of calling `frame.insert` many times, which has poor performance.  Consider joining all columns at once using pd.concat(axis=1) instead. To get a de-fragmented frame, use `newframe = frame.copy()`\n",
      "  self.stats[group_name, \"logfoldchanges\"] = np.log2(\n",
      "/Users/alexantill/miniconda3/envs/benchLLM/lib/python3.12/site-packages/scanpy/tools/_rank_genes_groups.py:456: PerformanceWarning: DataFrame is highly fragmented.  This is usually the result of calling `frame.insert` many times, which has poor performance.  Consider joining all columns at once using pd.concat(axis=1) instead. To get a de-fragmented frame, use `newframe = frame.copy()`\n",
      "  self.stats[group_name, \"names\"] = self.var_names[global_indices]\n",
      "/Users/alexantill/miniconda3/envs/benchLLM/lib/python3.12/site-packages/scanpy/tools/_rank_genes_groups.py:458: PerformanceWarning: DataFrame is highly fragmented.  This is usually the result of calling `frame.insert` many times, which has poor performance.  Consider joining all columns at once using pd.concat(axis=1) instead. To get a de-fragmented frame, use `newframe = frame.copy()`\n",
      "  self.stats[group_name, \"scores\"] = scores[global_indices]\n",
      "/Users/alexantill/miniconda3/envs/benchLLM/lib/python3.12/site-packages/scanpy/tools/_rank_genes_groups.py:461: PerformanceWarning: DataFrame is highly fragmented.  This is usually the result of calling `frame.insert` many times, which has poor performance.  Consider joining all columns at once using pd.concat(axis=1) instead. To get a de-fragmented frame, use `newframe = frame.copy()`\n",
      "  self.stats[group_name, \"pvals\"] = pvals[global_indices]\n",
      "/Users/alexantill/miniconda3/envs/benchLLM/lib/python3.12/site-packages/scanpy/tools/_rank_genes_groups.py:471: PerformanceWarning: DataFrame is highly fragmented.  This is usually the result of calling `frame.insert` many times, which has poor performance.  Consider joining all columns at once using pd.concat(axis=1) instead. To get a de-fragmented frame, use `newframe = frame.copy()`\n",
      "  self.stats[group_name, \"pvals_adj\"] = pvals_adj[global_indices]\n",
      "/Users/alexantill/miniconda3/envs/benchLLM/lib/python3.12/site-packages/scanpy/tools/_rank_genes_groups.py:482: PerformanceWarning: DataFrame is highly fragmented.  This is usually the result of calling `frame.insert` many times, which has poor performance.  Consider joining all columns at once using pd.concat(axis=1) instead. To get a de-fragmented frame, use `newframe = frame.copy()`\n",
      "  self.stats[group_name, \"logfoldchanges\"] = np.log2(\n",
      "/Users/alexantill/miniconda3/envs/benchLLM/lib/python3.12/site-packages/scanpy/tools/_rank_genes_groups.py:456: PerformanceWarning: DataFrame is highly fragmented.  This is usually the result of calling `frame.insert` many times, which has poor performance.  Consider joining all columns at once using pd.concat(axis=1) instead. To get a de-fragmented frame, use `newframe = frame.copy()`\n",
      "  self.stats[group_name, \"names\"] = self.var_names[global_indices]\n",
      "/Users/alexantill/miniconda3/envs/benchLLM/lib/python3.12/site-packages/scanpy/tools/_rank_genes_groups.py:458: PerformanceWarning: DataFrame is highly fragmented.  This is usually the result of calling `frame.insert` many times, which has poor performance.  Consider joining all columns at once using pd.concat(axis=1) instead. To get a de-fragmented frame, use `newframe = frame.copy()`\n",
      "  self.stats[group_name, \"scores\"] = scores[global_indices]\n",
      "/Users/alexantill/miniconda3/envs/benchLLM/lib/python3.12/site-packages/scanpy/tools/_rank_genes_groups.py:461: PerformanceWarning: DataFrame is highly fragmented.  This is usually the result of calling `frame.insert` many times, which has poor performance.  Consider joining all columns at once using pd.concat(axis=1) instead. To get a de-fragmented frame, use `newframe = frame.copy()`\n",
      "  self.stats[group_name, \"pvals\"] = pvals[global_indices]\n",
      "/Users/alexantill/miniconda3/envs/benchLLM/lib/python3.12/site-packages/scanpy/tools/_rank_genes_groups.py:471: PerformanceWarning: DataFrame is highly fragmented.  This is usually the result of calling `frame.insert` many times, which has poor performance.  Consider joining all columns at once using pd.concat(axis=1) instead. To get a de-fragmented frame, use `newframe = frame.copy()`\n",
      "  self.stats[group_name, \"pvals_adj\"] = pvals_adj[global_indices]\n",
      "/Users/alexantill/miniconda3/envs/benchLLM/lib/python3.12/site-packages/scanpy/tools/_rank_genes_groups.py:482: PerformanceWarning: DataFrame is highly fragmented.  This is usually the result of calling `frame.insert` many times, which has poor performance.  Consider joining all columns at once using pd.concat(axis=1) instead. To get a de-fragmented frame, use `newframe = frame.copy()`\n",
      "  self.stats[group_name, \"logfoldchanges\"] = np.log2(\n"
     ]
    }
   ],
   "source": [
    "# Find Most Up/Down Regulated Genes \n",
    "sc.tl.rank_genes_groups(adata, groupby='BioClassification', method='t-test', key_added = 'Rank_Genes_cell_type')  # try 'wilcoxon' if accurate"
   ]
  },
  {
   "cell_type": "code",
   "execution_count": 7,
   "id": "2d1a5f7e-b80b-45b9-b9cf-2496d9845d07",
   "metadata": {},
   "outputs": [
    {
     "ename": "KeyError",
     "evalue": "\"Cell group key 'cell_type' not found in `adata.obs`.\"",
     "output_type": "error",
     "traceback": [
      "\u001b[31m---------------------------------------------------------------------------\u001b[39m",
      "\u001b[31mKeyError\u001b[39m                                  Traceback (most recent call last)",
      "\u001b[36mCell\u001b[39m\u001b[36m \u001b[39m\u001b[32mIn[7]\u001b[39m\u001b[32m, line 1\u001b[39m\n\u001b[32m----> \u001b[39m\u001b[32m1\u001b[39m annotator = \u001b[43mcytetype\u001b[49m\u001b[43m.\u001b[49m\u001b[43mCyteType\u001b[49m\u001b[43m(\u001b[49m\u001b[43madata\u001b[49m\u001b[43m,\u001b[49m\u001b[43m \u001b[49m\u001b[43mgroup_key\u001b[49m\u001b[43m \u001b[49m\u001b[43m=\u001b[49m\u001b[43m \u001b[49m\u001b[33;43m'\u001b[39;49m\u001b[33;43mcell_type\u001b[39;49m\u001b[33;43m'\u001b[39;49m\u001b[43m,\u001b[49m\u001b[43m \u001b[49m\u001b[43mrank_key\u001b[49m\u001b[43m=\u001b[49m\u001b[43m \u001b[49m\u001b[33;43m'\u001b[39;49m\u001b[33;43mRank_Genes_cell_type\u001b[39;49m\u001b[33;43m'\u001b[39;49m\u001b[43m,\u001b[49m\u001b[43m \u001b[49m\u001b[43mgene_symbols_column\u001b[49m\u001b[43m \u001b[49m\u001b[43m=\u001b[49m\u001b[43m \u001b[49m\u001b[33;43m'\u001b[39;49m\u001b[33;43mgene_name\u001b[39;49m\u001b[33;43m'\u001b[39;49m\u001b[43m)\u001b[49m\n",
      "\u001b[36mFile \u001b[39m\u001b[32m~/miniconda3/envs/benchLLM/lib/python3.12/site-packages/cytetype/main.py:109\u001b[39m, in \u001b[36mCyteType.__init__\u001b[39m\u001b[34m(self, adata, group_key, rank_key, gene_symbols_column, n_top_genes, results_prefix, aggregate_metadata, min_percentage, pcent_batch_size)\u001b[39m\n\u001b[32m    106\u001b[39m \u001b[38;5;28mself\u001b[39m.results_prefix = results_prefix\n\u001b[32m    107\u001b[39m \u001b[38;5;28mself\u001b[39m.pcent_batch_size = pcent_batch_size\n\u001b[32m--> \u001b[39m\u001b[32m109\u001b[39m \u001b[43m_validate_adata\u001b[49m\u001b[43m(\u001b[49m\u001b[43madata\u001b[49m\u001b[43m,\u001b[49m\u001b[43m \u001b[49m\u001b[43mgroup_key\u001b[49m\u001b[43m,\u001b[49m\u001b[43m \u001b[49m\u001b[43mrank_key\u001b[49m\u001b[43m,\u001b[49m\u001b[43m \u001b[49m\u001b[43mgene_symbols_column\u001b[49m\u001b[43m)\u001b[49m\n\u001b[32m    111\u001b[39m \u001b[38;5;28mself\u001b[39m.cluster_map = {\n\u001b[32m    112\u001b[39m     \u001b[38;5;28mstr\u001b[39m(x): \u001b[38;5;28mstr\u001b[39m(n + \u001b[32m1\u001b[39m)\n\u001b[32m    113\u001b[39m     \u001b[38;5;28;01mfor\u001b[39;00m n, x \u001b[38;5;129;01min\u001b[39;00m \u001b[38;5;28menumerate\u001b[39m(\u001b[38;5;28msorted\u001b[39m(adata.obs[group_key].unique().tolist()))\n\u001b[32m    114\u001b[39m }\n\u001b[32m    115\u001b[39m \u001b[38;5;28mself\u001b[39m.clusters = [\n\u001b[32m    116\u001b[39m     \u001b[38;5;28mself\u001b[39m.cluster_map[\u001b[38;5;28mstr\u001b[39m(x)] \u001b[38;5;28;01mfor\u001b[39;00m x \u001b[38;5;129;01min\u001b[39;00m adata.obs[group_key].values.tolist()\n\u001b[32m    117\u001b[39m ]\n",
      "\u001b[36mFile \u001b[39m\u001b[32m~/miniconda3/envs/benchLLM/lib/python3.12/site-packages/cytetype/anndata_helpers.py:17\u001b[39m, in \u001b[36m_validate_adata\u001b[39m\u001b[34m(adata, cell_group_key, rank_genes_key, gene_symbols_col)\u001b[39m\n\u001b[32m     14\u001b[39m \u001b[38;5;250m\u001b[39m\u001b[33;03m\"\"\"Validate the AnnData object structure.\"\"\"\u001b[39;00m\n\u001b[32m     16\u001b[39m \u001b[38;5;28;01mif\u001b[39;00m cell_group_key \u001b[38;5;129;01mnot\u001b[39;00m \u001b[38;5;129;01min\u001b[39;00m adata.obs:\n\u001b[32m---> \u001b[39m\u001b[32m17\u001b[39m     \u001b[38;5;28;01mraise\u001b[39;00m \u001b[38;5;167;01mKeyError\u001b[39;00m(\u001b[33mf\u001b[39m\u001b[33m\"\u001b[39m\u001b[33mCell group key \u001b[39m\u001b[33m'\u001b[39m\u001b[38;5;132;01m{\u001b[39;00mcell_group_key\u001b[38;5;132;01m}\u001b[39;00m\u001b[33m'\u001b[39m\u001b[33m not found in `adata.obs`.\u001b[39m\u001b[33m\"\u001b[39m)\n\u001b[32m     18\u001b[39m \u001b[38;5;28;01mif\u001b[39;00m adata.X \u001b[38;5;129;01mis\u001b[39;00m \u001b[38;5;28;01mNone\u001b[39;00m:\n\u001b[32m     19\u001b[39m     \u001b[38;5;28;01mraise\u001b[39;00m \u001b[38;5;167;01mValueError\u001b[39;00m(\n\u001b[32m     20\u001b[39m         \u001b[33m\"\u001b[39m\u001b[33m`adata.X` is required for ranking genes. Please ensure it contains log1p normalized data.\u001b[39m\u001b[33m\"\u001b[39m\n\u001b[32m     21\u001b[39m     )\n",
      "\u001b[31mKeyError\u001b[39m: \"Cell group key 'cell_type' not found in `adata.obs`.\""
     ]
    }
   ],
   "source": [
    "annotator = cytetype.CyteType(adata, group_key = 'cell_type', rank_key= 'Rank_Genes_cell_type', gene_symbols_column = 'gene_name')"
   ]
  },
  {
   "cell_type": "code",
   "execution_count": 11,
   "id": "03ee8358-9b5d-40fe-aadd-2bb6a563fd7e",
   "metadata": {},
   "outputs": [
    {
     "name": "stdout",
     "output_type": "stream",
     "text": [
      "Calculating expression percentages.\n",
      "Extracting marker genes.\n",
      "Data preparation completed. Ready for submitting jobs.\n"
     ]
    }
   ],
   "source": [
    "annotator = cytetype.CyteType(adata, group_key = 'BioClassification', rank_key= 'Rank_Genes_cell_type', gene_symbols_column = 'name')"
   ]
  },
  {
   "cell_type": "code",
   "execution_count": 44,
   "id": "c651ffee-c15a-4989-8cc5-1b9ad41e76f3",
   "metadata": {},
   "outputs": [
    {
     "name": "stdout",
     "output_type": "stream",
     "text": [
      "Waiting for results for job ID: b56a9a5a-0909-4084-a435-9524298b875c\n",
      "View the automatically updating visualization report at: https://nygen-labs-prod--cell-annotation-agent-fastapi-app.modal.run/report/b56a9a5a-0909-4084-a435-9524298b875c\n",
      "Could not fetch logs for job b56a9a5a-0909-4084-a435-9524298b875c: 404 Client Error: Not Found for url: https://nygen-labs-prod--cell-annotation-agent-fastapi-app.modal.run/logs/b56a9a5a-0909-4084-a435-9524298b875c\n",
      "250602:1522:44 |INFO| [STARTING WORKFLOWS]: Job ID: b56a9a5a-0909-4084-a435-9524298b875c\n",
      "250602:1522:44 |INFO| [WORKFLOW STEP 1/3]: Generating context summary\n",
      "250602:1524:00 |INFO| [WORKFLOW STEP 2/3]: Running cluster contextualization, annotation, review, and ontology assignment\n",
      "250602:1524:03 |INFO| [Cluster: 1] Generating cluster-specific context...\n",
      "250602:1524:06 |INFO| [Cluster: 10] Generating cluster-specific context...\n",
      "250602:1524:09 |INFO| [Cluster: 11] Generating cluster-specific context...\n",
      "250602:1524:12 |INFO| [Cluster: 12] Generating cluster-specific context...\n",
      "250602:1524:15 |INFO| [Cluster: 13] Generating cluster-specific context...\n"
     ]
    },
    {
     "ename": "KeyboardInterrupt",
     "evalue": "",
     "output_type": "error",
     "traceback": [
      "\u001b[31m---------------------------------------------------------------------------\u001b[39m",
      "\u001b[31mKeyboardInterrupt\u001b[39m                         Traceback (most recent call last)",
      "\u001b[36mCell\u001b[39m\u001b[36m \u001b[39m\u001b[32mIn[44]\u001b[39m\u001b[32m, line 2\u001b[39m\n\u001b[32m      1\u001b[39m \u001b[38;5;66;03m# Run annotation with custom model\u001b[39;00m\n\u001b[32m----> \u001b[39m\u001b[32m2\u001b[39m adata = \u001b[43mannotator\u001b[49m\u001b[43m.\u001b[49m\u001b[43mrun\u001b[49m\u001b[43m(\u001b[49m\n\u001b[32m      3\u001b[39m \u001b[43m    \u001b[49m\u001b[43mstudy_context\u001b[49m\u001b[43m \u001b[49m\u001b[43m=\u001b[49m\u001b[43m \u001b[49m\u001b[33;43m\"\u001b[39;49m\u001b[33;43mHuman adult mixed-phenotype acute leukemias from peripheral blood and bone marrow, analysed 10x genomics single cell RNA-seq kits\u001b[39;49m\u001b[33;43m\"\u001b[39;49m\u001b[43m,\u001b[49m\n\u001b[32m      4\u001b[39m \u001b[43m    \u001b[49m\u001b[43mmodel_config\u001b[49m\u001b[43m \u001b[49m\u001b[43m=\u001b[49m\u001b[43m \u001b[49m\u001b[43m[\u001b[49m\u001b[43m{\u001b[49m\n\u001b[32m      5\u001b[39m \u001b[43m        \u001b[49m\u001b[33;43m'\u001b[39;49m\u001b[33;43mprovider\u001b[39;49m\u001b[33;43m'\u001b[39;49m\u001b[43m:\u001b[49m\u001b[43m \u001b[49m\u001b[33;43m'\u001b[39;49m\u001b[33;43mopenai\u001b[39;49m\u001b[33;43m'\u001b[39;49m\u001b[43m,\u001b[49m\n\u001b[32m      6\u001b[39m \u001b[43m        \u001b[49m\u001b[33;43m'\u001b[39;49m\u001b[33;43mname\u001b[39;49m\u001b[33;43m'\u001b[39;49m\u001b[43m:\u001b[49m\u001b[43m \u001b[49m\u001b[33;43m'\u001b[39;49m\u001b[33;43mqwen/qwen3-235b-a22b\u001b[39;49m\u001b[33;43m'\u001b[39;49m\u001b[43m,\u001b[49m\n\u001b[32m      7\u001b[39m \u001b[43m        \u001b[49m\u001b[33;43m'\u001b[39;49m\u001b[33;43mapiKey\u001b[39;49m\u001b[33;43m'\u001b[39;49m\u001b[43m:\u001b[49m\u001b[43m \u001b[49m\u001b[43mos\u001b[49m\u001b[43m.\u001b[49m\u001b[43menviron\u001b[49m\u001b[43m.\u001b[49m\u001b[43mget\u001b[49m\u001b[43m(\u001b[49m\u001b[33;43m'\u001b[39;49m\u001b[33;43mOPENROUTER_API_KEY\u001b[39;49m\u001b[33;43m'\u001b[39;49m\u001b[43m)\u001b[49m\u001b[43m,\u001b[49m\n\u001b[32m      8\u001b[39m \u001b[43m        \u001b[49m\u001b[33;43m'\u001b[39;49m\u001b[33;43mbaseUrl\u001b[39;49m\u001b[33;43m'\u001b[39;49m\u001b[43m:\u001b[49m\u001b[43m \u001b[49m\u001b[33;43m\"\u001b[39;49m\u001b[33;43mhttps://openrouter.ai/api/v1\u001b[39;49m\u001b[33;43m\"\u001b[39;49m\u001b[43m,\u001b[49m\n\u001b[32m      9\u001b[39m \u001b[43m    \u001b[49m\u001b[43m}\u001b[49m\u001b[43m]\u001b[49m\u001b[43m,\u001b[49m\n\u001b[32m     10\u001b[39m \u001b[43m    \u001b[49m\u001b[43mauth_token\u001b[49m\u001b[43m \u001b[49m\u001b[43m=\u001b[49m\u001b[43m \u001b[49m\u001b[43mos\u001b[49m\u001b[43m.\u001b[49m\u001b[43menviron\u001b[49m\u001b[43m.\u001b[49m\u001b[43mget\u001b[49m\u001b[43m(\u001b[49m\u001b[33;43m'\u001b[39;49m\u001b[33;43mNYGEN_API_KEY\u001b[39;49m\u001b[33;43m'\u001b[39;49m\u001b[43m)\u001b[49m\u001b[43m,\u001b[49m\n\u001b[32m     11\u001b[39m \u001b[43m    \u001b[49m\u001b[43mtimeout_seconds\u001b[49m\u001b[43m=\u001b[49m\u001b[32;43m3000\u001b[39;49m\u001b[43m,\u001b[49m\n\u001b[32m     12\u001b[39m \u001b[43m    \u001b[49m\u001b[43mrun_config\u001b[49m\u001b[43m=\u001b[49m\u001b[43m{\u001b[49m\n\u001b[32m     13\u001b[39m \u001b[43m        \u001b[49m\u001b[33;43m'\u001b[39;49m\u001b[33;43mconcurrentClusters\u001b[39;49m\u001b[33;43m'\u001b[39;49m\u001b[43m:\u001b[49m\u001b[43m \u001b[49m\u001b[32;43m5\u001b[39;49m\u001b[43m,\u001b[49m\u001b[43m        \u001b[49m\u001b[38;5;66;43;03m# Default: 3, Range: 2-10\u001b[39;49;00m\n\u001b[32m     14\u001b[39m \u001b[43m        \u001b[49m\u001b[33;43m'\u001b[39;49m\u001b[33;43mmaxAnnotationRevisions\u001b[39;49m\u001b[33;43m'\u001b[39;49m\u001b[43m:\u001b[49m\u001b[43m \u001b[49m\u001b[32;43m2\u001b[39;49m\u001b[43m,\u001b[49m\u001b[43m    \u001b[49m\u001b[38;5;66;43;03m# Default: 2, Range: 1-5\u001b[39;49;00m\n\u001b[32m     15\u001b[39m \u001b[43m        \u001b[49m\u001b[33;43m'\u001b[39;49m\u001b[33;43mmaxLLMRequests\u001b[39;49m\u001b[33;43m'\u001b[39;49m\u001b[43m:\u001b[49m\u001b[43m \u001b[49m\u001b[32;43m2000\u001b[39;49m\u001b[43m           \u001b[49m\u001b[38;5;66;43;03m# Default: 500, Range: 50-2000\u001b[39;49;00m\n\u001b[32m     16\u001b[39m \u001b[43m    \u001b[49m\u001b[43m}\u001b[49m\u001b[43m,\u001b[49m\n\u001b[32m     17\u001b[39m \u001b[43m)\u001b[49m\n",
      "\u001b[36mFile \u001b[39m\u001b[32m~/miniconda3/envs/benchLLM/lib/python3.12/site-packages/cytetype/main.py:247\u001b[39m, in \u001b[36mCyteType.run\u001b[39m\u001b[34m(self, study_context, model_config, run_config, poll_interval_seconds, timeout_seconds, api_url, save_query, auth_token)\u001b[39m\n\u001b[32m    242\u001b[39m report_url = \u001b[33mf\u001b[39m\u001b[33m\"\u001b[39m\u001b[38;5;132;01m{\u001b[39;00mapi_url\u001b[38;5;132;01m}\u001b[39;00m\u001b[33m/report/\u001b[39m\u001b[38;5;132;01m{\u001b[39;00mjob_id\u001b[38;5;132;01m}\u001b[39;00m\u001b[33m\"\u001b[39m\n\u001b[32m    243\u001b[39m logger.info(\n\u001b[32m    244\u001b[39m     \u001b[33mf\u001b[39m\u001b[33m\"\u001b[39m\u001b[33mView the automatically updating visualization report at: \u001b[39m\u001b[38;5;132;01m{\u001b[39;00mreport_url\u001b[38;5;132;01m}\u001b[39;00m\u001b[33m\"\u001b[39m\n\u001b[32m    245\u001b[39m )\n\u001b[32m--> \u001b[39m\u001b[32m247\u001b[39m result = \u001b[43mpoll_for_results\u001b[49m\u001b[43m(\u001b[49m\n\u001b[32m    248\u001b[39m \u001b[43m    \u001b[49m\u001b[43mjob_id\u001b[49m\u001b[43m,\u001b[49m\n\u001b[32m    249\u001b[39m \u001b[43m    \u001b[49m\u001b[43mapi_url\u001b[49m\u001b[43m,\u001b[49m\n\u001b[32m    250\u001b[39m \u001b[43m    \u001b[49m\u001b[43mpoll_interval_seconds\u001b[49m\u001b[43m,\u001b[49m\n\u001b[32m    251\u001b[39m \u001b[43m    \u001b[49m\u001b[43mtimeout_seconds\u001b[49m\u001b[43m,\u001b[49m\n\u001b[32m    252\u001b[39m \u001b[43m    \u001b[49m\u001b[43mauth_token\u001b[49m\u001b[43m=\u001b[49m\u001b[43mauth_token\u001b[49m\u001b[43m,\u001b[49m\n\u001b[32m    253\u001b[39m \u001b[43m\u001b[49m\u001b[43m)\u001b[49m\n\u001b[32m    255\u001b[39m \u001b[38;5;66;03m# Store results in AnnData object\u001b[39;00m\n\u001b[32m    256\u001b[39m \u001b[38;5;28mself\u001b[39m.adata.uns[\u001b[33mf\u001b[39m\u001b[33m\"\u001b[39m\u001b[38;5;132;01m{\u001b[39;00m\u001b[38;5;28mself\u001b[39m.results_prefix\u001b[38;5;132;01m}\u001b[39;00m\u001b[33m_results\u001b[39m\u001b[33m\"\u001b[39m] = {\n\u001b[32m    257\u001b[39m     \u001b[33m\"\u001b[39m\u001b[33mjob_id\u001b[39m\u001b[33m\"\u001b[39m: job_id,\n\u001b[32m    258\u001b[39m     \u001b[33m\"\u001b[39m\u001b[33mresult\u001b[39m\u001b[33m\"\u001b[39m: result,\n\u001b[32m    259\u001b[39m }\n",
      "\u001b[36mFile \u001b[39m\u001b[32m~/miniconda3/envs/benchLLM/lib/python3.12/site-packages/cytetype/client.py:142\u001b[39m, in \u001b[36mpoll_for_results\u001b[39m\u001b[34m(job_id, api_url, poll_interval, timeout, auth_token)\u001b[39m\n\u001b[32m    139\u001b[39m     \u001b[38;5;28;01mexcept\u001b[39;00m requests.exceptions.RequestException \u001b[38;5;28;01mas\u001b[39;00m log_err:\n\u001b[32m    140\u001b[39m         logger.warning(\u001b[33mf\u001b[39m\u001b[33m\"\u001b[39m\u001b[33mCould not fetch logs for job \u001b[39m\u001b[38;5;132;01m{\u001b[39;00mjob_id\u001b[38;5;132;01m}\u001b[39;00m\u001b[33m: \u001b[39m\u001b[38;5;132;01m{\u001b[39;00mlog_err\u001b[38;5;132;01m}\u001b[39;00m\u001b[33m\"\u001b[39m)\n\u001b[32m--> \u001b[39m\u001b[32m142\u001b[39m     \u001b[43mtime\u001b[49m\u001b[43m.\u001b[49m\u001b[43msleep\u001b[49m\u001b[43m(\u001b[49m\u001b[43mpoll_interval\u001b[49m\u001b[43m)\u001b[49m\n\u001b[32m    143\u001b[39m \u001b[38;5;28;01melse\u001b[39;00m:\n\u001b[32m    144\u001b[39m     logger.warning(\n\u001b[32m    145\u001b[39m         \u001b[33mf\u001b[39m\u001b[33m\"\u001b[39m\u001b[33mJob \u001b[39m\u001b[38;5;132;01m{\u001b[39;00mjob_id\u001b[38;5;132;01m}\u001b[39;00m\u001b[33m has unknown status: \u001b[39m\u001b[33m'\u001b[39m\u001b[38;5;132;01m{\u001b[39;00mstatus\u001b[38;5;132;01m}\u001b[39;00m\u001b[33m'\u001b[39m\u001b[33m. Continuing to poll.\u001b[39m\u001b[33m\"\u001b[39m\n\u001b[32m    146\u001b[39m     )\n",
      "\u001b[31mKeyboardInterrupt\u001b[39m: "
     ]
    }
   ],
   "source": [
    "# Run annotation with custom model\n",
    "adata = annotator.run(\n",
    "    study_context = \"Human adult mixed-phenotype acute leukemias from peripheral blood and bone marrow, analysed 10x genomics single cell RNA-seq kits\",\n",
    "    model_config = [{\n",
    "        'provider': 'openai',\n",
    "        'name': 'qwen/qwen3-235b-a22b',\n",
    "        'apiKey': os.environ.get('OPENROUTER_API_KEY'),\n",
    "        'baseUrl': \"https://openrouter.ai/api/v1\",\n",
    "    }],\n",
    "    auth_token = os.environ.get('NYGEN_API_KEY'),\n",
    "    timeout_seconds=3000,\n",
    "    run_config={\n",
    "        'concurrentClusters': 5,        # Default: 3, Range: 2-10\n",
    "        'maxAnnotationRevisions': 2,    # Default: 2, Range: 1-5\n",
    "        'maxLLMRequests': 2000           # Default: 500, Range: 50-2000\n",
    "    },\n",
    ")"
   ]
  },
  {
   "cell_type": "code",
   "execution_count": 39,
   "id": "0c7ee4fe-2a87-4738-9d76-9dbfa90289a9",
   "metadata": {},
   "outputs": [],
   "source": [
    "Qwen = adata.uns['cytetype_results']['result']"
   ]
  },
  {
   "cell_type": "code",
   "execution_count": 40,
   "id": "dc132df6-ad5f-494b-979d-ca962ff7c24b",
   "metadata": {},
   "outputs": [],
   "source": [
    "Author_vs_Qwen3 = pd.crosstab(adata.obs.BioClassification, adata.obs.cytetype_BioClassification).T.idxmax()"
   ]
  },
  {
   "cell_type": "code",
   "execution_count": null,
   "id": "3088241e-c6c2-404a-a45f-8b88d5abe9b5",
   "metadata": {},
   "outputs": [],
   "source": [
    "Author_vs_Qwen3.reset_index().to_csv(\"/Users/alexantill/Göran_Karlsson_Lab/benchLLM/Granja_et_al/author_vs_Qwen3.csv\", index=False)"
   ]
  },
  {
   "cell_type": "code",
   "execution_count": null,
   "id": "fe018a23-c9f5-48e1-a1cb-4e22c738c7f2",
   "metadata": {},
   "outputs": [],
   "source": [
    "models = [\n",
    "    \"google/gemini-2.5-pro-preview\",\n",
    "    \"anthropic/claude-3.7-sonnet:thinking\",\n",
    "    \"openai/o3-mini\",\n",
    "    \"openai/o4-mini\",\n",
    "    \"x-ai/grok-3-beta\",\n",
    "    \"meta-llama/llama-4-maverick\",\n",
    "    \"anthropic/claude-3.7-sonnet\",\n",
    "    \"openai/gpt-4.1-mini\",\n",
    "    \"qwen/qwen3-235b-a22b\",\n",
    "    \"google/gemini-2.0-flash-001\",\n",
    "    \"openai/gpt-4.1\"\n",
    "]\n",
    "\n",
    "results = {}\n",
    "\n",
    "for model_full in models:\n",
    "    model_name = model_full.split(\"/\")[-1]\n",
    "    adata_result = annotator.run(\n",
    "        study_context=\"Healthy adult human peripheral blood, analysed on a variety of commerical single cell RNA-seq kits\",\n",
    "        model_config=[{\n",
    "            'provider': 'openai',  # update this if provider changes!\n",
    "            'name': model_full,\n",
    "            'apiKey': os.environ.get('OPENROUTER_API_KEY'),\n",
    "            'baseUrl': \"https://openrouter.ai/api/v1\",\n",
    "        }],\n",
    "        auth_token=os.environ.get('NYGEN_API_KEY'),\n",
    "        timeout_seconds=1500,\n",
    "    )\n",
    "    results[f'adata_{model_name}'] = adata_result\n",
    "\n",
    "    # Create crosstab and get idxmax\n",
    "    cross_tab = pd.crosstab(\n",
    "        adata_result.obs.cell_type,\n",
    "        adata_result.obs.cytetype_cell_type\n",
    "    ).T.idxmax()\n",
    "\n",
    "    cross_tab_df = cross_tab.reset_index()\n",
    "    \n",
    "    # Save to CSV with model-specific filename\n",
    "    output_path = f\"/Users/alexantill/Göran_Karlsson_Lab/benchLLM/Simone_et_al/author_vs_{model_name}.csv\"\n",
    "    cross_tab_df.to_csv(output_path, index=False)\n",
    "    print(f\"Saved crosstab for {model_name} to {output_path}\")\n"
   ]
  }
 ],
 "metadata": {
  "kernelspec": {
   "display_name": "Python (benchLLM)",
   "language": "python",
   "name": "benchllm"
  },
  "language_info": {
   "codemirror_mode": {
    "name": "ipython",
    "version": 3
   },
   "file_extension": ".py",
   "mimetype": "text/x-python",
   "name": "python",
   "nbconvert_exporter": "python",
   "pygments_lexer": "ipython3",
   "version": "3.12.10"
  }
 },
 "nbformat": 4,
 "nbformat_minor": 5
}
