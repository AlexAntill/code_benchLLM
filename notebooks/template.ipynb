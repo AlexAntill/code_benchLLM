{
 "cells": [
  {
   "cell_type": "markdown",
   "id": "c10ef9b7-2644-4e9e-b606-951a46c30741",
   "metadata": {},
   "source": [
    "# Background Information\n",
    "\n",
    "In this notebook I will set up a basic flow for uploading and dowloading files. Formating datasets and ultimately running cytetype."
   ]
  },
  {
   "cell_type": "code",
   "execution_count": 3,
   "id": "d60fdade-301f-4be5-aede-eb66b7ed7e41",
   "metadata": {},
   "outputs": [],
   "source": [
    "# Importing Require Libraries\n",
    "import cytetype\n",
    "import scanpy as sc\n",
    "import session_info\n",
    "import pandas as pd"
   ]
  },
  {
   "cell_type": "code",
   "execution_count": 4,
   "id": "9c67fbd3-b6f9-4ee9-8dcf-588479c9c267",
   "metadata": {},
   "outputs": [
    {
     "name": "stderr",
     "output_type": "stream",
     "text": [
      "/Users/alexantill/Göran_Karlsson_Lab/code_benchLLM/.venv/lib/python3.12/site-packages/session_info/main.py:213: UserWarning: The '__version__' attribute is deprecated and will be removed in MarkupSafe 3.1. Use feature detection, or `importlib.metadata.version(\"markupsafe\")`, instead.\n",
      "  mod_version = _find_version(mod.__version__)\n"
     ]
    },
    {
     "data": {
      "text/html": [
       "<details>\n",
       "<summary>Click to view session information</summary>\n",
       "<pre>\n",
       "-----\n",
       "cytetype            NA\n",
       "pandas              2.2.3\n",
       "scanpy              1.11.1\n",
       "session_info        v1.0.1\n",
       "-----\n",
       "</pre>\n",
       "<details>\n",
       "<summary>Click to view modules imported as dependencies</summary>\n",
       "<pre>\n",
       "PIL                         11.2.1\n",
       "anndata                     0.11.4\n",
       "anyio                       NA\n",
       "appnope                     0.1.4\n",
       "arrow                       1.3.0\n",
       "asttokens                   NA\n",
       "attr                        25.3.0\n",
       "attrs                       25.3.0\n",
       "babel                       2.17.0\n",
       "certifi                     2025.04.26\n",
       "charset_normalizer          3.4.2\n",
       "comm                        0.2.2\n",
       "cycler                      0.12.1\n",
       "cython_runtime              NA\n",
       "dateutil                    2.9.0.post0\n",
       "debugpy                     1.8.14\n",
       "decorator                   5.2.1\n",
       "defusedxml                  0.7.1\n",
       "executing                   2.2.0\n",
       "fastjsonschema              NA\n",
       "fqdn                        NA\n",
       "h5py                        3.13.0\n",
       "idna                        3.10\n",
       "ipykernel                   6.29.5\n",
       "isoduration                 NA\n",
       "jedi                        0.19.2\n",
       "jinja2                      3.1.6\n",
       "joblib                      1.5.0\n",
       "json5                       0.12.0\n",
       "jsonpointer                 3.0.0\n",
       "jsonschema                  4.23.0\n",
       "jsonschema_specifications   NA\n",
       "jupyter_events              0.12.0\n",
       "jupyter_server              2.16.0\n",
       "jupyterlab_server           2.27.3\n",
       "kiwisolver                  1.4.8\n",
       "legacy_api_wrap             NA\n",
       "llvmlite                    0.44.0\n",
       "loguru                      0.7.3\n",
       "markupsafe                  3.0.2\n",
       "matplotlib                  3.10.3\n",
       "mpl_toolkits                NA\n",
       "natsort                     8.4.0\n",
       "nbformat                    5.10.4\n",
       "numba                       0.61.2\n",
       "numpy                       2.2.6\n",
       "overrides                   NA\n",
       "packaging                   25.0\n",
       "parso                       0.8.4\n",
       "platformdirs                4.3.8\n",
       "prometheus_client           NA\n",
       "prompt_toolkit              3.0.51\n",
       "psutil                      7.0.0\n",
       "pure_eval                   0.2.3\n",
       "pydev_ipython               NA\n",
       "pydevconsole                NA\n",
       "pydevd                      3.2.3\n",
       "pydevd_file_utils           NA\n",
       "pydevd_plugins              NA\n",
       "pydevd_tracing              NA\n",
       "pygments                    2.19.1\n",
       "pyparsing                   3.2.3\n",
       "pythonjsonlogger            NA\n",
       "pytz                        2025.2\n",
       "referencing                 NA\n",
       "requests                    2.32.3\n",
       "rfc3339_validator           0.1.4\n",
       "rfc3986_validator           0.1.1\n",
       "rpds                        NA\n",
       "scipy                       1.15.3\n",
       "send2trash                  NA\n",
       "six                         1.17.0\n",
       "sklearn                     1.5.2\n",
       "sniffio                     1.3.1\n",
       "stack_data                  0.6.3\n",
       "threadpoolctl               3.6.0\n",
       "tornado                     6.5.1\n",
       "traitlets                   5.14.3\n",
       "typing_extensions           NA\n",
       "uri_template                NA\n",
       "urllib3                     2.4.0\n",
       "wcwidth                     0.2.13\n",
       "webcolors                   NA\n",
       "websocket                   1.8.0\n",
       "yaml                        6.0.2\n",
       "zmq                         26.4.0\n",
       "zoneinfo                    NA\n",
       "</pre>\n",
       "</details> <!-- seems like this ends pre, so might as well be explicit -->\n",
       "<pre>\n",
       "-----\n",
       "IPython             9.2.0\n",
       "jupyter_client      8.6.3\n",
       "jupyter_core        5.7.2\n",
       "jupyterlab          4.4.2\n",
       "-----\n",
       "Python 3.12.10 | packaged by conda-forge | (main, Apr 10 2025, 22:19:24) [Clang 18.1.8 ]\n",
       "macOS-15.3.2-arm64-arm-64bit\n",
       "-----\n",
       "Session information updated at 2025-05-23 11:03\n",
       "</pre>\n",
       "</details>"
      ],
      "text/plain": [
       "<IPython.core.display.HTML object>"
      ]
     },
     "execution_count": 4,
     "metadata": {},
     "output_type": "execute_result"
    }
   ],
   "source": [
    "# Session Info\n",
    "session_info.show()"
   ]
  },
  {
   "cell_type": "code",
   "execution_count": null,
   "id": "4d19311e-9227-4f7c-81fd-1dfbc85fd9b6",
   "metadata": {},
   "outputs": [],
   "source": [
    "# Importing AnnData file\n",
    "# File Path\n",
    "file_path_Granja = os.path.expanduser(\"~/Göran_Karlsson_Lab/benchLLM/Simone_et_al/7d821d98-5b42-4480-8173-641c1b37b237.h5ad\")\n",
    "# AnnData Read In\n",
    "adata = sc.read_h5ad(file_path_Granja)"
   ]
  },
  {
   "cell_type": "code",
   "execution_count": null,
   "id": "fe284f8c-39a5-498a-a7db-706129a62824",
   "metadata": {},
   "outputs": [],
   "source": [
    "# Copy and Preprocess the Original AnnData\n",
    "adata_norm = adata.copy()\n",
    "\n",
    "# Normalize (10,000 Counts per Cell)\n",
    "sc.pp.normalize_total(adata_norm, target_sum=1e4)\n",
    "\n",
    "# Log1p transform\n",
    "sc.pp.log1p(adata_norm)\n",
    "\n",
    "# Refine to 2000 Highly Varibale Genes Only\n",
    "sc.pp.highly_variable_genes(adata_norm, n_top_genes=2000, flavor='seurat')\n",
    "adata = adata_norm[:, adata_norm.var.highly_variable]"
   ]
  },
  {
   "cell_type": "code",
   "execution_count": null,
   "id": "55d052cb-b53a-4d33-82f0-329f3c000c9a",
   "metadata": {},
   "outputs": [],
   "source": [
    "# Find Most Up/Down Regulated Genes \n",
    "sc.tl.rank_genes_groups(adata, groupby='BioClassification', method='t-test')  # try 'wilcoxon' if accurate\n",
    "\n",
    "result = adata.uns['rank_genes_groups']\n",
    "groups = result['names'].dtype.names\n",
    "\n",
    "top_genes_per_cluster = {group: result['names'][group][:10] for group in groups}\n",
    "print(top_genes_per_cluster)"
   ]
  }
 ],
 "metadata": {
  "kernelspec": {
   "display_name": "Python 3 (ipykernel)",
   "language": "python",
   "name": "python3"
  },
  "language_info": {
   "codemirror_mode": {
    "name": "ipython",
    "version": 3
   },
   "file_extension": ".py",
   "mimetype": "text/x-python",
   "name": "python",
   "nbconvert_exporter": "python",
   "pygments_lexer": "ipython3",
   "version": "3.12.10"
  }
 },
 "nbformat": 4,
 "nbformat_minor": 5
}
