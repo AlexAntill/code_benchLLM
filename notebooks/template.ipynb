{
 "cells": [
  {
   "cell_type": "markdown",
   "id": "c10ef9b7-2644-4e9e-b606-951a46c30741",
   "metadata": {},
   "source": [
    "# Background Information\n",
    "\n",
    "In this notebook I will set up a basic flow for uploading and dowloading files. Formating datasets and ultimately running cytetype."
   ]
  },
  {
   "cell_type": "code",
   "execution_count": 1,
   "id": "d60fdade-301f-4be5-aede-eb66b7ed7e41",
   "metadata": {},
   "outputs": [
    {
     "data": {
      "text/plain": [
       "True"
      ]
     },
     "execution_count": 1,
     "metadata": {},
     "output_type": "execute_result"
    }
   ],
   "source": [
    "# Importing Require Libraries\n",
    "import cytetype\n",
    "import scanpy as sc\n",
    "import session_info\n",
    "import pandas as pd\n",
    "import os\n",
    "import numpy as np\n",
    "from dotenv import load_dotenv\n",
    "\n",
    "load_dotenv()"
   ]
  },
  {
   "cell_type": "code",
   "execution_count": 2,
   "id": "9c67fbd3-b6f9-4ee9-8dcf-588479c9c267",
   "metadata": {},
   "outputs": [
    {
     "name": "stderr",
     "output_type": "stream",
     "text": [
      "/Users/alexantill/Göran_Karlsson_Lab/code_benchLLM/.venv/lib/python3.12/site-packages/session_info/main.py:213: UserWarning: The '__version__' attribute is deprecated and will be removed in MarkupSafe 3.1. Use feature detection, or `importlib.metadata.version(\"markupsafe\")`, instead.\n",
      "  mod_version = _find_version(mod.__version__)\n"
     ]
    },
    {
     "data": {
      "text/html": [
       "<details>\n",
       "<summary>Click to view session information</summary>\n",
       "<pre>\n",
       "-----\n",
       "cytetype            0.2.1\n",
       "dotenv              NA\n",
       "numpy               2.2.6\n",
       "pandas              2.2.3\n",
       "scanpy              1.11.1\n",
       "session_info        v1.0.1\n",
       "-----\n",
       "</pre>\n",
       "<details>\n",
       "<summary>Click to view modules imported as dependencies</summary>\n",
       "<pre>\n",
       "PIL                         11.2.1\n",
       "anndata                     0.11.4\n",
       "annotated_types             0.7.0\n",
       "anyio                       NA\n",
       "appnope                     0.1.4\n",
       "arrow                       1.3.0\n",
       "asttokens                   NA\n",
       "attr                        25.3.0\n",
       "attrs                       25.3.0\n",
       "babel                       2.17.0\n",
       "certifi                     2025.04.26\n",
       "charset_normalizer          3.4.2\n",
       "comm                        0.2.2\n",
       "cycler                      0.12.1\n",
       "cython_runtime              NA\n",
       "dateutil                    2.9.0.post0\n",
       "debugpy                     1.8.14\n",
       "decorator                   5.2.1\n",
       "defusedxml                  0.7.1\n",
       "executing                   2.2.0\n",
       "fastjsonschema              NA\n",
       "fqdn                        NA\n",
       "h5py                        3.13.0\n",
       "idna                        3.10\n",
       "igraph                      0.11.8\n",
       "ipykernel                   6.29.5\n",
       "isoduration                 NA\n",
       "jedi                        0.19.2\n",
       "jinja2                      3.1.6\n",
       "joblib                      1.5.1\n",
       "json5                       0.12.0\n",
       "jsonpointer                 3.0.0\n",
       "jsonschema                  4.23.0\n",
       "jsonschema_specifications   NA\n",
       "jupyter_events              0.12.0\n",
       "jupyter_server              2.16.0\n",
       "jupyterlab_server           2.27.3\n",
       "kiwisolver                  1.4.8\n",
       "legacy_api_wrap             NA\n",
       "leidenalg                   0.10.2\n",
       "llvmlite                    0.44.0\n",
       "loguru                      0.7.3\n",
       "markupsafe                  3.0.2\n",
       "matplotlib                  3.10.3\n",
       "mpl_toolkits                NA\n",
       "natsort                     8.4.0\n",
       "nbformat                    5.10.4\n",
       "numba                       0.61.2\n",
       "overrides                   NA\n",
       "packaging                   25.0\n",
       "parso                       0.8.4\n",
       "platformdirs                4.3.8\n",
       "prometheus_client           NA\n",
       "prompt_toolkit              3.0.51\n",
       "psutil                      7.0.0\n",
       "pure_eval                   0.2.3\n",
       "pydantic                    2.11.5\n",
       "pydantic_core               2.33.2\n",
       "pydev_ipython               NA\n",
       "pydevconsole                NA\n",
       "pydevd                      3.2.3\n",
       "pydevd_file_utils           NA\n",
       "pydevd_plugins              NA\n",
       "pydevd_tracing              NA\n",
       "pygments                    2.19.1\n",
       "pyparsing                   3.2.3\n",
       "pythonjsonlogger            NA\n",
       "pytz                        2025.2\n",
       "referencing                 NA\n",
       "requests                    2.32.3\n",
       "rfc3339_validator           0.1.4\n",
       "rfc3986_validator           0.1.1\n",
       "rpds                        NA\n",
       "scipy                       1.15.3\n",
       "send2trash                  NA\n",
       "six                         1.17.0\n",
       "sklearn                     1.5.2\n",
       "sniffio                     1.3.1\n",
       "stack_data                  0.6.3\n",
       "texttable                   1.7.0\n",
       "threadpoolctl               3.6.0\n",
       "tornado                     6.5.1\n",
       "traitlets                   5.14.3\n",
       "typing_extensions           NA\n",
       "typing_inspection           NA\n",
       "uri_template                NA\n",
       "urllib3                     2.4.0\n",
       "wcwidth                     0.2.13\n",
       "webcolors                   NA\n",
       "websocket                   1.8.0\n",
       "yaml                        6.0.2\n",
       "zmq                         26.4.0\n",
       "zoneinfo                    NA\n",
       "</pre>\n",
       "</details> <!-- seems like this ends pre, so might as well be explicit -->\n",
       "<pre>\n",
       "-----\n",
       "IPython             9.2.0\n",
       "jupyter_client      8.6.3\n",
       "jupyter_core        5.7.2\n",
       "jupyterlab          4.4.2\n",
       "-----\n",
       "Python 3.12.10 | packaged by conda-forge | (main, Apr 10 2025, 22:19:24) [Clang 18.1.8 ]\n",
       "macOS-15.3.2-arm64-arm-64bit\n",
       "-----\n",
       "Session information updated at 2025-05-30 09:13\n",
       "</pre>\n",
       "</details>"
      ],
      "text/plain": [
       "<IPython.core.display.HTML object>"
      ]
     },
     "execution_count": 2,
     "metadata": {},
     "output_type": "execute_result"
    }
   ],
   "source": [
    "# Session Info\n",
    "session_info.show()"
   ]
  },
  {
   "cell_type": "code",
   "execution_count": 4,
   "id": "4d19311e-9227-4f7c-81fd-1dfbc85fd9b6",
   "metadata": {},
   "outputs": [],
   "source": [
    "# Importing AnnData file\n",
    "# File Path\n",
    "file_path_Simone = os.path.expanduser(\"~/Göran_Karlsson_Lab/benchLLM/Simone_et_al/7d821d98-5b42-4480-8173-641c1b37b237.h5ad\")\n",
    "# AnnData Read In\n",
    "adata = sc.read_h5ad(file_path_Simone)"
   ]
  },
  {
   "cell_type": "code",
   "execution_count": 5,
   "id": "fe284f8c-39a5-498a-a7db-706129a62824",
   "metadata": {},
   "outputs": [
    {
     "name": "stderr",
     "output_type": "stream",
     "text": [
      "/Users/alexantill/Göran_Karlsson_Lab/code_benchLLM/.venv/lib/python3.12/site-packages/scanpy/preprocessing/_normalization.py:243: UserWarning: Some cells have zero counts\n",
      "  warn(UserWarning(\"Some cells have zero counts\"))\n",
      "/Users/alexantill/Göran_Karlsson_Lab/code_benchLLM/.venv/lib/python3.12/site-packages/scanpy/preprocessing/_simple.py:387: RuntimeWarning: invalid value encountered in log1p\n",
      "  np.log1p(X, out=X)\n"
     ]
    }
   ],
   "source": [
    "# Normalize (10,000 Counts per Cell)\n",
    "sc.pp.normalize_total(adata, target_sum=1e4)\n",
    "\n",
    "# Log1p transform\n",
    "sc.pp.log1p(adata)"
   ]
  },
  {
   "cell_type": "code",
   "execution_count": 26,
   "id": "568c4832-f22b-4d98-bdcf-634e3bc62d53",
   "metadata": {},
   "outputs": [
    {
     "name": "stdout",
     "output_type": "stream",
     "text": [
      "Min: nan\n",
      "Any NaNs in sparse data? True\n",
      "Any Infs in sparse data? False\n"
     ]
    }
   ],
   "source": [
    "# Explore log1p Error (It is due to NaNs)\n",
    "print(\"Min:\", np.min(adata.X))\n",
    "print(\"Any NaNs in sparse data?\", np.isnan(adata.X.data).any())\n",
    "print(\"Any Infs in sparse data?\", np.isinf(adata.X.data).any())"
   ]
  },
  {
   "cell_type": "code",
   "execution_count": 6,
   "id": "55d052cb-b53a-4d33-82f0-329f3c000c9a",
   "metadata": {},
   "outputs": [
    {
     "name": "stdout",
     "output_type": "stream",
     "text": [
      "WARNING: It seems you use rank_genes_groups on the raw count data. Please logarithmize your data before calling rank_genes_groups.\n"
     ]
    }
   ],
   "source": [
    "# Find Most Up/Down Regulated Genes \n",
    "sc.tl.rank_genes_groups(adata, groupby='cell_type', method='t-test', key_added = 'Rank_Genes_cell_type')  # try 'wilcoxon' if accurate\n"
   ]
  },
  {
   "cell_type": "code",
   "execution_count": 7,
   "id": "2d1a5f7e-b80b-45b9-b9cf-2496d9845d07",
   "metadata": {},
   "outputs": [
    {
     "ename": "TypeError",
     "evalue": "CyteType.__init__() got an unexpected keyword argument 'group_key'",
     "output_type": "error",
     "traceback": [
      "\u001b[31m---------------------------------------------------------------------------\u001b[39m",
      "\u001b[31mTypeError\u001b[39m                                 Traceback (most recent call last)",
      "\u001b[36mCell\u001b[39m\u001b[36m \u001b[39m\u001b[32mIn[7]\u001b[39m\u001b[32m, line 1\u001b[39m\n\u001b[32m----> \u001b[39m\u001b[32m1\u001b[39m annotator = \u001b[43mcytetype\u001b[49m\u001b[43m.\u001b[49m\u001b[43mCyteType\u001b[49m\u001b[43m(\u001b[49m\u001b[43madata\u001b[49m\u001b[43m,\u001b[49m\u001b[43m \u001b[49m\u001b[43mgroup_key\u001b[49m\u001b[43m \u001b[49m\u001b[43m=\u001b[49m\u001b[43m \u001b[49m\u001b[33;43m'\u001b[39;49m\u001b[33;43mcell_type\u001b[39;49m\u001b[33;43m'\u001b[39;49m\u001b[43m,\u001b[49m\u001b[43m \u001b[49m\u001b[43mrank_key\u001b[49m\u001b[43m=\u001b[49m\u001b[43m \u001b[49m\u001b[33;43m'\u001b[39;49m\u001b[33;43mRank_Genes_cell_type\u001b[39;49m\u001b[33;43m'\u001b[39;49m\u001b[43m,\u001b[49m\u001b[43m \u001b[49m\u001b[43mgene_symbols_column\u001b[49m\u001b[43m \u001b[49m\u001b[43m=\u001b[49m\u001b[43m \u001b[49m\u001b[33;43m'\u001b[39;49m\u001b[33;43mgene_name\u001b[39;49m\u001b[33;43m'\u001b[39;49m\u001b[43m)\u001b[49m\n",
      "\u001b[31mTypeError\u001b[39m: CyteType.__init__() got an unexpected keyword argument 'group_key'"
     ]
    }
   ],
   "source": [
    "annotator = cytetype.CyteType(adata, group_key = 'cell_type', rank_key= 'Rank_Genes_cell_type', gene_symbols_column = 'gene_name')"
   ]
  },
  {
   "cell_type": "code",
   "execution_count": null,
   "id": "c356e13d-17c2-48e8-9109-d508e3f0b416",
   "metadata": {},
   "outputs": [
    {
     "name": "stdout",
     "output_type": "stream",
     "text": [
      "Calculating expression percentages.\n"
     ]
    }
   ],
   "source": [
    "annotator = cytetype.CyteType(adata, cell_group_key = 'cell_type', rank_genes_key= 'Rank_Genes_cell_type', gene_symbols_column_name = 'gene_name')"
   ]
  },
  {
   "cell_type": "code",
   "execution_count": 14,
   "id": "c651ffee-c15a-4989-8cc5-1b9ad41e76f3",
   "metadata": {},
   "outputs": [
    {
     "ename": "TypeError",
     "evalue": "CyteType.run() got an unexpected keyword argument 'study_context'",
     "output_type": "error",
     "traceback": [
      "\u001b[31m---------------------------------------------------------------------------\u001b[39m",
      "\u001b[31mTypeError\u001b[39m                                 Traceback (most recent call last)",
      "\u001b[36mCell\u001b[39m\u001b[36m \u001b[39m\u001b[32mIn[14]\u001b[39m\u001b[32m, line 2\u001b[39m\n\u001b[32m      1\u001b[39m \u001b[38;5;66;03m# Run annotation with custom model\u001b[39;00m\n\u001b[32m----> \u001b[39m\u001b[32m2\u001b[39m adata = \u001b[43mannotator\u001b[49m\u001b[43m.\u001b[49m\u001b[43mrun\u001b[49m\u001b[43m(\u001b[49m\n\u001b[32m      3\u001b[39m \u001b[43m    \u001b[49m\u001b[43mstudy_context\u001b[49m\u001b[43m \u001b[49m\u001b[43m=\u001b[49m\u001b[43m \u001b[49m\u001b[33;43m\"\u001b[39;49m\u001b[33;43mAdult human peripheral blood\u001b[39;49m\u001b[33;43m\"\u001b[39;49m\u001b[43m,\u001b[49m\n\u001b[32m      4\u001b[39m \u001b[43m    \u001b[49m\u001b[43mmodel_config\u001b[49m\u001b[43m \u001b[49m\u001b[43m=\u001b[49m\u001b[43m \u001b[49m\u001b[43m[\u001b[49m\u001b[43m{\u001b[49m\n\u001b[32m      5\u001b[39m \u001b[43m        \u001b[49m\u001b[33;43m'\u001b[39;49m\u001b[33;43mprovider\u001b[39;49m\u001b[33;43m'\u001b[39;49m\u001b[43m:\u001b[49m\u001b[43m \u001b[49m\u001b[33;43m'\u001b[39;49m\u001b[33;43mopenai\u001b[39;49m\u001b[33;43m'\u001b[39;49m\u001b[43m,\u001b[49m\n\u001b[32m      6\u001b[39m \u001b[43m        \u001b[49m\u001b[33;43m'\u001b[39;49m\u001b[33;43mname\u001b[39;49m\u001b[33;43m'\u001b[39;49m\u001b[43m:\u001b[49m\u001b[43m \u001b[49m\u001b[33;43m'\u001b[39;49m\u001b[33;43mmeta-llama/llama-4-maverick\u001b[39;49m\u001b[33;43m'\u001b[39;49m\u001b[43m,\u001b[49m\n\u001b[32m      7\u001b[39m \u001b[43m        \u001b[49m\u001b[33;43m'\u001b[39;49m\u001b[33;43mapiKey\u001b[39;49m\u001b[33;43m'\u001b[39;49m\u001b[43m:\u001b[49m\u001b[43m \u001b[49m\u001b[43mos\u001b[49m\u001b[43m.\u001b[49m\u001b[43menviron\u001b[49m\u001b[43m.\u001b[49m\u001b[43mget\u001b[49m\u001b[43m(\u001b[49m\u001b[33;43m'\u001b[39;49m\u001b[33;43mOPENROUTER_API_KEY\u001b[39;49m\u001b[33;43m'\u001b[39;49m\u001b[43m)\u001b[49m\u001b[43m,\u001b[49m\n\u001b[32m      8\u001b[39m \u001b[43m        \u001b[49m\u001b[33;43m'\u001b[39;49m\u001b[33;43mbaseUrl\u001b[39;49m\u001b[33;43m'\u001b[39;49m\u001b[43m:\u001b[49m\u001b[43m \u001b[49m\u001b[33;43m\"\u001b[39;49m\u001b[33;43mhttps://openrouter.ai/api/v1\u001b[39;49m\u001b[33;43m\"\u001b[39;49m\u001b[43m,\u001b[49m\n\u001b[32m      9\u001b[39m \u001b[43m    \u001b[49m\u001b[43m}\u001b[49m\u001b[43m]\u001b[49m\u001b[43m,\u001b[49m\n\u001b[32m     10\u001b[39m \u001b[43m    \u001b[49m\u001b[43mauth_token\u001b[49m\u001b[43m \u001b[49m\u001b[43m=\u001b[49m\u001b[43m \u001b[49m\u001b[43mos\u001b[49m\u001b[43m.\u001b[49m\u001b[43menviron\u001b[49m\u001b[43m.\u001b[49m\u001b[43mget\u001b[49m\u001b[43m(\u001b[49m\u001b[33;43m'\u001b[39;49m\u001b[33;43mNYGEN_API_KEY\u001b[39;49m\u001b[33;43m'\u001b[39;49m\u001b[43m)\u001b[49m\n\u001b[32m     11\u001b[39m \n\u001b[32m     12\u001b[39m \u001b[43m)\u001b[49m\n",
      "\u001b[31mTypeError\u001b[39m: CyteType.run() got an unexpected keyword argument 'study_context'"
     ]
    }
   ],
   "source": [
    "# Run annotation with custom model\n",
    "adata = annotator.run(\n",
    "    study_context = \"Adult human peripheral blood\",\n",
    "    model_config = [{\n",
    "        'provider': 'openai',\n",
    "        'name': 'meta-llama/llama-4-maverick',\n",
    "        'apiKey': os.environ.get('OPENROUTER_API_KEY'),\n",
    "        'baseUrl': \"https://openrouter.ai/api/v1\",\n",
    "    }],\n",
    "    auth_token = os.environ.get('NYGEN_API_KEY'), \n",
    "\n",
    ")"
   ]
  },
  {
   "cell_type": "code",
   "execution_count": 14,
   "id": "0b70f9f5-0361-42b8-9869-77218f767eec",
   "metadata": {},
   "outputs": [
    {
     "data": {
      "text/plain": [
       "GATCACACACGGGTAA-1_10X_3-rep1     CD4-positive, alpha-beta T cell\n",
       "GTGTGGCTCTATTGTC-1_10X_3-rep1              CD14-positive monocyte\n",
       "CTCGAGGGTTCGGTTA-1_10X_3-rep1                       megakaryocyte\n",
       "TCTACATGTGTCCGGT-1_10X_3-rep1              CD14-positive monocyte\n",
       "GGTGAAGTCGTTCCTG-1_10X_3-rep1                 natural killer cell\n",
       "                                               ...               \n",
       "TTTTGCAAATTT_Scipio-rep2                   CD14-positive monocyte\n",
       "TTTTGGCCGACG_Scipio-rep2         CD14-low, CD16-positive monocyte\n",
       "TTTTGGCGGCCC_Scipio-rep2          CD4-positive, alpha-beta T cell\n",
       "TTTTGTAACTCA_Scipio-rep2                      natural killer cell\n",
       "TTTTTTTTTTTT_Scipio-rep2                   CD14-positive monocyte\n",
       "Name: cell_type, Length: 124132, dtype: category\n",
       "Categories (10, object): ['B cell', 'CD4-positive, alpha-beta T cell', 'CD14-positive monocyte', 'CD14-low, CD16-positive monocyte', ..., 'megakaryocyte', 'natural killer cell', 'plasmacytoid dendritic cell', 'unknown']"
      ]
     },
     "execution_count": 14,
     "metadata": {},
     "output_type": "execute_result"
    }
   ],
   "source": [
    "adata.obs.cell_type"
   ]
  },
  {
   "cell_type": "code",
   "execution_count": 32,
   "id": "da99936c-1d7d-4286-a311-c19b97f1560f",
   "metadata": {},
   "outputs": [
    {
     "data": {
      "text/plain": [
       "GATCACACACGGGTAA-1_10X_3-rep1                 T cell\n",
       "GTGTGGCTCTATTGTC-1_10X_3-rep1               Monocyte\n",
       "CTCGAGGGTTCGGTTA-1_10X_3-rep1               Platelet\n",
       "TCTACATGTGTCCGGT-1_10X_3-rep1               Monocyte\n",
       "GGTGAAGTCGTTCCTG-1_10X_3-rep1    Natural killer cell\n",
       "                                        ...         \n",
       "TTTTGCAAATTT_Scipio-rep2                    Monocyte\n",
       "TTTTGGCCGACG_Scipio-rep2                    Monocyte\n",
       "TTTTGGCGGCCC_Scipio-rep2                      T cell\n",
       "TTTTGTAACTCA_Scipio-rep2         Natural killer cell\n",
       "TTTTTTTTTTTT_Scipio-rep2                    Monocyte\n",
       "Name: CyteType_cell_type, Length: 124132, dtype: category\n",
       "Categories (8, object): ['Cytotoxic T cell', 'Dendritic cell', 'Monocyte', 'Naive B cell', 'Natural killer cell', 'Plasmacytoid dendritic cell', 'Platelet', 'T cell']"
      ]
     },
     "execution_count": 32,
     "metadata": {},
     "output_type": "execute_result"
    }
   ],
   "source": [
    "adata.obs['CyteType_cell_type']"
   ]
  },
  {
   "cell_type": "code",
   "execution_count": 44,
   "id": "753d016b-8448-4503-af4b-3869c3d41dba",
   "metadata": {},
   "outputs": [],
   "source": [
    "Author_vs_Llama4Mav = pd.crosstab(adata.obs.cell_type, adata.obs.CyteType_cell_type).T.idxmax()"
   ]
  },
  {
   "cell_type": "code",
   "execution_count": 39,
   "id": "b2395dbd-d361-454e-a1b6-50f45ea48323",
   "metadata": {},
   "outputs": [
    {
     "data": {
      "text/plain": [
       "{'B cell': '1',\n",
       " 'CD14-low, CD16-positive monocyte': '2',\n",
       " 'CD14-positive monocyte': '3',\n",
       " 'CD4-positive, alpha-beta T cell': '4',\n",
       " 'cytotoxic T cell': '5',\n",
       " 'dendritic cell': '6',\n",
       " 'megakaryocyte': '7',\n",
       " 'natural killer cell': '8',\n",
       " 'plasmacytoid dendritic cell': '9',\n",
       " 'unknown': '10'}"
      ]
     },
     "execution_count": 39,
     "metadata": {},
     "output_type": "execute_result"
    }
   ],
   "source": [
    "annotator.cluster_map"
   ]
  },
  {
   "cell_type": "code",
   "execution_count": 48,
   "id": "ca8a7579-bc35-4b3d-8359-8f68d191d011",
   "metadata": {},
   "outputs": [],
   "source": [
    "Author_vs_Llama4Mav.reset_index().to_csv(\"/Users/alexantill/Göran_Karlsson_Lab/benchLLM/Simone_et_al/author_vs_Llama4.csv\", index=False)"
   ]
  },
  {
   "cell_type": "code",
   "execution_count": 46,
   "id": "3a58c1bf-1a31-4e19-a791-9038ec623d21",
   "metadata": {},
   "outputs": [
    {
     "data": {
      "text/plain": [
       "cell_type\n",
       "B cell                                           B cell\n",
       "CD4-positive, alpha-beta T cell                  T cell\n",
       "CD14-positive monocyte                         Monocyte\n",
       "CD14-low, CD16-positive monocyte               Monocyte\n",
       "cytotoxic T cell                                 T cell\n",
       "dendritic cell                                 Monocyte\n",
       "megakaryocyte                             Megakaryocyte\n",
       "natural killer cell                 Natural Killer Cell\n",
       "plasmacytoid dendritic cell                      B cell\n",
       "unknown                                          B cell\n",
       "dtype: category\n",
       "Categories (5, object): ['B cell', 'Megakaryocyte', 'Monocyte', 'Natural Killer Cell', 'T cell']"
      ]
     },
     "execution_count": 46,
     "metadata": {},
     "output_type": "execute_result"
    }
   ],
   "source": [
    "Author_vs_Llama4Mav"
   ]
  },
  {
   "cell_type": "code",
   "execution_count": 1,
   "id": "2a9ca24e-3101-4a82-9515-af6b85a220b3",
   "metadata": {},
   "outputs": [
    {
     "name": "stdout",
     "output_type": "stream",
     "text": [
      "\u001b[2mUsing Python 3.12.10 environment at: /Users/alexantill/Göran_Karlsson_Lab/code_benchLLM/.venv\u001b[0m\n",
      "\u001b[2K\u001b[2mResolved \u001b[1m27 packages\u001b[0m \u001b[2min 475ms\u001b[0m\u001b[0m                                        \u001b[0m\n",
      "\u001b[2K\u001b[2mPrepared \u001b[1m1 package\u001b[0m \u001b[2min 27ms\u001b[0m\u001b[0m                                               \n",
      "\u001b[2mUninstalled \u001b[1m1 package\u001b[0m \u001b[2min 3ms\u001b[0m\u001b[0m\n",
      "\u001b[2K\u001b[2mInstalled \u001b[1m1 package\u001b[0m \u001b[2min 1ms\u001b[0m\u001b[0m                                  \u001b[0m\n",
      " \u001b[31m-\u001b[39m \u001b[1mcytetype\u001b[0m\u001b[2m==0.2.1\u001b[0m\n",
      " \u001b[32m+\u001b[39m \u001b[1mcytetype\u001b[0m\u001b[2m==0.3.1\u001b[0m\n"
     ]
    }
   ],
   "source": [
    "!uv pip install -U cytetype"
   ]
  },
  {
   "cell_type": "code",
   "execution_count": 13,
   "id": "84a3cd5b-dbc4-4b50-a2b9-194005ffb74f",
   "metadata": {},
   "outputs": [
    {
     "data": {
      "text/plain": [
       "<cytetype.main.CyteType at 0x15d15ca10>"
      ]
     },
     "execution_count": 13,
     "metadata": {},
     "output_type": "execute_result"
    }
   ],
   "source": [
    "annotator"
   ]
  }
 ],
 "metadata": {
  "kernelspec": {
   "display_name": "Python 3 (ipykernel)",
   "language": "python",
   "name": "python3"
  },
  "language_info": {
   "codemirror_mode": {
    "name": "ipython",
    "version": 3
   },
   "file_extension": ".py",
   "mimetype": "text/x-python",
   "name": "python",
   "nbconvert_exporter": "python",
   "pygments_lexer": "ipython3",
   "version": "3.12.10"
  }
 },
 "nbformat": 4,
 "nbformat_minor": 5
}
