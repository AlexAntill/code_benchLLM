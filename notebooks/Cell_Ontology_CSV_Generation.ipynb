{
 "cells": [
  {
   "cell_type": "markdown",
   "id": "a93b1466-b29d-4f8e-b09b-2740b8aff9d7",
   "metadata": {},
   "source": [
    "# Generate Exhaustive Cell ID List"
   ]
  },
  {
   "cell_type": "code",
   "execution_count": 1,
   "id": "aeb90952-f3b5-4e7f-8314-085da0cc847c",
   "metadata": {},
   "outputs": [],
   "source": [
    "# Import Packages\n",
    "import obonet\n",
    "import pandas as pd"
   ]
  },
  {
   "cell_type": "code",
   "execution_count": 2,
   "id": "4438b5bf-4b69-4829-8314-0d25303626c5",
   "metadata": {},
   "outputs": [
    {
     "name": "stdout",
     "output_type": "stream",
     "text": [
      "Loading Cell Ontology...\n",
      "Ontology loaded.\n"
     ]
    }
   ],
   "source": [
    "# Load Cell Ontology from OBO file\n",
    "url = 'http://purl.obolibrary.org/obo/cl.obo'\n",
    "print('Loading Cell Ontology...')\n",
    "graph = obonet.read_obo(url)\n",
    "print('Ontology loaded.')\n",
    "\n",
    "# Collect all names + synonyms\n",
    "records = []\n",
    "for node_id, data in graph.nodes(data=True):\n",
    "    if data.get('name'):\n",
    "        records.append({'ontology_id': node_id, 'label': data['name']})\n",
    "    synonyms = data.get('synonym', [])\n",
    "    for synonym in synonyms:\n",
    "        # Extract text inside quotes\n",
    "        parts = synonym.split('\"')\n",
    "        if len(parts) >= 2:\n",
    "            synonym_text = parts[1]\n",
    "            records.append({'ontology_id': node_id, 'label': synonym_text})\n"
   ]
  },
  {
   "cell_type": "code",
   "execution_count": 21,
   "id": "a18fd903-5c43-4c73-8bf8-d9e3a7c32c71",
   "metadata": {},
   "outputs": [],
   "source": [
    "df = pd.DataFrame(records).drop_duplicates()"
   ]
  },
  {
   "cell_type": "code",
   "execution_count": 20,
   "id": "717d9467-e9a1-411b-bd04-b2be104d061c",
   "metadata": {},
   "outputs": [],
   "source": [
    "# Save to CSV\n",
    "df.iloc[:6156,].to_csv(\"/Users/alexantill/Göran_Karlsson_Lab/benchLLM/cell_to_cell_ontology.csv\", index=False)"
   ]
  }
 ],
 "metadata": {
  "kernelspec": {
   "display_name": "Python 3 (ipykernel)",
   "language": "python",
   "name": "python3"
  },
  "language_info": {
   "codemirror_mode": {
    "name": "ipython",
    "version": 3
   },
   "file_extension": ".py",
   "mimetype": "text/x-python",
   "name": "python",
   "nbconvert_exporter": "python",
   "pygments_lexer": "ipython3",
   "version": "3.12.10"
  }
 },
 "nbformat": 4,
 "nbformat_minor": 5
}
