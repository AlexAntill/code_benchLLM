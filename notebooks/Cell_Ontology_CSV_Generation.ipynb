{
 "cells": [
  {
   "cell_type": "markdown",
   "id": "a93b1466-b29d-4f8e-b09b-2740b8aff9d7",
   "metadata": {},
   "source": [
    "# Generate Exhaustive Cell ID List"
   ]
  },
  {
   "cell_type": "code",
   "execution_count": 1,
   "id": "aeb90952-f3b5-4e7f-8314-085da0cc847c",
   "metadata": {},
   "outputs": [],
   "source": [
    "# Import Packages\n",
    "import obonet\n",
    "import pandas as pd"
   ]
  },
  {
   "cell_type": "code",
   "execution_count": 2,
   "id": "4438b5bf-4b69-4829-8314-0d25303626c5",
   "metadata": {},
   "outputs": [
    {
     "name": "stdout",
     "output_type": "stream",
     "text": [
      "Loading Cell Ontology...\n",
      "Ontology loaded.\n"
     ]
    }
   ],
   "source": [
    "# Load Cell Ontology from OBO file\n",
    "url = 'http://purl.obolibrary.org/obo/cl.obo'\n",
    "print('Loading Cell Ontology...')\n",
    "graph = obonet.read_obo(url)\n",
    "print('Ontology loaded.')\n",
    "\n",
    "# Collect all names + synonyms\n",
    "records = []\n",
    "for node_id, data in graph.nodes(data=True):\n",
    "    if data.get('name'):\n",
    "        records.append({'ontology_id': node_id, 'label': data['name']})\n",
    "    synonyms = data.get('synonym', [])\n",
    "    for synonym in synonyms:\n",
    "        # Extract text inside quotes\n",
    "        parts = synonym.split('\"')\n",
    "        if len(parts) >= 2:\n",
    "            synonym_text = parts[1]\n",
    "            records.append({'ontology_id': node_id, 'label': synonym_text})\n"
   ]
  },
  {
   "cell_type": "code",
   "execution_count": 4,
   "id": "a18fd903-5c43-4c73-8bf8-d9e3a7c32c71",
   "metadata": {},
   "outputs": [
    {
     "data": {
      "text/html": [
       "<div>\n",
       "<style scoped>\n",
       "    .dataframe tbody tr th:only-of-type {\n",
       "        vertical-align: middle;\n",
       "    }\n",
       "\n",
       "    .dataframe tbody tr th {\n",
       "        vertical-align: top;\n",
       "    }\n",
       "\n",
       "    .dataframe thead th {\n",
       "        text-align: right;\n",
       "    }\n",
       "</style>\n",
       "<table border=\"1\" class=\"dataframe\">\n",
       "  <thead>\n",
       "    <tr style=\"text-align: right;\">\n",
       "      <th></th>\n",
       "      <th>ontology_id</th>\n",
       "      <th>label</th>\n",
       "    </tr>\n",
       "  </thead>\n",
       "  <tbody>\n",
       "    <tr>\n",
       "      <th>0</th>\n",
       "      <td>CL:0000000</td>\n",
       "      <td>cell</td>\n",
       "    </tr>\n",
       "    <tr>\n",
       "      <th>1</th>\n",
       "      <td>CL:0000001</td>\n",
       "      <td>primary cultured cell</td>\n",
       "    </tr>\n",
       "    <tr>\n",
       "      <th>2</th>\n",
       "      <td>CL:0000001</td>\n",
       "      <td>primary cell culture cell</td>\n",
       "    </tr>\n",
       "    <tr>\n",
       "      <th>3</th>\n",
       "      <td>CL:0000001</td>\n",
       "      <td>primary cell line cell</td>\n",
       "    </tr>\n",
       "    <tr>\n",
       "      <th>4</th>\n",
       "      <td>CL:0000001</td>\n",
       "      <td>unpassaged cultured cell</td>\n",
       "    </tr>\n",
       "    <tr>\n",
       "      <th>...</th>\n",
       "      <td>...</td>\n",
       "      <td>...</td>\n",
       "    </tr>\n",
       "    <tr>\n",
       "      <th>61623</th>\n",
       "      <td>http://identifiers.org/ensembl/ENSG00000206073</td>\n",
       "      <td>SERPINB4</td>\n",
       "    </tr>\n",
       "    <tr>\n",
       "      <th>61624</th>\n",
       "      <td>http://identifiers.org/ensembl/ENSG00000215182</td>\n",
       "      <td>MUC5AC</td>\n",
       "    </tr>\n",
       "    <tr>\n",
       "      <th>61625</th>\n",
       "      <td>http://identifiers.org/ensembl/ENSG00000235665</td>\n",
       "      <td>LINC00298</td>\n",
       "    </tr>\n",
       "    <tr>\n",
       "      <th>61626</th>\n",
       "      <td>http://identifiers.org/ensembl/ENSG00000242265</td>\n",
       "      <td>PEG10</td>\n",
       "    </tr>\n",
       "    <tr>\n",
       "      <th>61627</th>\n",
       "      <td>http://identifiers.org/ensembl/ENSG00000256193</td>\n",
       "      <td>LINC00507</td>\n",
       "    </tr>\n",
       "  </tbody>\n",
       "</table>\n",
       "<p>61206 rows × 2 columns</p>\n",
       "</div>"
      ],
      "text/plain": [
       "                                          ontology_id  \\\n",
       "0                                          CL:0000000   \n",
       "1                                          CL:0000001   \n",
       "2                                          CL:0000001   \n",
       "3                                          CL:0000001   \n",
       "4                                          CL:0000001   \n",
       "...                                               ...   \n",
       "61623  http://identifiers.org/ensembl/ENSG00000206073   \n",
       "61624  http://identifiers.org/ensembl/ENSG00000215182   \n",
       "61625  http://identifiers.org/ensembl/ENSG00000235665   \n",
       "61626  http://identifiers.org/ensembl/ENSG00000242265   \n",
       "61627  http://identifiers.org/ensembl/ENSG00000256193   \n",
       "\n",
       "                           label  \n",
       "0                           cell  \n",
       "1          primary cultured cell  \n",
       "2      primary cell culture cell  \n",
       "3         primary cell line cell  \n",
       "4       unpassaged cultured cell  \n",
       "...                          ...  \n",
       "61623                   SERPINB4  \n",
       "61624                     MUC5AC  \n",
       "61625                  LINC00298  \n",
       "61626                      PEG10  \n",
       "61627                  LINC00507  \n",
       "\n",
       "[61206 rows x 2 columns]"
      ]
     },
     "execution_count": 4,
     "metadata": {},
     "output_type": "execute_result"
    }
   ],
   "source": [
    "df = pd.DataFrame(records).drop_duplicates()\n",
    "df"
   ]
  },
  {
   "cell_type": "code",
   "execution_count": 20,
   "id": "717d9467-e9a1-411b-bd04-b2be104d061c",
   "metadata": {},
   "outputs": [],
   "source": [
    "# Save to CSV\n",
    "df.iloc[:6156,].to_csv(\"/Users/alexantill/Göran_Karlsson_Lab/benchLLM/cell_to_cell_ontology.csv\", index=False)"
   ]
  }
 ],
 "metadata": {
  "kernelspec": {
   "display_name": "Python 3 (ipykernel)",
   "language": "python",
   "name": "python3"
  },
  "language_info": {
   "codemirror_mode": {
    "name": "ipython",
    "version": 3
   },
   "file_extension": ".py",
   "mimetype": "text/x-python",
   "name": "python",
   "nbconvert_exporter": "python",
   "pygments_lexer": "ipython3",
   "version": "3.12.10"
  }
 },
 "nbformat": 4,
 "nbformat_minor": 5
}
