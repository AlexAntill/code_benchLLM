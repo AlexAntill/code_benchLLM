{
 "cells": [
  {
   "cell_type": "markdown",
   "id": "b5ed2d55-af11-4066-89c2-c48db1cfd00b",
   "metadata": {},
   "source": [
    "# Gene Ontology Similarity Comparisons"
   ]
  },
  {
   "cell_type": "code",
   "execution_count": 1,
   "id": "8ffc3e09-fce9-4b5f-8be8-38056d347ca0",
   "metadata": {},
   "outputs": [],
   "source": [
    "# Import\n",
    "import pandas as pd\n",
    "import obonet\n",
    "import networkx as nx\n",
    "import os"
   ]
  },
  {
   "cell_type": "code",
   "execution_count": 13,
   "id": "2c32bfc7-0648-41e5-8228-1cc25bdf5678",
   "metadata": {},
   "outputs": [],
   "source": [
    "# === Step 1: Load the CSV ===\n",
    "file_path = os.path.expanduser(\"~/Göran_Karlsson_Lab/benchLLM/Simone_et_al/author_vs_Llama4.csv\")\n",
    "df = pd.read_csv(file_path)\n",
    "\n",
    "# Load Label-to-ID Mappings from CSV\n",
    "mapping_df = pd.read_csv(os.path.expanduser(\"~/Göran_Karlsson_Lab/benchLLM/cell_to_cell_ontology.csv\"))\n",
    "label_to_id = dict(zip(mapping_df['label'], mapping_df['ontology_id']))\n",
    "label_to_id_ci = {k.lower(): v for k, v in label_to_id.items()}"
   ]
  },
  {
   "cell_type": "code",
   "execution_count": 10,
   "id": "ee2a06f4-c50f-43a9-89d4-161523c1908e",
   "metadata": {},
   "outputs": [
    {
     "name": "stdout",
     "output_type": "stream",
     "text": [
      "Loading Cell Ontology...\n",
      "Ontology loaded.\n"
     ]
    }
   ],
   "source": [
    "# Load Cell Ontology\n",
    "url = 'http://purl.obolibrary.org/obo/cl.obo'\n",
    "print('Loading Cell Ontology...')\n",
    "G = obonet.read_obo(url)\n",
    "print('Ontology loaded.')"
   ]
  },
  {
   "cell_type": "code",
   "execution_count": 31,
   "id": "3a54277e-4de9-44ea-8f1c-05cd69358623",
   "metadata": {},
   "outputs": [],
   "source": [
    "# === Step 4: Compute Similarity ===\n",
    "def compute_similarity(id1, id2, graph):\n",
    "    if id1 is None or id2 is None:\n",
    "        return 0\n",
    "    try:\n",
    "        path_length = nx.shortest_path_length(graph, id1, id2)\n",
    "        max_depth = 10  # adjust as needed for normalization\n",
    "        similarity = 1 - (path_length / max_depth)\n",
    "        return max(similarity, 0)\n",
    "    except nx.NetworkXNoPath:\n",
    "        return 0\n",
    "\n",
    "similarity_scores = []\n",
    "for _, row in df.iterrows():\n",
    "    author_label = row['cell_type'].lower()\n",
    "    llama_label = row['0'].lower()\n",
    "    \n",
    "    id1 = label_to_id_ci.get(author_label)\n",
    "    id2 = label_to_id_ci.get(llama_label)\n",
    "    \n",
    "    sim = compute_similarity(id1, id2, G)\n",
    "    similarity_scores.append(sim)\n",
    "\n",
    "# Add to dataframe\n",
    "df['similarity_score'] = similarity_scores"
   ]
  },
  {
   "cell_type": "code",
   "execution_count": 34,
   "id": "77ecd89a-1268-444b-8260-7a1e452bc6c8",
   "metadata": {},
   "outputs": [],
   "source": [
    "# Save Results as CSV\n",
    "output_file = '~/Göran_Karlsson_Lab/benchLLM/Simone_et_al/author_vs_llama4_similarity.csv'\n",
    "df.to_csv(output_file, index=False)"
   ]
  }
 ],
 "metadata": {
  "kernelspec": {
   "display_name": "Python 3 (ipykernel)",
   "language": "python",
   "name": "python3"
  },
  "language_info": {
   "codemirror_mode": {
    "name": "ipython",
    "version": 3
   },
   "file_extension": ".py",
   "mimetype": "text/x-python",
   "name": "python",
   "nbconvert_exporter": "python",
   "pygments_lexer": "ipython3",
   "version": "3.12.10"
  }
 },
 "nbformat": 4,
 "nbformat_minor": 5
}
