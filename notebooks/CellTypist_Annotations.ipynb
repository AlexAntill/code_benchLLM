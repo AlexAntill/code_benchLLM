{
 "cells": [
  {
   "cell_type": "markdown",
   "id": "e3a75caf-6753-4cb9-aeb2-12b0a47f2fc7",
   "metadata": {},
   "source": [
    "# CellTypist Annotations\n",
    "This notebook will load in datasets and process them. This will enable CellTypist to auto-annotate based on its references. The most predominant cell type will be used to reannotate the authors' cluster."
   ]
  },
  {
   "cell_type": "code",
   "execution_count": 1,
   "id": "6366de36-38d0-47ba-b7db-f592b1c8f469",
   "metadata": {},
   "outputs": [
    {
     "name": "stderr",
     "output_type": "stream",
     "text": [
      "/Users/alexantill/Göran_Karlsson_Lab/code_benchLLM/.venv/lib/python3.12/site-packages/leidenalg/VertexPartition.py:413: SyntaxWarning: invalid escape sequence '\\m'\n",
      "  .. math:: Q = \\\\frac{1}{m} \\\\sum_{ij} \\\\left(A_{ij} - \\\\frac{k_i^\\mathrm{out} k_j^\\mathrm{in}}{m} \\\\right)\\\\delta(\\\\sigma_i, \\\\sigma_j),\n",
      "/Users/alexantill/Göran_Karlsson_Lab/code_benchLLM/.venv/lib/python3.12/site-packages/leidenalg/VertexPartition.py:788: SyntaxWarning: invalid escape sequence '\\m'\n",
      "  .. math:: Q = \\\\sum_{ij} \\\\left(A_{ij} - \\\\gamma \\\\frac{k_i^\\mathrm{out} k_j^\\mathrm{in}}{m} \\\\right)\\\\delta(\\\\sigma_i, \\\\sigma_j),\n",
      "/Users/alexantill/Göran_Karlsson_Lab/code_benchLLM/.venv/lib/python3.12/site-packages/leidenalg/Optimiser.py:27: SyntaxWarning: invalid escape sequence '\\g'\n",
      "  implementation therefore does not guarantee subpartition :math:`\\gamma`-density.\n",
      "/Users/alexantill/Göran_Karlsson_Lab/code_benchLLM/.venv/lib/python3.12/site-packages/leidenalg/Optimiser.py:346: SyntaxWarning: invalid escape sequence '\\s'\n",
      "  .. math:: Q = \\sum_k \\\\lambda_k Q_k.\n"
     ]
    }
   ],
   "source": [
    "# Importing Require Libraries\n",
    "import celltypist\n",
    "import scanpy as sc\n",
    "import session_info\n",
    "import pandas as pd\n",
    "import os"
   ]
  },
  {
   "cell_type": "code",
   "execution_count": 2,
   "id": "f5904b0f-9419-4048-9d73-46fbe3b4b57e",
   "metadata": {},
   "outputs": [],
   "source": [
    "## Importing and Reading in Pilot Datasets \n",
    "# File Paths for Datasets\n",
    "# Granja et al\n",
    "file_path_two = os.path.expanduser(\"~/Göran_Karlsson_Lab/benchLLM/Granja_et_al/scRNA-hematopoiesis-Granja-2019.h5ad\")\n",
    "# Jardine et al \n",
    "file_path_three = os.path.expanduser(\"~/Göran_Karlsson_Lab/benchLLM/Jardine_et_al/fig1b_fbm_scaled_gex_updated_dr_20210104.h5ad\")\n",
    "# Heimlich et al \n",
    "file_path_four = os.path.expanduser(\"~/Göran_Karlsson_Lab/benchLLM/Heimlich_et_al/5e3e4027-0675-4d5f-b223-bb03a17ade71.h5ad\")\n",
    "# huuhtanen et al \n",
    "file_path_five = os.path.expanduser(\"~/Göran_Karlsson_Lab/benchLLM/Huuhtanen_et_al/Fig1B_cml_public_seurat_RDS.h5\")\n",
    "# Roy et al \n",
    "file_path_six = os.path.expanduser(\"~/Göran_Karlsson_Lab/benchLLM/Roy_et_al/GSE155259_Roy_et_al.h5ad\")\n",
    "# Petti et al \n",
    "#file_path_seven = os.path.expanduser(\"~/Göran_Karlsson_Lab/benchLLM/Petti_et_al/Petti_508084.h5ad\")\n",
    "#file_path_eight = os.path.expanduser(\"~/Göran_Karlsson_Lab/benchLLM/Petti_et_al/Petti_548327.h5ad\")\n",
    "#file_path_nine = os.path.expanduser(\"~/Göran_Karlsson_Lab/benchLLM/Petti_et_al/Petti_721214.h5ad\")\n",
    "#file_path_ten = os.path.expanduser(\"~/Göran_Karlsson_Lab/benchLLM/Petti_et_al/Petti_782328.h5ad\")\n",
    "#file_path_eleven = os.path.expanduser(\"~/Göran_Karlsson_Lab/benchLLM/Petti_et_al/Petti_809653.h5ad\")\n",
    "# Simone et al \n",
    "file_path_twelve = os.path.expanduser(\"~/Göran_Karlsson_Lab/benchLLM/Simone_et_al/7d821d98-5b42-4480-8173-641c1b37b237.h5ad\")\n",
    "\n",
    "# Reading in Datasets as ScanPy Objects\n",
    "#adata_0 = sc.read_h5ad(file_path_two)\n",
    "#adata_1 = sc.read_h5ad(file_path_three)\n",
    "#adata_2 = sc.read_h5ad(file_path_four)\n",
    "#adata_3 = sc.read_10x_h5(file_path_five)\n",
    "#adata_4 = sc.read_h5ad(file_path_six)\n",
    "#adata_5 = sc.read_h5ad(file_path_seven)\n",
    "#adata_6 = sc.read_h5ad(file_path_eight)\n",
    "#adata_7 = sc.read_h5ad(file_path_nine)\n",
    "#adata_8 = sc.read_h5ad(file_path_ten)\n",
    "#adata_9 = sc.read_h5ad(file_path_eleven)\n",
    "adata_10 = sc.read_h5ad(file_path_twelve)\n"
   ]
  },
  {
   "cell_type": "markdown",
   "id": "525e0771-507e-4d9e-99d4-0f757ad3ddc1",
   "metadata": {
    "jp-MarkdownHeadingCollapsed": true
   },
   "source": [
    "### Granja <i> et al. </i> (2019) <i> Nature Biotechnology </i>\n",
    "Normalise (10 000 Counts per Cell) <br>\n",
    "Log <br>\n",
    "Annotate (Immune_All_Low and Immune_All_High) <br>\n",
    "Label Individual Cells then Clusters <br>\n",
    "Authors' Clusters are \"BioClassification\" <br>"
   ]
  },
  {
   "cell_type": "code",
   "execution_count": null,
   "id": "0f1286fc-1245-4520-8e1d-98a537d3a8b9",
   "metadata": {},
   "outputs": [],
   "source": [
    "# Predicts Cluster Type by Most Common Cell in Cluster\n",
    "# Normalize to 10,000 counts per cell\n",
    "sc.pp.normalize_total(adata_0, target_sum=1e4)\n",
    "\n",
    "# Log1p transform\n",
    "sc.pp.log1p(adata_0)\n",
    "\n",
    "# Run CellTypist Annotation on Single Cells (Immune_All_Low.pkl or Immune_All_high.pkl)\n",
    "results = celltypist.annotate(adata_0, model='Immune_All_Low.pkl')\n",
    "\n",
    "# Add predicted labels to the original AnnData object\n",
    "adata_0.obs['celltypist_labels'] = results.predicted_labels.predicted_labels\n",
    "\n",
    "# Compute the most common celltypist label in each cluster\n",
    "cluster_map = (\n",
    "    adata_0.obs\n",
    "    .groupby('BioClassification')['celltypist_labels']\n",
    "    .agg(lambda x: x.value_counts().idxmax())\n",
    ")\n",
    "\n",
    "# Map cluster labels to each cell\n",
    "adata_0.obs['cluster_cell_type'] = adata_0.obs['BioClassification'].map(cluster_map)"
   ]
  },
  {
   "cell_type": "code",
   "execution_count": null,
   "id": "9a752c5a-6098-4cdc-bf96-6fd3ed260972",
   "metadata": {},
   "outputs": [],
   "source": [
    "# Cell Level Cluster Annotations in Tabular Format\n",
    "# Visualise\n",
    "adata_0.obs[['BioClassification', 'cluster_cell_type']].head(n=5)\n",
    "\n",
    "# Cluster Level Cluster Annotations in Tabular Format\n",
    "# Create a DataFrame of cluster IDs and their assigned cell type\n",
    "cluster_assignments = (\n",
    "    adata_0.obs[['BioClassification', 'cluster_cell_type']]\n",
    "    .drop_duplicates()\n",
    "    .sort_values('BioClassification')\n",
    "    .reset_index(drop=True)\n",
    ")\n",
    "# Visualise\n",
    "cluster_assignments.head(n=5)\n",
    "# Save as CSV\n",
    "cluster_assignments.to_csv(\"/Users/alexantill/Göran_Karlsson_Lab/benchLLM/Granja_et_al/author_vs_celltypist_Roy_Immune_All_Low_new.csv\", index=False)"
   ]
  },
  {
   "cell_type": "markdown",
   "id": "c2c07b86-2b16-442a-8fc7-4d1b0ca53efa",
   "metadata": {
    "jp-MarkdownHeadingCollapsed": true
   },
   "source": [
    "### Jardine <i> et al.</i> (2021) <i> Nature </i>\n",
    "Normalise (10 000 Counts per Cell) <br>\n",
    "Log <br>\n",
    "Annotate (Immune_All_Low and Immune_All_High) <br>\n",
    "Label Individual Cells then Clusters <br>\n",
    "Authors' Clusters are \"cell.labels\" <br>"
   ]
  },
  {
   "cell_type": "code",
   "execution_count": null,
   "id": "e53966e4-89ea-4c6a-9896-b3244f3af608",
   "metadata": {},
   "outputs": [],
   "source": [
    "# Normalize to 10,000 counts per cell\n",
    "sc.pp.normalize_total(adata_1, target_sum=1e4)\n",
    "\n",
    "# Log1p transform\n",
    "sc.pp.log1p(adata_1)\n",
    "\n",
    "# Run CellTypist Annotation on Single Cells (Immune_All_Low.pkl or Immune_All_high.pkl)\n",
    "results = celltypist.annotate(adata_1, model='Immune_All_Low.pkl')\n",
    "\n",
    "# Add predicted labels to the original AnnData object\n",
    "adata_1.obs['celltypist_labels'] = results.predicted_labels.predicted_labels\n",
    "\n",
    "# Compute the most common celltypist label in each cluster\n",
    "cluster_map = (\n",
    "    adata_1.obs\n",
    "    .groupby('cell.labels')['celltypist_labels']\n",
    "    .agg(lambda x: x.value_counts().idxmax())\n",
    ")\n",
    "\n",
    "# Map cluster labels to each cell\n",
    "adata_1.obs['cluster_cell_type'] = adata_1.obs['cell.labels'].map(cluster_map)"
   ]
  },
  {
   "cell_type": "code",
   "execution_count": null,
   "id": "78de8e47-f652-401d-bdaf-bbba1c6a29b9",
   "metadata": {},
   "outputs": [],
   "source": [
    "# Cell Level Cluster Annotations in Tabular Format\n",
    "# Visualise\n",
    "adata_1.obs[['cell.labels', 'cluster_cell_type']].head(n=5)\n",
    "\n",
    "# Cluster Level Cluster Annotations in Tabular Format\n",
    "# Create a DataFrame of cluster IDs and their assigned cell type\n",
    "cluster_assignments = (\n",
    "    adata_1.obs[['cell.labels', 'cluster_cell_type']]\n",
    "    .drop_duplicates()\n",
    "    .sort_values('cell.labels')\n",
    "    .reset_index(drop=True)\n",
    ")\n",
    "# Visualise\n",
    "cluster_assignments.head(n=5)\n",
    "# Save as CSV\n",
    "cluster_assignments.to_csv(\"/Users/alexantill/Göran_Karlsson_Lab/benchLLM/Jardine_et_al/author_vs_celltypist_Jardine_Immune_All_High.csv\", index=False)"
   ]
  },
  {
   "attachments": {},
   "cell_type": "markdown",
   "id": "167a1d0b-97b9-4757-9993-6ce82586ddfc",
   "metadata": {
    "jp-MarkdownHeadingCollapsed": true
   },
   "source": [
    "### Roy <i> et al. </i> (2021) <i> Cell Reports </i>\n",
    "Normalise (10 000 Counts per Cell) <br>\n",
    "Log <br>\n",
    "Annotate (Immune_All_Low and Immune_All_High) <br>\n",
    "Label Individual Cells then Clusters <br>\n",
    "Authors' Clusters are \"cell_type\" <br>"
   ]
  },
  {
   "cell_type": "code",
   "execution_count": null,
   "id": "009bb89d-1e79-4397-9027-d41b1816d1e5",
   "metadata": {},
   "outputs": [],
   "source": [
    "# Normalize to 10,000 counts per cell\n",
    "sc.pp.normalize_total(adata_4, target_sum=1e4)\n",
    "\n",
    "# Log1p transform\n",
    "sc.pp.log1p(adata_4)\n",
    "\n",
    "# Run CellTypist Annotation on Single Cells (Immune_All_Low.pkl or Immune_All_high.pkl)\n",
    "results = celltypist.annotate(adata_4, model='Immune_All_Low.pkl')\n",
    "\n",
    "# Add predicted labels to the original AnnData object\n",
    "adata_4.obs['celltypist_labels'] = results.predicted_labels.predicted_labels\n",
    "\n",
    "# Compute the most common celltypist label in each cluster\n",
    "cluster_map = (\n",
    "    adata_4.obs\n",
    "    .groupby('cell_type')['celltypist_labels']\n",
    "    .agg(lambda x: x.value_counts().idxmax())\n",
    ")\n",
    "\n",
    "# Map cluster labels to each cell\n",
    "adata_4.obs['cluster_cell_type'] = adata_4.obs['cell_type'].map(cluster_map)"
   ]
  },
  {
   "cell_type": "code",
   "execution_count": null,
   "id": "69d5bf08-ef0c-41ef-b5c2-8f0c58a2040b",
   "metadata": {},
   "outputs": [],
   "source": [
    "# Cell Level Cluster Annotations in Tabular Format\n",
    "# Visualise\n",
    "adata_4.obs[['cell_type', 'cluster_cell_type']].head(n=5)\n",
    "\n",
    "# Cluster Level Cluster Annotations in Tabular Format\n",
    "# Create a DataFrame of cluster IDs and their assigned cell type\n",
    "cluster_assignments = (\n",
    "    adata_4.obs[['cell_type', 'cluster_cell_type']]\n",
    "    .drop_duplicates()\n",
    "    .sort_values('cell_type')\n",
    "    .reset_index(drop=True)\n",
    ")\n",
    "# Visualise\n",
    "cluster_assignments.head(n=5)\n",
    "# Save as CSV\n",
    "cluster_assignments.to_csv(\"/Users/alexantill/Göran_Karlsson_Lab/benchLLM/Roy_et_al/author_vs_celltypist_Roy_Immune_All_Low.csv\", index=False)"
   ]
  },
  {
   "attachments": {},
   "cell_type": "markdown",
   "id": "75692319-cbdb-4d7d-8b5a-36708203c024",
   "metadata": {},
   "source": [
    "### De Simone <i> et al. </i> (2025) <i> Nucleic Acids Research </i>\n",
    "Normalise (10 000 Counts per Cell) <br>\n",
    "Log <br>\n",
    "Annotate (Immune_All_Low and Immune_All_High) <br>\n",
    "Label Individual Cells then Clusters <br>\n",
    "Authors' Clusters are \"cell_type\" <br>\n",
    "<b> HAVE NOT FIXED (NEED TO USE gene_name NOT ensemble_ID) </b>"
   ]
  },
  {
   "cell_type": "code",
   "execution_count": 3,
   "id": "058846b8-b6f1-4534-8cbb-671ed20dbb60",
   "metadata": {},
   "outputs": [
    {
     "name": "stderr",
     "output_type": "stream",
     "text": [
      "🔬 Input data has 124132 cells and 11182 genes\n",
      "🔗 Matching reference genes in the model\n",
      "🧬 3934 features used for prediction\n",
      "⚖️ Scaling input data\n",
      "🖋️ Predicting labels\n"
     ]
    },
    {
     "ename": "ValueError",
     "evalue": "Input X contains NaN.\nLogisticRegression does not accept missing values encoded as NaN natively. For supervised learning, you might want to consider sklearn.ensemble.HistGradientBoostingClassifier and Regressor which accept missing values encoded as NaNs natively. Alternatively, it is possible to preprocess the data, for instance by using an imputer transformer in a pipeline or drop samples with missing values. See https://scikit-learn.org/stable/modules/impute.html You can find a list of all estimators that handle NaN values at the following page: https://scikit-learn.org/stable/modules/impute.html#estimators-that-handle-nan-values",
     "output_type": "error",
     "traceback": [
      "\u001b[31m---------------------------------------------------------------------------\u001b[39m",
      "\u001b[31mValueError\u001b[39m                                Traceback (most recent call last)",
      "\u001b[36mCell\u001b[39m\u001b[36m \u001b[39m\u001b[32mIn[3]\u001b[39m\u001b[32m, line 14\u001b[39m\n\u001b[32m     11\u001b[39m adata_10.var_names = adata_10.var[\u001b[33m'\u001b[39m\u001b[33mgene_name\u001b[39m\u001b[33m'\u001b[39m]\n\u001b[32m     13\u001b[39m \u001b[38;5;66;03m# Run CellTypist Annotation on Single Cells (Immune_All_Low.pkl or Immune_All_high.pkl)\u001b[39;00m\n\u001b[32m---> \u001b[39m\u001b[32m14\u001b[39m results = \u001b[43mcelltypist\u001b[49m\u001b[43m.\u001b[49m\u001b[43mannotate\u001b[49m\u001b[43m(\u001b[49m\u001b[43madata_10\u001b[49m\u001b[43m,\u001b[49m\u001b[43m \u001b[49m\u001b[43mmodel\u001b[49m\u001b[43m=\u001b[49m\u001b[33;43m'\u001b[39;49m\u001b[33;43mImmune_All_Low.pkl\u001b[39;49m\u001b[33;43m'\u001b[39;49m\u001b[43m)\u001b[49m\n\u001b[32m     16\u001b[39m \u001b[38;5;66;03m# Add predicted labels to the original AnnData object\u001b[39;00m\n\u001b[32m     17\u001b[39m adata_10.obs[\u001b[33m'\u001b[39m\u001b[33mcelltypist_labels\u001b[39m\u001b[33m'\u001b[39m] = results.predicted_labels.predicted_labels\n",
      "\u001b[36mFile \u001b[39m\u001b[32m~/Göran_Karlsson_Lab/code_benchLLM/.venv/lib/python3.12/site-packages/celltypist/annotate.py:85\u001b[39m, in \u001b[36mannotate\u001b[39m\u001b[34m(filename, model, transpose_input, gene_file, cell_file, mode, p_thres, majority_voting, over_clustering, use_GPU, min_prop)\u001b[39m\n\u001b[32m     83\u001b[39m clf = classifier.Classifier(filename = filename, model = lr_classifier, transpose = transpose_input, gene_file = gene_file, cell_file = cell_file)\n\u001b[32m     84\u001b[39m \u001b[38;5;66;03m#predict\u001b[39;00m\n\u001b[32m---> \u001b[39m\u001b[32m85\u001b[39m predictions = \u001b[43mclf\u001b[49m\u001b[43m.\u001b[49m\u001b[43mcelltype\u001b[49m\u001b[43m(\u001b[49m\u001b[43mmode\u001b[49m\u001b[43m \u001b[49m\u001b[43m=\u001b[49m\u001b[43m \u001b[49m\u001b[43mmode\u001b[49m\u001b[43m,\u001b[49m\u001b[43m \u001b[49m\u001b[43mp_thres\u001b[49m\u001b[43m \u001b[49m\u001b[43m=\u001b[49m\u001b[43m \u001b[49m\u001b[43mp_thres\u001b[49m\u001b[43m)\u001b[49m\n\u001b[32m     86\u001b[39m \u001b[38;5;28;01mif\u001b[39;00m \u001b[38;5;129;01mnot\u001b[39;00m majority_voting:\n\u001b[32m     87\u001b[39m     \u001b[38;5;28;01mreturn\u001b[39;00m predictions\n",
      "\u001b[36mFile \u001b[39m\u001b[32m~/Göran_Karlsson_Lab/code_benchLLM/.venv/lib/python3.12/site-packages/celltypist/classifier.py:381\u001b[39m, in \u001b[36mClassifier.celltype\u001b[39m\u001b[34m(self, mode, p_thres)\u001b[39m\n\u001b[32m    378\u001b[39m \u001b[38;5;28mself\u001b[39m.model.classifier.coef_ = \u001b[38;5;28mself\u001b[39m.model.classifier.coef_[:, lr_idx]\n\u001b[32m    380\u001b[39m logger.info(\u001b[33m\"\u001b[39m\u001b[33m🖋️ Predicting labels\u001b[39m\u001b[33m\"\u001b[39m)\n\u001b[32m--> \u001b[39m\u001b[32m381\u001b[39m decision_mat, prob_mat, lab = \u001b[38;5;28;43mself\u001b[39;49m\u001b[43m.\u001b[49m\u001b[43mmodel\u001b[49m\u001b[43m.\u001b[49m\u001b[43mpredict_labels_and_prob\u001b[49m\u001b[43m(\u001b[49m\u001b[38;5;28;43mself\u001b[39;49m\u001b[43m.\u001b[49m\u001b[43mindata\u001b[49m\u001b[43m,\u001b[49m\u001b[43m \u001b[49m\u001b[43mmode\u001b[49m\u001b[43m \u001b[49m\u001b[43m=\u001b[49m\u001b[43m \u001b[49m\u001b[43mmode\u001b[49m\u001b[43m,\u001b[49m\u001b[43m \u001b[49m\u001b[43mp_thres\u001b[49m\u001b[43m \u001b[49m\u001b[43m=\u001b[49m\u001b[43m \u001b[49m\u001b[43mp_thres\u001b[49m\u001b[43m)\u001b[49m\n\u001b[32m    382\u001b[39m logger.info(\u001b[33m\"\u001b[39m\u001b[33m✅ Prediction done!\u001b[39m\u001b[33m\"\u001b[39m)\n\u001b[32m    384\u001b[39m \u001b[38;5;66;03m#restore model after prediction\u001b[39;00m\n",
      "\u001b[36mFile \u001b[39m\u001b[32m~/Göran_Karlsson_Lab/code_benchLLM/.venv/lib/python3.12/site-packages/celltypist/models.py:149\u001b[39m, in \u001b[36mModel.predict_labels_and_prob\u001b[39m\u001b[34m(self, indata, mode, p_thres)\u001b[39m\n\u001b[32m    127\u001b[39m \u001b[38;5;250m\u001b[39m\u001b[33;03m\"\"\"\u001b[39;00m\n\u001b[32m    128\u001b[39m \u001b[33;03mGet the decision matrix, probability matrix, and predicted cell types for the input data.\u001b[39;00m\n\u001b[32m    129\u001b[39m \n\u001b[32m   (...)\u001b[39m\u001b[32m    146\u001b[39m \u001b[33;03m    A tuple of decision score matrix, raw probability matrix, and predicted cell type labels.\u001b[39;00m\n\u001b[32m    147\u001b[39m \u001b[33;03m\"\"\"\u001b[39;00m\n\u001b[32m    148\u001b[39m \u001b[38;5;28;01mif\u001b[39;00m skv.split(\u001b[33m'\u001b[39m\u001b[33m.\u001b[39m\u001b[33m'\u001b[39m)[\u001b[32m0\u001b[39m] != \u001b[33m'\u001b[39m\u001b[33m0\u001b[39m\u001b[33m'\u001b[39m \u001b[38;5;129;01mand\u001b[39;00m \u001b[38;5;28misinstance\u001b[39m(indata, np.matrix):\n\u001b[32m--> \u001b[39m\u001b[32m149\u001b[39m     scores = \u001b[38;5;28;43mself\u001b[39;49m\u001b[43m.\u001b[49m\u001b[43mclassifier\u001b[49m\u001b[43m.\u001b[49m\u001b[43mdecision_function\u001b[49m\u001b[43m(\u001b[49m\u001b[43mnp\u001b[49m\u001b[43m.\u001b[49m\u001b[43masarray\u001b[49m\u001b[43m(\u001b[49m\u001b[43mindata\u001b[49m\u001b[43m)\u001b[49m\u001b[43m)\u001b[49m\n\u001b[32m    150\u001b[39m \u001b[38;5;28;01melse\u001b[39;00m:\n\u001b[32m    151\u001b[39m     scores = \u001b[38;5;28mself\u001b[39m.classifier.decision_function(indata)\n",
      "\u001b[36mFile \u001b[39m\u001b[32m~/Göran_Karlsson_Lab/code_benchLLM/.venv/lib/python3.12/site-packages/sklearn/linear_model/_base.py:363\u001b[39m, in \u001b[36mLinearClassifierMixin.decision_function\u001b[39m\u001b[34m(self, X)\u001b[39m\n\u001b[32m    360\u001b[39m check_is_fitted(\u001b[38;5;28mself\u001b[39m)\n\u001b[32m    361\u001b[39m xp, _ = get_namespace(X)\n\u001b[32m--> \u001b[39m\u001b[32m363\u001b[39m X = \u001b[38;5;28;43mself\u001b[39;49m\u001b[43m.\u001b[49m\u001b[43m_validate_data\u001b[49m\u001b[43m(\u001b[49m\u001b[43mX\u001b[49m\u001b[43m,\u001b[49m\u001b[43m \u001b[49m\u001b[43maccept_sparse\u001b[49m\u001b[43m=\u001b[49m\u001b[33;43m\"\u001b[39;49m\u001b[33;43mcsr\u001b[39;49m\u001b[33;43m\"\u001b[39;49m\u001b[43m,\u001b[49m\u001b[43m \u001b[49m\u001b[43mreset\u001b[49m\u001b[43m=\u001b[49m\u001b[38;5;28;43;01mFalse\u001b[39;49;00m\u001b[43m)\u001b[49m\n\u001b[32m    364\u001b[39m scores = safe_sparse_dot(X, \u001b[38;5;28mself\u001b[39m.coef_.T, dense_output=\u001b[38;5;28;01mTrue\u001b[39;00m) + \u001b[38;5;28mself\u001b[39m.intercept_\n\u001b[32m    365\u001b[39m \u001b[38;5;28;01mreturn\u001b[39;00m xp.reshape(scores, (-\u001b[32m1\u001b[39m,)) \u001b[38;5;28;01mif\u001b[39;00m scores.shape[\u001b[32m1\u001b[39m] == \u001b[32m1\u001b[39m \u001b[38;5;28;01melse\u001b[39;00m scores\n",
      "\u001b[36mFile \u001b[39m\u001b[32m~/Göran_Karlsson_Lab/code_benchLLM/.venv/lib/python3.12/site-packages/sklearn/base.py:633\u001b[39m, in \u001b[36mBaseEstimator._validate_data\u001b[39m\u001b[34m(self, X, y, reset, validate_separately, cast_to_ndarray, **check_params)\u001b[39m\n\u001b[32m    631\u001b[39m         out = X, y\n\u001b[32m    632\u001b[39m \u001b[38;5;28;01melif\u001b[39;00m \u001b[38;5;129;01mnot\u001b[39;00m no_val_X \u001b[38;5;129;01mand\u001b[39;00m no_val_y:\n\u001b[32m--> \u001b[39m\u001b[32m633\u001b[39m     out = \u001b[43mcheck_array\u001b[49m\u001b[43m(\u001b[49m\u001b[43mX\u001b[49m\u001b[43m,\u001b[49m\u001b[43m \u001b[49m\u001b[43minput_name\u001b[49m\u001b[43m=\u001b[49m\u001b[33;43m\"\u001b[39;49m\u001b[33;43mX\u001b[39;49m\u001b[33;43m\"\u001b[39;49m\u001b[43m,\u001b[49m\u001b[43m \u001b[49m\u001b[43m*\u001b[49m\u001b[43m*\u001b[49m\u001b[43mcheck_params\u001b[49m\u001b[43m)\u001b[49m\n\u001b[32m    634\u001b[39m \u001b[38;5;28;01melif\u001b[39;00m no_val_X \u001b[38;5;129;01mand\u001b[39;00m \u001b[38;5;129;01mnot\u001b[39;00m no_val_y:\n\u001b[32m    635\u001b[39m     out = _check_y(y, **check_params)\n",
      "\u001b[36mFile \u001b[39m\u001b[32m~/Göran_Karlsson_Lab/code_benchLLM/.venv/lib/python3.12/site-packages/sklearn/utils/validation.py:1064\u001b[39m, in \u001b[36mcheck_array\u001b[39m\u001b[34m(array, accept_sparse, accept_large_sparse, dtype, order, copy, force_writeable, force_all_finite, ensure_2d, allow_nd, ensure_min_samples, ensure_min_features, estimator, input_name)\u001b[39m\n\u001b[32m   1058\u001b[39m     \u001b[38;5;28;01mraise\u001b[39;00m \u001b[38;5;167;01mValueError\u001b[39;00m(\n\u001b[32m   1059\u001b[39m         \u001b[33m\"\u001b[39m\u001b[33mFound array with dim \u001b[39m\u001b[38;5;132;01m%d\u001b[39;00m\u001b[33m. \u001b[39m\u001b[38;5;132;01m%s\u001b[39;00m\u001b[33m expected <= 2.\u001b[39m\u001b[33m\"\u001b[39m\n\u001b[32m   1060\u001b[39m         % (array.ndim, estimator_name)\n\u001b[32m   1061\u001b[39m     )\n\u001b[32m   1063\u001b[39m \u001b[38;5;28;01mif\u001b[39;00m force_all_finite:\n\u001b[32m-> \u001b[39m\u001b[32m1064\u001b[39m     \u001b[43m_assert_all_finite\u001b[49m\u001b[43m(\u001b[49m\n\u001b[32m   1065\u001b[39m \u001b[43m        \u001b[49m\u001b[43marray\u001b[49m\u001b[43m,\u001b[49m\n\u001b[32m   1066\u001b[39m \u001b[43m        \u001b[49m\u001b[43minput_name\u001b[49m\u001b[43m=\u001b[49m\u001b[43minput_name\u001b[49m\u001b[43m,\u001b[49m\n\u001b[32m   1067\u001b[39m \u001b[43m        \u001b[49m\u001b[43mestimator_name\u001b[49m\u001b[43m=\u001b[49m\u001b[43mestimator_name\u001b[49m\u001b[43m,\u001b[49m\n\u001b[32m   1068\u001b[39m \u001b[43m        \u001b[49m\u001b[43mallow_nan\u001b[49m\u001b[43m=\u001b[49m\u001b[43mforce_all_finite\u001b[49m\u001b[43m \u001b[49m\u001b[43m==\u001b[49m\u001b[43m \u001b[49m\u001b[33;43m\"\u001b[39;49m\u001b[33;43mallow-nan\u001b[39;49m\u001b[33;43m\"\u001b[39;49m\u001b[43m,\u001b[49m\n\u001b[32m   1069\u001b[39m \u001b[43m    \u001b[49m\u001b[43m)\u001b[49m\n\u001b[32m   1071\u001b[39m \u001b[38;5;28;01mif\u001b[39;00m copy:\n\u001b[32m   1072\u001b[39m     \u001b[38;5;28;01mif\u001b[39;00m _is_numpy_namespace(xp):\n\u001b[32m   1073\u001b[39m         \u001b[38;5;66;03m# only make a copy if `array` and `array_orig` may share memory`\u001b[39;00m\n",
      "\u001b[36mFile \u001b[39m\u001b[32m~/Göran_Karlsson_Lab/code_benchLLM/.venv/lib/python3.12/site-packages/sklearn/utils/validation.py:123\u001b[39m, in \u001b[36m_assert_all_finite\u001b[39m\u001b[34m(X, allow_nan, msg_dtype, estimator_name, input_name)\u001b[39m\n\u001b[32m    120\u001b[39m \u001b[38;5;28;01mif\u001b[39;00m first_pass_isfinite:\n\u001b[32m    121\u001b[39m     \u001b[38;5;28;01mreturn\u001b[39;00m\n\u001b[32m--> \u001b[39m\u001b[32m123\u001b[39m \u001b[43m_assert_all_finite_element_wise\u001b[49m\u001b[43m(\u001b[49m\n\u001b[32m    124\u001b[39m \u001b[43m    \u001b[49m\u001b[43mX\u001b[49m\u001b[43m,\u001b[49m\n\u001b[32m    125\u001b[39m \u001b[43m    \u001b[49m\u001b[43mxp\u001b[49m\u001b[43m=\u001b[49m\u001b[43mxp\u001b[49m\u001b[43m,\u001b[49m\n\u001b[32m    126\u001b[39m \u001b[43m    \u001b[49m\u001b[43mallow_nan\u001b[49m\u001b[43m=\u001b[49m\u001b[43mallow_nan\u001b[49m\u001b[43m,\u001b[49m\n\u001b[32m    127\u001b[39m \u001b[43m    \u001b[49m\u001b[43mmsg_dtype\u001b[49m\u001b[43m=\u001b[49m\u001b[43mmsg_dtype\u001b[49m\u001b[43m,\u001b[49m\n\u001b[32m    128\u001b[39m \u001b[43m    \u001b[49m\u001b[43mestimator_name\u001b[49m\u001b[43m=\u001b[49m\u001b[43mestimator_name\u001b[49m\u001b[43m,\u001b[49m\n\u001b[32m    129\u001b[39m \u001b[43m    \u001b[49m\u001b[43minput_name\u001b[49m\u001b[43m=\u001b[49m\u001b[43minput_name\u001b[49m\u001b[43m,\u001b[49m\n\u001b[32m    130\u001b[39m \u001b[43m\u001b[49m\u001b[43m)\u001b[49m\n",
      "\u001b[36mFile \u001b[39m\u001b[32m~/Göran_Karlsson_Lab/code_benchLLM/.venv/lib/python3.12/site-packages/sklearn/utils/validation.py:172\u001b[39m, in \u001b[36m_assert_all_finite_element_wise\u001b[39m\u001b[34m(X, xp, allow_nan, msg_dtype, estimator_name, input_name)\u001b[39m\n\u001b[32m    155\u001b[39m \u001b[38;5;28;01mif\u001b[39;00m estimator_name \u001b[38;5;129;01mand\u001b[39;00m input_name == \u001b[33m\"\u001b[39m\u001b[33mX\u001b[39m\u001b[33m\"\u001b[39m \u001b[38;5;129;01mand\u001b[39;00m has_nan_error:\n\u001b[32m    156\u001b[39m     \u001b[38;5;66;03m# Improve the error message on how to handle missing values in\u001b[39;00m\n\u001b[32m    157\u001b[39m     \u001b[38;5;66;03m# scikit-learn.\u001b[39;00m\n\u001b[32m    158\u001b[39m     msg_err += (\n\u001b[32m    159\u001b[39m         \u001b[33mf\u001b[39m\u001b[33m\"\u001b[39m\u001b[38;5;130;01m\\n\u001b[39;00m\u001b[38;5;132;01m{\u001b[39;00mestimator_name\u001b[38;5;132;01m}\u001b[39;00m\u001b[33m does not accept missing values\u001b[39m\u001b[33m\"\u001b[39m\n\u001b[32m    160\u001b[39m         \u001b[33m\"\u001b[39m\u001b[33m encoded as NaN natively. For supervised learning, you might want\u001b[39m\u001b[33m\"\u001b[39m\n\u001b[32m   (...)\u001b[39m\u001b[32m    170\u001b[39m         \u001b[33m\"\u001b[39m\u001b[33m#estimators-that-handle-nan-values\u001b[39m\u001b[33m\"\u001b[39m\n\u001b[32m    171\u001b[39m     )\n\u001b[32m--> \u001b[39m\u001b[32m172\u001b[39m \u001b[38;5;28;01mraise\u001b[39;00m \u001b[38;5;167;01mValueError\u001b[39;00m(msg_err)\n",
      "\u001b[31mValueError\u001b[39m: Input X contains NaN.\nLogisticRegression does not accept missing values encoded as NaN natively. For supervised learning, you might want to consider sklearn.ensemble.HistGradientBoostingClassifier and Regressor which accept missing values encoded as NaNs natively. Alternatively, it is possible to preprocess the data, for instance by using an imputer transformer in a pipeline or drop samples with missing values. See https://scikit-learn.org/stable/modules/impute.html You can find a list of all estimators that handle NaN values at the following page: https://scikit-learn.org/stable/modules/impute.html#estimators-that-handle-nan-values"
     ]
    }
   ],
   "source": [
    "# Normalize to 10,000 counts per cell\n",
    "sc.pp.normalize_total(adata_10, target_sum=1e4)\n",
    "\n",
    "# Log1p transform\n",
    "sc.pp.log1p(adata_10)\n",
    "\n",
    "# Backup original Ensemble IDs\n",
    "adata_10.var['ensembl_id'] = adata_10.var_names\n",
    "\n",
    "# Replace var_names with Gene Symbols\n",
    "adata_10.var_names = adata_10.var['gene_name']\n",
    "\n",
    "# Run CellTypist Annotation on Single Cells (Immune_All_Low.pkl or Immune_All_high.pkl)\n",
    "results = celltypist.annotate(adata_10, model='Immune_All_Low.pkl')\n",
    "\n",
    "# Add predicted labels to the original AnnData object\n",
    "adata_10.obs['celltypist_labels'] = results.predicted_labels.predicted_labels\n",
    "\n",
    "# Compute the most common celltypist label in each cluster\n",
    "cluster_map = (\n",
    "    adata_10.obs\n",
    "    .groupby('cell_type')['celltypist_labels']\n",
    "    .agg(lambda x: x.value_counts().idxmax())\n",
    ")\n",
    "\n",
    "# Map cluster labels to each cell\n",
    "adata_10.obs['cluster_cell_type'] = adata_10.obs['cell_type'].map(cluster_map)"
   ]
  },
  {
   "cell_type": "code",
   "execution_count": null,
   "id": "a7c23f1f-fae4-44af-82be-f1be645ac15b",
   "metadata": {},
   "outputs": [],
   "source": [
    "# Cell Level Cluster Annotations in Tabular Format\n",
    "# Visualise\n",
    "adata_10.obs[['cell_type', 'cluster_cell_type']].head(n=5)\n",
    "\n",
    "# Cluster Level Cluster Annotations in Tabular Format\n",
    "# Create a DataFrame of cluster IDs and their assigned cell type\n",
    "cluster_assignments = (\n",
    "    adata_10.obs[['cell_type', 'cluster_cell_type']]\n",
    "    .drop_duplicates()\n",
    "    .sort_values('cell_type')\n",
    "    .reset_index(drop=True)\n",
    ")\n",
    "# Visualise\n",
    "cluster_assignments.head(n=5)\n",
    "# Save as CSV\n",
    "cluster_assignments.to_csv(\"/Users/alexantill/Göran_Karlsson_Lab/benchLLM/Simone_et_al/author_vs_celltypist_Simone_Immune_All_Low.csv\", index=False)"
   ]
  },
  {
   "attachments": {},
   "cell_type": "markdown",
   "id": "9407d042-8afc-467f-accd-9f4c7df2efcc",
   "metadata": {
    "jp-MarkdownHeadingCollapsed": true
   },
   "source": [
    "### Heimlich <i> et al. </i> (2024) <i> Blood Advances </i>\n",
    "Normalise (10 000 Counts per Cell) <br>\n",
    "Log <br>\n",
    "Annotate (Immune_All_Low and Immune_All_High) <br>\n",
    "Label Individual Cells then Clusters <br>\n",
    "Authors' Clusters are \"cell_type\" <br>\n",
    "<b> gene_name TO REMOVE ENSEMBLE_IDs IS JUST A GUESS FIND ACTUAL VARIABLE NAME </b>\n"
   ]
  },
  {
   "cell_type": "code",
   "execution_count": null,
   "id": "328ac81e-3083-41bb-b7f7-40eb99933ac4",
   "metadata": {},
   "outputs": [],
   "source": [
    "# Normalize to 10,000 counts per cell\n",
    "sc.pp.normalize_total(adata_2, target_sum=1e4)\n",
    "\n",
    "# Log1p transform\n",
    "sc.pp.log1p(adata_2)\n",
    "\n",
    "# Backup original Ensemble IDs\n",
    "adata_2.var['ensembl_id'] = adata_2.var_names\n",
    "\n",
    "# Replace var_names with Gene Symbols\n",
    "adata_2.var_names = adata_2.var['gene_name']\n",
    "\n",
    "# Run CellTypist Annotation on Single Cells (Immune_All_Low.pkl or Immune_All_high.pkl)\n",
    "results = celltypist.annotate(adata_2, model='Immune_All_Low.pkl')\n",
    "\n",
    "# Add predicted labels to the original AnnData object\n",
    "adata_2.obs['celltypist_labels'] = results.predicted_labels.predicted_labels\n",
    "\n",
    "# Compute the most common celltypist label in each cluster\n",
    "cluster_map = (\n",
    "    adata_2.obs\n",
    "    .groupby('cell_type')['celltypist_labels']\n",
    "    .agg(lambda x: x.value_counts().idxmax())\n",
    ")\n",
    "\n",
    "# Map cluster labels to each cell\n",
    "adata_2.obs['cluster_cell_type'] = adata_2.obs['cell_type'].map(cluster_map)"
   ]
  },
  {
   "cell_type": "code",
   "execution_count": null,
   "id": "dfc5201e-0b2a-448f-bec4-58f18ac6b95f",
   "metadata": {},
   "outputs": [],
   "source": [
    "# Cell Level Cluster Annotations in Tabular Format\n",
    "# Visualise\n",
    "adata_2.obs[['cell_type', 'cluster_cell_type']].head(n=5)\n",
    "\n",
    "# Cluster Level Cluster Annotations in Tabular Format\n",
    "# Create a DataFrame of cluster IDs and their assigned cell type\n",
    "cluster_assignments = (\n",
    "    adata_2.obs[['cell_type', 'cluster_cell_type']]\n",
    "    .drop_duplicates()\n",
    "    .sort_values('cell_type')\n",
    "    .reset_index(drop=True)\n",
    ")\n",
    "# Visualise\n",
    "cluster_assignments.head(n=5)\n",
    "# Save as CSV\n",
    "cluster_assignments.to_csv(\"/Users/alexantill/Göran_Karlsson_Lab/benchLLM/Simone_et_al/author_vs_celltypist_Simone_Immune_All_Low.csv\", index=False)"
   ]
  }
 ],
 "metadata": {
  "kernelspec": {
   "display_name": "Python 3 (ipykernel)",
   "language": "python",
   "name": "python3"
  },
  "language_info": {
   "codemirror_mode": {
    "name": "ipython",
    "version": 3
   },
   "file_extension": ".py",
   "mimetype": "text/x-python",
   "name": "python",
   "nbconvert_exporter": "python",
   "pygments_lexer": "ipython3",
   "version": "3.12.10"
  }
 },
 "nbformat": 4,
 "nbformat_minor": 5
}
