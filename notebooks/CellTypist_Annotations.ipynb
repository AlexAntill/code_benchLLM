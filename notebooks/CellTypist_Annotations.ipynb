{
 "cells": [
  {
   "cell_type": "markdown",
   "id": "e3a75caf-6753-4cb9-aeb2-12b0a47f2fc7",
   "metadata": {},
   "source": [
    "# CellTypist Annotations\n",
    "This notebook will load in datasets and process them. This will enable CellTypist to auto-annotate based on its references. The most predominant cell type will be used to reannotate the authors' cluster."
   ]
  },
  {
   "cell_type": "code",
   "execution_count": null,
   "id": "6366de36-38d0-47ba-b7db-f592b1c8f469",
   "metadata": {},
   "outputs": [],
   "source": [
    "# Importing Require Libraries\n",
    "import celltypist\n",
    "import scanpy as sc\n",
    "import session_info\n",
    "import pandas as pd\n",
    "import os"
   ]
  },
  {
   "cell_type": "code",
   "execution_count": null,
   "id": "f5904b0f-9419-4048-9d73-46fbe3b4b57e",
   "metadata": {},
   "outputs": [],
   "source": [
    "## Importing and Reading in Pilot Datasets \n",
    "# File Paths for Datasets\n",
    "# Granja et al\n",
    "file_path_two = os.path.expanduser(\"~/Göran_Karlsson_Lab/benchLLM/Granja_et_al/scRNA-hematopoiesis-Granja-2019.h5ad\")\n",
    "# Jardine et al \n",
    "file_path_three = os.path.expanduser(\"~/Göran_Karlsson_Lab/benchLLM/Jardine_et_al/fig1b_fbm_scaled_gex_updated_dr_20210104.h5ad\")\n",
    "# Heimlich et al \n",
    "file_path_four = os.path.expanduser(\"~/Göran_Karlsson_Lab/benchLLM/Heimlich_et_al/5e3e4027-0675-4d5f-b223-bb03a17ade71.h5ad\")\n",
    "# huuhtanen et al \n",
    "file_path_five = os.path.expanduser(\"~/Göran_Karlsson_Lab/benchLLM/Huuhtanen_et_al/Fig1B_cml_public_seurat_RDS.h5\")\n",
    "# Roy et al \n",
    "file_path_six = os.path.expanduser(\"~/Göran_Karlsson_Lab/benchLLM/Roy_et_al/GSE155259_Roy_et_al.h5ad\")\n",
    "# Petti et al \n",
    "#file_path_seven = os.path.expanduser(\"~/Göran_Karlsson_Lab/benchLLM/Petti_et_al/Petti_508084.h5ad\")\n",
    "#file_path_eight = os.path.expanduser(\"~/Göran_Karlsson_Lab/benchLLM/Petti_et_al/Petti_548327.h5ad\")\n",
    "#file_path_nine = os.path.expanduser(\"~/Göran_Karlsson_Lab/benchLLM/Petti_et_al/Petti_721214.h5ad\")\n",
    "#file_path_ten = os.path.expanduser(\"~/Göran_Karlsson_Lab/benchLLM/Petti_et_al/Petti_782328.h5ad\")\n",
    "#file_path_eleven = os.path.expanduser(\"~/Göran_Karlsson_Lab/benchLLM/Petti_et_al/Petti_809653.h5ad\")\n",
    "# Simone et al \n",
    "file_path_twelve = os.path.expanduser(\"~/Göran_Karlsson_Lab/benchLLM/Simone_et_al/7d821d98-5b42-4480-8173-641c1b37b237.h5ad\")\n",
    "\n",
    "# Reading in Datasets as ScanPy Objects\n",
    "adata_0 = sc.read_h5ad(file_path_two)\n",
    "#adata_1 = sc.read_h5ad(file_path_three)\n",
    "#adata_2 = sc.read_h5ad(file_path_four)\n",
    "#adata_3 = sc.read_10x_h5(file_path_five)\n",
    "#adata_4 = sc.read_h5ad(file_path_six)\n",
    "#adata_5 = sc.read_h5ad(file_path_seven)\n",
    "#adata_6 = sc.read_h5ad(file_path_eight)\n",
    "#adata_7 = sc.read_h5ad(file_path_nine)\n",
    "#adata_8 = sc.read_h5ad(file_path_ten)\n",
    "#adata_9 = sc.read_h5ad(file_path_eleven)\n",
    "#adata_10 = sc.read_h5ad(file_path_twelve)\n"
   ]
  },
  {
   "cell_type": "markdown",
   "id": "525e0771-507e-4d9e-99d4-0f757ad3ddc1",
   "metadata": {
    "jp-MarkdownHeadingCollapsed": true
   },
   "source": [
    "### Granja <i> et al. </i> (2019) <i> Nature Biotechnology </i>\n",
    "Normalise (10 000 Counts per Cell) <br>\n",
    "Log <br>\n",
    "Annotate (Immune_All_Low and Immune_All_High) <br>\n",
    "Label Individual Cells then Clusters <br>\n",
    "Authors' Clusters are \"BioClassification\" <br>"
   ]
  },
  {
   "cell_type": "code",
   "execution_count": null,
   "id": "0f1286fc-1245-4520-8e1d-98a537d3a8b9",
   "metadata": {},
   "outputs": [],
   "source": [
    "# Predicts Cluster Type by Most Common Cell in Cluster\n",
    "# Normalize to 10,000 counts per cell\n",
    "sc.pp.normalize_total(adata_0, target_sum=1e4)\n",
    "\n",
    "# Log1p transform\n",
    "sc.pp.log1p(adata_0)\n",
    "\n",
    "# Run CellTypist Annotation on Single Cells (Immune_All_Low.pkl or Immune_All_high.pkl)\n",
    "results = celltypist.annotate(adata_0, model='Immune_All_Low.pkl')\n",
    "\n",
    "# Add predicted labels to the original AnnData object\n",
    "adata_0.obs['celltypist_labels'] = results.predicted_labels.predicted_labels\n",
    "\n",
    "# Compute the most common celltypist label in each cluster\n",
    "cluster_map = (\n",
    "    adata_0.obs\n",
    "    .groupby('BioClassification')['celltypist_labels']\n",
    "    .agg(lambda x: x.value_counts().idxmax())\n",
    ")\n",
    "\n",
    "# Map cluster labels to each cell\n",
    "adata_0.obs['cluster_cell_type'] = adata_0.obs['BioClassification'].map(cluster_map)"
   ]
  },
  {
   "cell_type": "code",
   "execution_count": null,
   "id": "9a752c5a-6098-4cdc-bf96-6fd3ed260972",
   "metadata": {},
   "outputs": [],
   "source": [
    "# Cell Level Cluster Annotations in Tabular Format\n",
    "# Visualise\n",
    "adata_0.obs[['BioClassification', 'cluster_cell_type']].head(n=5)\n",
    "\n",
    "# Cluster Level Cluster Annotations in Tabular Format\n",
    "# Create a DataFrame of cluster IDs and their assigned cell type\n",
    "cluster_assignments = (\n",
    "    adata_0.obs[['BioClassification', 'cluster_cell_type']]\n",
    "    .drop_duplicates()\n",
    "    .sort_values('BioClassification')\n",
    "    .reset_index(drop=True)\n",
    ")\n",
    "# Visualise\n",
    "cluster_assignments.head(n=5)\n",
    "# Save as CSV\n",
    "cluster_assignments.to_csv(\"/Users/alexantill/Göran_Karlsson_Lab/benchLLM/Granja_et_al/author_vs_celltypist_Roy_Immune_All_Low_new.csv\", index=False)"
   ]
  },
  {
   "cell_type": "markdown",
   "id": "c2c07b86-2b16-442a-8fc7-4d1b0ca53efa",
   "metadata": {
    "jp-MarkdownHeadingCollapsed": true
   },
   "source": [
    "### Jardine <i> et al.</i> (2021) <i> Nature </i>\n",
    "Normalise (10 000 Counts per Cell) <br>\n",
    "Log <br>\n",
    "Annotate (Immune_All_Low and Immune_All_High) <br>\n",
    "Label Individual Cells then Clusters <br>\n",
    "Authors' Clusters are \"cell.labels\" <br>"
   ]
  },
  {
   "cell_type": "code",
   "execution_count": null,
   "id": "e53966e4-89ea-4c6a-9896-b3244f3af608",
   "metadata": {},
   "outputs": [],
   "source": [
    "# Normalize to 10,000 counts per cell\n",
    "sc.pp.normalize_total(adata_1, target_sum=1e4)\n",
    "\n",
    "# Log1p transform\n",
    "sc.pp.log1p(adata_1)\n",
    "\n",
    "# Run CellTypist Annotation on Single Cells (Immune_All_Low.pkl or Immune_All_high.pkl)\n",
    "results = celltypist.annotate(adata_1, model='Immune_All_Low.pkl')\n",
    "\n",
    "# Add predicted labels to the original AnnData object\n",
    "adata_1.obs['celltypist_labels'] = results.predicted_labels.predicted_labels\n",
    "\n",
    "# Compute the most common celltypist label in each cluster\n",
    "cluster_map = (\n",
    "    adata_1.obs\n",
    "    .groupby('cell.labels')['celltypist_labels']\n",
    "    .agg(lambda x: x.value_counts().idxmax())\n",
    ")\n",
    "\n",
    "# Map cluster labels to each cell\n",
    "adata_1.obs['cluster_cell_type'] = adata_1.obs['cell.labels'].map(cluster_map)"
   ]
  },
  {
   "cell_type": "code",
   "execution_count": null,
   "id": "78de8e47-f652-401d-bdaf-bbba1c6a29b9",
   "metadata": {},
   "outputs": [],
   "source": [
    "# Cell Level Cluster Annotations in Tabular Format\n",
    "# Visualise\n",
    "adata_1.obs[['cell.labels', 'cluster_cell_type']].head(n=5)\n",
    "\n",
    "# Cluster Level Cluster Annotations in Tabular Format\n",
    "# Create a DataFrame of cluster IDs and their assigned cell type\n",
    "cluster_assignments = (\n",
    "    adata_1.obs[['cell.labels', 'cluster_cell_type']]\n",
    "    .drop_duplicates()\n",
    "    .sort_values('cell.labels')\n",
    "    .reset_index(drop=True)\n",
    ")\n",
    "# Visualise\n",
    "cluster_assignments.head(n=5)\n",
    "# Save as CSV\n",
    "cluster_assignments.to_csv(\"/Users/alexantill/Göran_Karlsson_Lab/benchLLM/Jardine_et_al/author_vs_celltypist_Jardine_Immune_All_High.csv\", index=False)"
   ]
  },
  {
   "attachments": {},
   "cell_type": "markdown",
   "id": "167a1d0b-97b9-4757-9993-6ce82586ddfc",
   "metadata": {
    "jp-MarkdownHeadingCollapsed": true
   },
   "source": [
    "### Roy <i> et al. </i> (2021) <i> Cell Reports </i>\n",
    "Normalise (10 000 Counts per Cell) <br>\n",
    "Log <br>\n",
    "Annotate (Immune_All_Low and Immune_All_High) <br>\n",
    "Label Individual Cells then Clusters <br>\n",
    "Authors' Clusters are \"cell_type\" <br>"
   ]
  },
  {
   "cell_type": "code",
   "execution_count": null,
   "id": "009bb89d-1e79-4397-9027-d41b1816d1e5",
   "metadata": {},
   "outputs": [],
   "source": [
    "# Normalize to 10,000 counts per cell\n",
    "sc.pp.normalize_total(adata_4, target_sum=1e4)\n",
    "\n",
    "# Log1p transform\n",
    "sc.pp.log1p(adata_4)\n",
    "\n",
    "# Run CellTypist Annotation on Single Cells (Immune_All_Low.pkl or Immune_All_high.pkl)\n",
    "results = celltypist.annotate(adata_4, model='Immune_All_Low.pkl')\n",
    "\n",
    "# Add predicted labels to the original AnnData object\n",
    "adata_4.obs['celltypist_labels'] = results.predicted_labels.predicted_labels\n",
    "\n",
    "# Compute the most common celltypist label in each cluster\n",
    "cluster_map = (\n",
    "    adata_4.obs\n",
    "    .groupby('cell_type')['celltypist_labels']\n",
    "    .agg(lambda x: x.value_counts().idxmax())\n",
    ")\n",
    "\n",
    "# Map cluster labels to each cell\n",
    "adata_4.obs['cluster_cell_type'] = adata_4.obs['cell_type'].map(cluster_map)"
   ]
  },
  {
   "cell_type": "code",
   "execution_count": null,
   "id": "69d5bf08-ef0c-41ef-b5c2-8f0c58a2040b",
   "metadata": {},
   "outputs": [],
   "source": [
    "# Cell Level Cluster Annotations in Tabular Format\n",
    "# Visualise\n",
    "adata_4.obs[['cell_type', 'cluster_cell_type']].head(n=5)\n",
    "\n",
    "# Cluster Level Cluster Annotations in Tabular Format\n",
    "# Create a DataFrame of cluster IDs and their assigned cell type\n",
    "cluster_assignments = (\n",
    "    adata_4.obs[['cell_type', 'cluster_cell_type']]\n",
    "    .drop_duplicates()\n",
    "    .sort_values('cell_type')\n",
    "    .reset_index(drop=True)\n",
    ")\n",
    "# Visualise\n",
    "cluster_assignments.head(n=5)\n",
    "# Save as CSV\n",
    "cluster_assignments.to_csv(\"/Users/alexantill/Göran_Karlsson_Lab/benchLLM/Roy_et_al/author_vs_celltypist_Roy_Immune_All_Low.csv\", index=False)"
   ]
  },
  {
   "attachments": {},
   "cell_type": "markdown",
   "id": "75692319-cbdb-4d7d-8b5a-36708203c024",
   "metadata": {
    "jp-MarkdownHeadingCollapsed": true
   },
   "source": [
    "### De Simone <i> et al. </i> (2025) <i> Nucleic Acids Research </i>\n",
    "Normalise (10 000 Counts per Cell) <br>\n",
    "Log <br>\n",
    "Annotate (Immune_All_Low and Immune_All_High) <br>\n",
    "Label Individual Cells then Clusters <br>\n",
    "Authors' Clusters are \"cell_type\" <br>\n",
    "<b> HAVE NOT FIXED (NEED TO USE gene_name NOT ensemble_ID) </b>"
   ]
  },
  {
   "cell_type": "code",
   "execution_count": null,
   "id": "058846b8-b6f1-4534-8cbb-671ed20dbb60",
   "metadata": {},
   "outputs": [],
   "source": [
    "# Normalize to 10,000 counts per cell\n",
    "sc.pp.normalize_total(adata_10, target_sum=1e4)\n",
    "\n",
    "# Log1p transform\n",
    "sc.pp.log1p(adata_10)\n",
    "\n",
    "# Backup original Ensemble IDs\n",
    "adata_10.var['ensembl_id'] = adata_10.var_names\n",
    "\n",
    "# Replace var_names with Gene Symbols\n",
    "adata_10.var_names = adata_10.var['gene_name']\n",
    "\n",
    "# Run CellTypist Annotation on Single Cells (Immune_All_Low.pkl or Immune_All_high.pkl)\n",
    "results = celltypist.annotate(adata_10, model='Immune_All_Low.pkl')\n",
    "\n",
    "# Add predicted labels to the original AnnData object\n",
    "adata_10.obs['celltypist_labels'] = results.predicted_labels.predicted_labels\n",
    "\n",
    "# Compute the most common celltypist label in each cluster\n",
    "cluster_map = (\n",
    "    adata_10.obs\n",
    "    .groupby('cell_type')['celltypist_labels']\n",
    "    .agg(lambda x: x.value_counts().idxmax())\n",
    ")\n",
    "\n",
    "# Map cluster labels to each cell\n",
    "adata_10.obs['cluster_cell_type'] = adata_10.obs['cell_type'].map(cluster_map)"
   ]
  },
  {
   "cell_type": "code",
   "execution_count": null,
   "id": "a7c23f1f-fae4-44af-82be-f1be645ac15b",
   "metadata": {},
   "outputs": [],
   "source": [
    "# Cell Level Cluster Annotations in Tabular Format\n",
    "# Visualise\n",
    "adata_10.obs[['cell_type', 'cluster_cell_type']].head(n=5)\n",
    "\n",
    "# Cluster Level Cluster Annotations in Tabular Format\n",
    "# Create a DataFrame of cluster IDs and their assigned cell type\n",
    "cluster_assignments = (\n",
    "    adata_10.obs[['cell_type', 'cluster_cell_type']]\n",
    "    .drop_duplicates()\n",
    "    .sort_values('cell_type')\n",
    "    .reset_index(drop=True)\n",
    ")\n",
    "# Visualise\n",
    "cluster_assignments.head(n=5)\n",
    "# Save as CSV\n",
    "cluster_assignments.to_csv(\"/Users/alexantill/Göran_Karlsson_Lab/benchLLM/Simone_et_al/author_vs_celltypist_Simone_Immune_All_Low.csv\", index=False)"
   ]
  },
  {
   "attachments": {},
   "cell_type": "markdown",
   "id": "9407d042-8afc-467f-accd-9f4c7df2efcc",
   "metadata": {
    "jp-MarkdownHeadingCollapsed": true
   },
   "source": [
    "### Heimlich <i> et al. </i> (2024) <i> Blood Advances </i>\n",
    "Normalise (10 000 Counts per Cell) <br>\n",
    "Log <br>\n",
    "Annotate (Immune_All_Low and Immune_All_High) <br>\n",
    "Label Individual Cells then Clusters <br>\n",
    "Authors' Clusters are \"cell_type\" <br>\n",
    "<b> gene_name TO REMOVE ENSEMBLE_IDs IS JUST A GUESS FIND ACTUAL VARIABLE NAME </b>\n"
   ]
  },
  {
   "cell_type": "code",
   "execution_count": null,
   "id": "328ac81e-3083-41bb-b7f7-40eb99933ac4",
   "metadata": {},
   "outputs": [],
   "source": [
    "# Normalize to 10,000 counts per cell\n",
    "sc.pp.normalize_total(adata_2, target_sum=1e4)\n",
    "\n",
    "# Log1p transform\n",
    "sc.pp.log1p(adata_2)\n",
    "\n",
    "# Backup original Ensemble IDs\n",
    "adata_2.var['ensembl_id'] = adata_2.var_names\n",
    "\n",
    "# Replace var_names with Gene Symbols\n",
    "adata_2.var_names = adata_2.var['gene_name']\n",
    "\n",
    "# Run CellTypist Annotation on Single Cells (Immune_All_Low.pkl or Immune_All_high.pkl)\n",
    "results = celltypist.annotate(adata_2, model='Immune_All_Low.pkl')\n",
    "\n",
    "# Add predicted labels to the original AnnData object\n",
    "adata_2.obs['celltypist_labels'] = results.predicted_labels.predicted_labels\n",
    "\n",
    "# Compute the most common celltypist label in each cluster\n",
    "cluster_map = (\n",
    "    adata_2.obs\n",
    "    .groupby('cell_type')['celltypist_labels']\n",
    "    .agg(lambda x: x.value_counts().idxmax())\n",
    ")\n",
    "\n",
    "# Map cluster labels to each cell\n",
    "adata_2.obs['cluster_cell_type'] = adata_2.obs['cell_type'].map(cluster_map)"
   ]
  },
  {
   "cell_type": "code",
   "execution_count": null,
   "id": "dfc5201e-0b2a-448f-bec4-58f18ac6b95f",
   "metadata": {},
   "outputs": [],
   "source": [
    "# Cell Level Cluster Annotations in Tabular Format\n",
    "# Visualise\n",
    "adata_2.obs[['cell_type', 'cluster_cell_type']].head(n=5)\n",
    "\n",
    "# Cluster Level Cluster Annotations in Tabular Format\n",
    "# Create a DataFrame of cluster IDs and their assigned cell type\n",
    "cluster_assignments = (\n",
    "    adata_2.obs[['cell_type', 'cluster_cell_type']]\n",
    "    .drop_duplicates()\n",
    "    .sort_values('cell_type')\n",
    "    .reset_index(drop=True)\n",
    ")\n",
    "# Visualise\n",
    "cluster_assignments.head(n=5)\n",
    "# Save as CSV\n",
    "cluster_assignments.to_csv(\"/Users/alexantill/Göran_Karlsson_Lab/benchLLM/Simone_et_al/author_vs_celltypist_Simone_Immune_All_Low.csv\", index=False)"
   ]
  }
 ],
 "metadata": {
  "kernelspec": {
   "display_name": "Python 3 (ipykernel)",
   "language": "python",
   "name": "python3"
  },
  "language_info": {
   "codemirror_mode": {
    "name": "ipython",
    "version": 3
   },
   "file_extension": ".py",
   "mimetype": "text/x-python",
   "name": "python",
   "nbconvert_exporter": "python",
   "pygments_lexer": "ipython3",
   "version": "3.12.10"
  }
 },
 "nbformat": 4,
 "nbformat_minor": 5
}
