{
 "cells": [
  {
   "cell_type": "code",
   "execution_count": 1,
   "id": "f5a981d6-97ce-486b-ba5a-9a4f41c1a1e1",
   "metadata": {},
   "outputs": [],
   "source": [
    "import pandas as pd\n",
    "import numpy as np\n",
    "import os\n",
    "import glob\n",
    "import re\n",
    "from rapidfuzz import process\n",
    "from owlready2 import get_ontology"
   ]
  },
  {
   "cell_type": "code",
   "execution_count": 2,
   "id": "3590078c-322a-4b64-a39c-0eb74719a6b7",
   "metadata": {},
   "outputs": [
    {
     "name": "stdout",
     "output_type": "stream",
     "text": [
      "Loading Cell Ontology (OWL)...\n",
      "Ontology loaded.\n"
     ]
    }
   ],
   "source": [
    "# Load Cell Ontology Map (OWL)\n",
    "print(\"Loading Cell Ontology (OWL)...\")\n",
    "G = get_ontology(\"http://purl.obolibrary.org/obo/cl.owl\").load()\n",
    "print(\"Ontology loaded.\")"
   ]
  },
  {
   "cell_type": "code",
   "execution_count": 3,
   "id": "a5190de0-ff24-4366-a401-bb60815c350f",
   "metadata": {},
   "outputs": [],
   "source": [
    "base_dirs = [\n",
    "    #os.path.expanduser(\"~/Göran_Karlsson_Lab/benchLLM/Heimlich_et_al\"),\n",
    "    #os.path.expanduser(\"~/Göran_Karlsson_Lab/benchLLM/Granja_et_al\"),\n",
    "    #os.path.expanduser(\"~/Göran_Karlsson_Lab/benchLLM/Simone_et_al\"),\n",
    "    #os.path.expanduser(\"~/Göran_Karlsson_Lab/benchLLM/Jardine_et_al\"),\n",
    "    #os.path.expanduser(\"~/Göran_Karlsson_Lab/benchLLM/Roy_et_al\"),\n",
    "    os.path.expanduser(\"~/Göran_Karlsson_Lab/benchLLM/Zhang_et_al\")\n",
    "]"
   ]
  },
  {
   "cell_type": "code",
   "execution_count": 9,
   "id": "37f5c27b-2dfe-44dc-b59b-7593dc2432e6",
   "metadata": {},
   "outputs": [
    {
     "name": "stdout",
     "output_type": "stream",
     "text": [
      "\n",
      "Processing: cluster_descriptions_with_author.csv as General Annotation\n",
      "\n",
      "✅ Similarity results saved to: ~/Göran_Karlsson_Lab/benchLLM/Zhang_et_al/llm_pairwise_similarity.csv\n"
     ]
    }
   ],
   "source": [
    "def get_ancestors(cls):\n",
    "    return set(cls.ancestors()) if cls else set()\n",
    "\n",
    "def semantic_similarity(id1, id2, G):\n",
    "    if id1 is None or id2 is None:\n",
    "        return 0\n",
    "    class1 = G.search_one(iri=\"*\" + id1.replace(\":\", \"_\"))\n",
    "    class2 = G.search_one(iri=\"*\" + id2.replace(\":\", \"_\"))\n",
    "    if not class1 or not class2:\n",
    "        return 0\n",
    "    ancestors1 = get_ancestors(class1)\n",
    "    ancestors2 = get_ancestors(class2)\n",
    "    intersection = ancestors1 & ancestors2\n",
    "    union = ancestors1 | ancestors2\n",
    "    return len(intersection) / len(union) if union else 0\n",
    "\n",
    "def cluster_semantic_similarity(set1, set2, G):\n",
    "    if not set1 or not set2:\n",
    "        return 0\n",
    "    scores = []\n",
    "    for t1 in set1:\n",
    "        for t2 in set2:\n",
    "            sim = semantic_similarity(t1, t2, G)\n",
    "            scores.append(sim)\n",
    "    return sum(scores) / len(scores) if scores else 0\n",
    "\n",
    "output_rows = []\n",
    "\n",
    "for base_dir in base_dirs:\n",
    "    input_pattern = os.path.join(base_dir, \"*_with_author.csv\")\n",
    "    for file_path in glob.glob(input_pattern):\n",
    "        basename = os.path.basename(file_path)\n",
    "        if '_similarity' in basename:\n",
    "            continue\n",
    "\n",
    "        print(f'\\nProcessing: {basename} as General Annotation')\n",
    "        df = pd.read_csv(file_path, sep=';')\n",
    "\n",
    "        grouped = df.groupby(['LLM', 'Author Label'])['Ontology Term'].apply(set).reset_index()\n",
    "\n",
    "        llm_cluster_terms = {}\n",
    "        for _, row in grouped.iterrows():\n",
    "            llm = row['LLM']\n",
    "            cluster = row['Author Label']\n",
    "            terms = row['Ontology Term']\n",
    "            llm_cluster_terms.setdefault(llm, {})[cluster] = terms\n",
    "\n",
    "        def compute_llm_similarity(llm1, llm2):\n",
    "            clusters1 = llm_cluster_terms.get(llm1, {})\n",
    "            clusters2 = llm_cluster_terms.get(llm2, {})\n",
    "            common_clusters = set(clusters1.keys()) & set(clusters2.keys())\n",
    "            if not common_clusters:\n",
    "                print(f\"No common clusters between {llm1} and {llm2}\")\n",
    "                return 0\n",
    "\n",
    "            similarities = []\n",
    "            for cid in sorted(common_clusters):\n",
    "                set1 = clusters1[cid]\n",
    "                set2 = clusters2[cid]\n",
    "                sim = cluster_semantic_similarity(set1, set2, G)\n",
    "                similarities.append(sim)\n",
    "\n",
    "                output_rows.append({\n",
    "                    \"LLM1\": llm1,\n",
    "                    \"LLM2\": llm2,\n",
    "                    \"Cluster\": cid,\n",
    "                    \"Similarity\": round(sim, 4),\n",
    "                    \"LLM1_terms\": \", \".join(sorted(set1)),\n",
    "                    \"LLM2_terms\": \", \".join(sorted(set2))\n",
    "                })\n",
    "\n",
    "            overall_sim = sum(similarities) / len(similarities)\n",
    "            output_rows.append({\n",
    "                \"LLM1\": llm1,\n",
    "                \"LLM2\": llm2,\n",
    "                \"Cluster\": \"OVERALL\",\n",
    "                \"Similarity\": round(overall_sim, 4),\n",
    "                \"LLM1_terms\": \"\",\n",
    "                \"LLM2_terms\": \"\"\n",
    "            })\n",
    "            return overall_sim\n",
    "\n",
    "        # Pairwise comparison for all LLMs\n",
    "        llms = list(llm_cluster_terms.keys())\n",
    "        for i in range(len(llms)):\n",
    "            for j in range(i + 1, len(llms)):\n",
    "                compute_llm_similarity(llms[i], llms[j])\n",
    "\n",
    "# Save to CSV\n",
    "output_df = pd.DataFrame(output_rows)\n",
    "output_csv_path = \"~/Göran_Karlsson_Lab/benchLLM/Zhang_et_al/llm_pairwise_similarity.csv\"\n",
    "output_df.to_csv(output_csv_path, index=False)\n",
    "print(f\"\\n✅ Similarity results saved to: {output_csv_path}\")\n"
   ]
  }
 ],
 "metadata": {
  "kernelspec": {
   "display_name": "Python (benchLLM)",
   "language": "python",
   "name": "benchllm"
  },
  "language_info": {
   "codemirror_mode": {
    "name": "ipython",
    "version": 3
   },
   "file_extension": ".py",
   "mimetype": "text/x-python",
   "name": "python",
   "nbconvert_exporter": "python",
   "pygments_lexer": "ipython3",
   "version": "3.12.10"
  }
 },
 "nbformat": 4,
 "nbformat_minor": 5
}
